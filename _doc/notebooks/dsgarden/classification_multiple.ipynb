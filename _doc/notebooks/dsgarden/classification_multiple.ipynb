{
  "cells": [
    {
      "cell_type": "markdown",
      "metadata": {},
      "source": [
        "# Classification multiple\n",
        "\n",
        "Explorations autour d'un probl\u00e8me de classification multiple."
      ]
    },
    {
      "cell_type": "code",
      "execution_count": null,
      "metadata": {
        "collapsed": false
      },
      "outputs": [
        {
          "data": {
            "text/html": [
              "<div id=\"my_id_menu_nb\">run previous cell, wait for 2 seconds</div>\n",
              "<script>\n",
              "function repeat_indent_string(n){\n",
              "    var a = \"\" ;\n",
              "    for ( ; n > 0 ; --n) {\n",
              "        a += \"    \";\n",
              "    }\n",
              "    return a;\n",
              "}\n",
              "var update_menu_string = function(begin, lfirst, llast, sformat, send, keep_item) {\n",
              "    var anchors = document.getElementsByClassName(\"section\");\n",
              "    if (anchors.length == 0) {\n",
              "        anchors = document.getElementsByClassName(\"text_cell_render rendered_html\");\n",
              "    }\n",
              "    var i,t;\n",
              "    var text_menu = begin;\n",
              "    var text_memo = \"<pre>\\nlength:\" + anchors.length + \"\\n\";\n",
              "    var ind = \"\";\n",
              "    var memo_level = 1;\n",
              "    var href;\n",
              "    var tags = [];\n",
              "    var main_item = 0;\n",
              "    for (i = 0; i <= llast; i++) {\n",
              "        tags.push(\"h\" + i);\n",
              "    }\n",
              "\n",
              "    for (i = 0; i < anchors.length; i++) {\n",
              "        text_memo += \"**\" + anchors[i].id + \"--\\n\";\n",
              "\n",
              "        var child = null;\n",
              "        for(t = 0; t < tags.length; t++) {\n",
              "            var r = anchors[i].getElementsByTagName(tags[t]);\n",
              "            if (r.length > 0) {\n",
              "child = r[0];\n",
              "break;\n",
              "            }\n",
              "        }\n",
              "        if (child == null){\n",
              "            text_memo += \"null\\n\";\n",
              "            continue;\n",
              "        }\n",
              "        if (anchors[i].hasAttribute(\"id\")) {\n",
              "            // when converted in RST\n",
              "            href = anchors[i].id;\n",
              "            text_memo += \"#1-\" + href;\n",
              "            // passer \u00e0 child suivant (le chercher)\n",
              "        }\n",
              "        else if (child.hasAttribute(\"id\")) {\n",
              "            // in a notebook\n",
              "            href = child.id;\n",
              "            text_memo += \"#2-\" + href;\n",
              "        }\n",
              "        else {\n",
              "            text_memo += \"#3-\" + \"*\" + \"\\n\";\n",
              "            continue;\n",
              "        }\n",
              "        var title = child.textContent;\n",
              "        var level = parseInt(child.tagName.substring(1,2));\n",
              "\n",
              "        text_memo += \"--\" + level + \"?\" + lfirst + \"--\" + title + \"\\n\";\n",
              "\n",
              "        if ((level < lfirst) || (level > llast)) {\n",
              "            continue ;\n",
              "        }\n",
              "        if (title.endsWith('\u00b6')) {\n",
              "            title = title.substring(0,title.length-1).replace(\"<\", \"&lt;\").replace(\">\", \"&gt;\").replace(\"&\", \"&amp;\")\n",
              "        }\n",
              "\n",
              "        if (title.length == 0) {\n",
              "            continue;\n",
              "        }\n",
              "\n",
              "        while (level < memo_level) {\n",
              "            text_menu += \"</ul>\\n\";\n",
              "            memo_level -= 1;\n",
              "        }\n",
              "        if (level == lfirst) {\n",
              "            main_item += 1;\n",
              "        }\n",
              "        if (keep_item != -1 && main_item != keep_item + 1) {\n",
              "            // alert(main_item + \" - \" + level + \" - \" + keep_item);\n",
              "            continue;\n",
              "        }\n",
              "        while (level > memo_level) {\n",
              "            text_menu += \"<ul>\\n\";\n",
              "            memo_level += 1;\n",
              "        }\n",
              "        text_menu += repeat_indent_string(level-2) + sformat.replace(\"__HREF__\", href).replace(\"__TITLE__\", title);\n",
              "    }\n",
              "    while (1 < memo_level) {\n",
              "        text_menu += \"</ul>\\n\";\n",
              "        memo_level -= 1;\n",
              "    }\n",
              "    text_menu += send;\n",
              "    //text_menu += \"\\n\" + text_memo;\n",
              "    return text_menu;\n",
              "};\n",
              "var update_menu = function() {\n",
              "    var sbegin = \"\";\n",
              "    var sformat = '<li><a href=\"#__HREF__\">__TITLE__</a></li>';\n",
              "    var send = \"\";\n",
              "    var keep_item = -1;\n",
              "    var text_menu = update_menu_string(sbegin, 2, 4, sformat, send, keep_item);\n",
              "    var menu = document.getElementById(\"my_id_menu_nb\");\n",
              "    menu.innerHTML=text_menu;\n",
              "};\n",
              "window.setTimeout(update_menu,2000);\n",
              "            </script>"
            ],
            "text/plain": [
              "<IPython.core.display.HTML object>"
            ]
          },
          "execution_count": null,
          "metadata": {},
          "output_type": "execute_result"
        }
      ],
      "source": [
        "from jyquickhelper import add_notebook_menu\n",
        "add_notebook_menu()"
      ]
    },
    {
      "cell_type": "markdown",
      "metadata": {},
      "source": [
        "## D\u00e9but de l'histoire"
      ]
    },
    {
      "cell_type": "markdown",
      "metadata": {},
      "source": [
        "### Confusions\n",
        "\n",
        "Un ds premiers r\u00e9flexes apr\u00e8s avoir appris une classification multi-classe est de regarder la [matrice de confusion](https://fr.wikipedia.org/wiki/Matrice_de_confusion). Certaines classes sont difficiles \u00e0 classer, d'autres non. Je me demandais s'il existait un moyen de d\u00e9terminer cela sans apprendre un classifieur. On souhaite apprendre la classification des points $(X_i, y_i)$, $X_i$ est un vecteur, $y_i$ la classe attendue. Si $\\hat{y_i}$ est la classe pr\u00e9dite, l'erreur de classification est :\n",
        "\n",
        "$$E=\\sum_i \\mathbb{1}_{y_i \\neq \\hat{y_i}}$$\n",
        "\n",
        "On note $c_{ij} = \\mathbb{1}_{y_i = j}$ et $\\hat{c_{ij}} = \\mathbb{1}_{\\hat{y_i} = j}$. On note le vecteur $C_j=(c_{ij})_i$ et $\\hat{C_j}=(\\hat{c_{ij}})_i$. On peut r\u00e9\u00e9crire l'erreur comme :\n",
        "\n",
        "$$E=\\sum_{ij} \\mathbb{1}_{y_i = j} \\mathbb{1}_{\\hat{y_i} \\neq j} =\\sum_{ij} \\mathbb{1}_{y_i = j} (1-\\mathbb{1}_{\\hat{y_i} = j})  =\\sum_{ij} c_{ij} (1-\\hat{c_{ij}})= \\sum_j < C_j , 1-\\hat{C_j}>$$\n",
        "\n",
        "C'est aussi \u00e9gal \u00e0 :\n",
        "\n",
        "$$E = \\sum_{k \\neq j} <C_j , \\hat{C_k}>$$\n",
        "\n",
        "Et $<C_j,\\hat{C_k}>$ correspond au nombre d'erreurs de confusion : le nombre d'\u00e9l\u00e9ments de la classe $j$ class\u00e9s dans la classe $k$. $<C_j,\\hat{C_k}>$ est le nombre d'\u00e9l\u00e9ments correctement class\u00e9s dans la classe $j$. On peut montrer que $$\\sum_{k, j} <C_j , \\hat{C_k}> = N$$ o\u00f9 $N$ est le nombre d'observations."
      ]
    },
    {
      "cell_type": "markdown",
      "metadata": {},
      "source": [
        "### Clustering\n",
        "\n",
        "Et si nous introduisions un clustering interm\u00e9diaire. On construit $Q$ cluster, $q_i$ est le cluster du point $X_i$ et on note $d_{il} = \\mathbb{1}_{q_i = l}$ et le vecteur $D_l=(d_{il})_i$.\n",
        "\n",
        "$$E = \\sum_{k \\neq j} <C_j , \\hat{C_k}>$$\n",
        "\n",
        "On note $X.Y$ le produit terme \u00e0 terme de deux vecteurs.\n",
        "\n",
        "$$E = \\sum_{k \\neq j, l } <C_j.D_l , \\hat{C_k}> = \\sum_{k \\neq j, l } <C_j.D_l , \\hat{C_k}.D_l>$$\n",
        "\n",
        "Le nombre d'erreurs est la somme des erreurs faites sur chaque cluster. Supposons maintenant qu'un classifieur retourne une r\u00e9ponse constante sur chacun des clusters, on choisit la classe plus repr\u00e9sent\u00e9e. Ca ressemble beaucoup \u00e0 un [classifieur bay\u00e9sien](http://scikit-learn.org/stable/modules/naive_bayes.html). On note $f(l)$ cette classe la plus repr\u00e9sent\u00e9e. Elle v\u00e9rifie :\n",
        "\n",
        "$$f(l) = \\arg \\max_j <C_j,D_l>$$\n",
        "\n",
        "On continue :\n",
        "\n",
        "$$E = \\sum_{j, l } <C_j.D_l , \\hat{C_{f(l)}}.D_l> \\mathbb{1}_{j\\neq f(l)}$$"
      ]
    },
    {
      "cell_type": "code",
      "execution_count": null,
      "metadata": {
        "collapsed": true
      },
      "outputs": [],
      "source": []
    },
    {
      "cell_type": "code",
      "execution_count": null,
      "metadata": {
        "collapsed": true
      },
      "outputs": [],
      "source": []
    }
  ],
  "metadata": {
    "kernelspec": {
      "display_name": "Python 3",
      "language": "python",
      "name": "python3"
    },
    "language_info": {
      "codemirror_mode": {
        "name": "ipython",
        "version": 3
      },
      "file_extension": ".py",
      "mimetype": "text/x-python",
      "name": "python",
      "nbconvert_exporter": "python",
      "pygments_lexer": "ipython3",
      "version": "3.6.0"
    }
  },
  "nbformat": 4,
  "nbformat_minor": 2
}