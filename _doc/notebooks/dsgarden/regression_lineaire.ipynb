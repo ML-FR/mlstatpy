{
  "cells": [
    {
      "cell_type": "markdown",
      "metadata": {},
      "source": [
        "# R\u00e9gression lin\u00e9aire rapide\n",
        "\n",
        "Interpr\u00e9ter rapidement les r\u00e9sultats d'une r\u00e9gression lin\u00e9aire."
      ]
    },
    {
      "cell_type": "code",
      "execution_count": 1,
      "metadata": {},
      "outputs": [
        {
          "data": {
            "text/html": [
              "<div id=\"my_id_menu_nb\">run previous cell, wait for 2 seconds</div>\n",
              "<script>\n",
              "function repeat_indent_string(n){\n",
              "    var a = \"\" ;\n",
              "    for ( ; n > 0 ; --n)\n",
              "        a += \"    \";\n",
              "    return a;\n",
              "}\n",
              "var update_menu_string = function(begin, lfirst, llast, sformat, send, keep_item, begin_format, end_format) {\n",
              "    var anchors = document.getElementsByClassName(\"section\");\n",
              "    if (anchors.length == 0) {\n",
              "        anchors = document.getElementsByClassName(\"text_cell_render rendered_html\");\n",
              "    }\n",
              "    var i,t;\n",
              "    var text_menu = begin;\n",
              "    var text_memo = \"<pre>\\nlength:\" + anchors.length + \"\\n\";\n",
              "    var ind = \"\";\n",
              "    var memo_level = 1;\n",
              "    var href;\n",
              "    var tags = [];\n",
              "    var main_item = 0;\n",
              "    var format_open = 0;\n",
              "    for (i = 0; i <= llast; i++)\n",
              "        tags.push(\"h\" + i);\n",
              "\n",
              "    for (i = 0; i < anchors.length; i++) {\n",
              "        text_memo += \"**\" + anchors[i].id + \"--\\n\";\n",
              "\n",
              "        var child = null;\n",
              "        for(t = 0; t < tags.length; t++) {\n",
              "            var r = anchors[i].getElementsByTagName(tags[t]);\n",
              "            if (r.length > 0) {\n",
              "child = r[0];\n",
              "break;\n",
              "            }\n",
              "        }\n",
              "        if (child == null) {\n",
              "            text_memo += \"null\\n\";\n",
              "            continue;\n",
              "        }\n",
              "        if (anchors[i].hasAttribute(\"id\")) {\n",
              "            // when converted in RST\n",
              "            href = anchors[i].id;\n",
              "            text_memo += \"#1-\" + href;\n",
              "            // passer \u00e0 child suivant (le chercher)\n",
              "        }\n",
              "        else if (child.hasAttribute(\"id\")) {\n",
              "            // in a notebook\n",
              "            href = child.id;\n",
              "            text_memo += \"#2-\" + href;\n",
              "        }\n",
              "        else {\n",
              "            text_memo += \"#3-\" + \"*\" + \"\\n\";\n",
              "            continue;\n",
              "        }\n",
              "        var title = child.textContent;\n",
              "        var level = parseInt(child.tagName.substring(1,2));\n",
              "\n",
              "        text_memo += \"--\" + level + \"?\" + lfirst + \"--\" + title + \"\\n\";\n",
              "\n",
              "        if ((level < lfirst) || (level > llast)) {\n",
              "            continue ;\n",
              "        }\n",
              "        if (title.endsWith('\u00b6')) {\n",
              "            title = title.substring(0,title.length-1).replace(\"<\", \"&lt;\")\n",
              "         .replace(\">\", \"&gt;\").replace(\"&\", \"&amp;\");\n",
              "        }\n",
              "        if (title.length == 0) {\n",
              "            continue;\n",
              "        }\n",
              "\n",
              "        while (level < memo_level) {\n",
              "            text_menu += end_format + \"</ul>\\n\";\n",
              "            format_open -= 1;\n",
              "            memo_level -= 1;\n",
              "        }\n",
              "        if (level == lfirst) {\n",
              "            main_item += 1;\n",
              "        }\n",
              "        if (keep_item != -1 && main_item != keep_item + 1) {\n",
              "            // alert(main_item + \" - \" + level + \" - \" + keep_item);\n",
              "            continue;\n",
              "        }\n",
              "        while (level > memo_level) {\n",
              "            text_menu += \"<ul>\\n\";\n",
              "            memo_level += 1;\n",
              "        }\n",
              "        text_menu += repeat_indent_string(level-2);\n",
              "        text_menu += begin_format + sformat.replace(\"__HREF__\", href).replace(\"__TITLE__\", title);\n",
              "        format_open += 1;\n",
              "    }\n",
              "    while (1 < memo_level) {\n",
              "        text_menu += end_format + \"</ul>\\n\";\n",
              "        memo_level -= 1;\n",
              "        format_open -= 1;\n",
              "    }\n",
              "    text_menu += send;\n",
              "    //text_menu += \"\\n\" + text_memo;\n",
              "\n",
              "    while (format_open > 0) {\n",
              "        text_menu += end_format;\n",
              "        format_open -= 1;\n",
              "    }\n",
              "    return text_menu;\n",
              "};\n",
              "var update_menu = function() {\n",
              "    var sbegin = \"\";\n",
              "    var sformat = '<a href=\"#__HREF__\">__TITLE__</a>';\n",
              "    var send = \"\";\n",
              "    var begin_format = '<li>';\n",
              "    var end_format = '</li>';\n",
              "    var keep_item = -1;\n",
              "    var text_menu = update_menu_string(sbegin, 2, 4, sformat, send, keep_item,\n",
              "       begin_format, end_format);\n",
              "    var menu = document.getElementById(\"my_id_menu_nb\");\n",
              "    menu.innerHTML=text_menu;\n",
              "};\n",
              "window.setTimeout(update_menu,2000);\n",
              "            </script>"
            ],
            "text/plain": [
              "<IPython.core.display.HTML object>"
            ]
          },
          "execution_count": 2,
          "metadata": {},
          "output_type": "execute_result"
        }
      ],
      "source": [
        "from jyquickhelper import add_notebook_menu\n",
        "add_notebook_menu()"
      ]
    },
    {
      "cell_type": "code",
      "execution_count": 2,
      "metadata": {},
      "outputs": [],
      "source": [
        "%matplotlib inline"
      ]
    },
    {
      "cell_type": "markdown",
      "metadata": {},
      "source": [
        "## Un cas simple\n",
        "\n",
        "Une fa\u00e7on d'interpr\u00e9ter des r\u00e9sultats statistiques est de les calculer dans un cas o\u00f9 la r\u00e9ponse cherch\u00e9e est connue. On simule un mod\u00e8le simple $Y=\\alpha X_1 + 0.X_2 + \\epsilon$ et on cale une r\u00e9gression lin\u00e9aire. On suppose que $X_1, X_2, \\epsilon$ sont des variables al\u00e9atoires gaussiennes de m\u00eame variance et moyenne."
      ]
    },
    {
      "cell_type": "code",
      "execution_count": 3,
      "metadata": {},
      "outputs": [
        {
          "data": {
            "text/plain": [
              "((1000, 3), (1000,))"
            ]
          },
          "execution_count": 4,
          "metadata": {},
          "output_type": "execute_result"
        }
      ],
      "source": [
        "import numpy.random as npr\n",
        "eps = npr.normal(1000)\n",
        "X = npr.normal(size=(1000, 3))\n",
        "alpha = 2\n",
        "Y = alpha * X[:,0] + X[:, 2]\n",
        "X.shape, Y.shape"
      ]
    },
    {
      "cell_type": "code",
      "execution_count": 4,
      "metadata": {},
      "outputs": [
        {
          "data": {
            "text/plain": [
              "array([[ 1.        , -0.01068338, -0.01481966],\n",
              "       [-0.01068338,  1.        ,  0.01684629],\n",
              "       [-0.01481966,  0.01684629,  1.        ]])"
            ]
          },
          "execution_count": 5,
          "metadata": {},
          "output_type": "execute_result"
        }
      ],
      "source": [
        "from numpy import corrcoef\n",
        "corrcoef(X.T)"
      ]
    },
    {
      "cell_type": "code",
      "execution_count": 5,
      "metadata": {},
      "outputs": [],
      "source": [
        "from statsmodels.regression.linear_model import OLS"
      ]
    },
    {
      "cell_type": "code",
      "execution_count": 6,
      "metadata": {},
      "outputs": [
        {
          "data": {
            "text/html": [
              "<table class=\"simpletable\">\n",
              "<caption>OLS Regression Results</caption>\n",
              "<tr>\n",
              "  <th>Dep. Variable:</th>            <td>y</td>        <th>  R-squared:         </th> <td>   0.794</td>\n",
              "</tr>\n",
              "<tr>\n",
              "  <th>Model:</th>                   <td>OLS</td>       <th>  Adj. R-squared:    </th> <td>   0.794</td>\n",
              "</tr>\n",
              "<tr>\n",
              "  <th>Method:</th>             <td>Least Squares</td>  <th>  F-statistic:       </th> <td>   1929.</td>\n",
              "</tr>\n",
              "<tr>\n",
              "  <th>Date:</th>             <td>Sun, 26 Nov 2017</td> <th>  Prob (F-statistic):</th>  <td>  0.00</td> \n",
              "</tr>\n",
              "<tr>\n",
              "  <th>Time:</th>                 <td>20:05:06</td>     <th>  Log-Likelihood:    </th> <td> -1411.4</td>\n",
              "</tr>\n",
              "<tr>\n",
              "  <th>No. Observations:</th>      <td>  1000</td>      <th>  AIC:               </th> <td>   2827.</td>\n",
              "</tr>\n",
              "<tr>\n",
              "  <th>Df Residuals:</th>          <td>   998</td>      <th>  BIC:               </th> <td>   2837.</td>\n",
              "</tr>\n",
              "<tr>\n",
              "  <th>Df Model:</th>              <td>     2</td>      <th>                     </th>     <td> </td>   \n",
              "</tr>\n",
              "<tr>\n",
              "  <th>Covariance Type:</th>      <td>nonrobust</td>    <th>                     </th>     <td> </td>   \n",
              "</tr>\n",
              "</table>\n",
              "<table class=\"simpletable\">\n",
              "<tr>\n",
              "   <td></td>     <th>coef</th>     <th>std err</th>      <th>t</th>      <th>P>|t|</th>  <th>[0.025</th>    <th>0.975]</th>  \n",
              "</tr>\n",
              "<tr>\n",
              "  <th>x1</th> <td>    1.9851</td> <td>    0.032</td> <td>   62.105</td> <td> 0.000</td> <td>    1.922</td> <td>    2.048</td>\n",
              "</tr>\n",
              "<tr>\n",
              "  <th>x2</th> <td>    0.0162</td> <td>    0.031</td> <td>    0.521</td> <td> 0.603</td> <td>   -0.045</td> <td>    0.077</td>\n",
              "</tr>\n",
              "</table>\n",
              "<table class=\"simpletable\">\n",
              "<tr>\n",
              "  <th>Omnibus:</th>       <td> 0.074</td> <th>  Durbin-Watson:     </th> <td>   2.008</td>\n",
              "</tr>\n",
              "<tr>\n",
              "  <th>Prob(Omnibus):</th> <td> 0.964</td> <th>  Jarque-Bera (JB):  </th> <td>   0.048</td>\n",
              "</tr>\n",
              "<tr>\n",
              "  <th>Skew:</th>          <td>-0.016</td> <th>  Prob(JB):          </th> <td>   0.976</td>\n",
              "</tr>\n",
              "<tr>\n",
              "  <th>Kurtosis:</th>      <td> 3.008</td> <th>  Cond. No.          </th> <td>    1.03</td>\n",
              "</tr>\n",
              "</table>"
            ],
            "text/plain": [
              "<class 'statsmodels.iolib.summary.Summary'>\n",
              "\"\"\"\n",
              "                            OLS Regression Results                            \n",
              "==============================================================================\n",
              "Dep. Variable:                      y   R-squared:                       0.794\n",
              "Model:                            OLS   Adj. R-squared:                  0.794\n",
              "Method:                 Least Squares   F-statistic:                     1929.\n",
              "Date:                Sun, 26 Nov 2017   Prob (F-statistic):               0.00\n",
              "Time:                        20:05:06   Log-Likelihood:                -1411.4\n",
              "No. Observations:                1000   AIC:                             2827.\n",
              "Df Residuals:                     998   BIC:                             2837.\n",
              "Df Model:                           2                                         \n",
              "Covariance Type:            nonrobust                                         \n",
              "==============================================================================\n",
              "                 coef    std err          t      P>|t|      [0.025      0.975]\n",
              "------------------------------------------------------------------------------\n",
              "x1             1.9851      0.032     62.105      0.000       1.922       2.048\n",
              "x2             0.0162      0.031      0.521      0.603      -0.045       0.077\n",
              "==============================================================================\n",
              "Omnibus:                        0.074   Durbin-Watson:                   2.008\n",
              "Prob(Omnibus):                  0.964   Jarque-Bera (JB):                0.048\n",
              "Skew:                          -0.016   Prob(JB):                        0.976\n",
              "Kurtosis:                       3.008   Cond. No.                         1.03\n",
              "==============================================================================\n",
              "\n",
              "Warnings:\n",
              "[1] Standard Errors assume that the covariance matrix of the errors is correctly specified.\n",
              "\"\"\""
            ]
          },
          "execution_count": 7,
          "metadata": {},
          "output_type": "execute_result"
        }
      ],
      "source": [
        "model = OLS(Y,X[:, :2])\n",
        "results = model.fit()\n",
        "su = results.summary()\n",
        "su"
      ]
    },
    {
      "cell_type": "code",
      "execution_count": 7,
      "metadata": {},
      "outputs": [
        {
          "data": {
            "text/plain": [
              "(0.79443989938509285, 0.79402795529568426)"
            ]
          },
          "execution_count": 8,
          "metadata": {},
          "output_type": "execute_result"
        }
      ],
      "source": [
        "results.rsquared, results.rsquared_adj"
      ]
    },
    {
      "cell_type": "markdown",
      "metadata": {},
      "source": [
        "On v\u00e9rifie que le coefficient devant $X_1$ est non nul (P-value nulle, 0 n'est pas l'intervalle de confiance). Le coefficient devant $X_2$ n'est pas nul mais presque, la P-value est \u00e9lev\u00e9e, le coefficient $R^2$ est \u00e9lev\u00e9. Dessinons."
      ]
    },
    {
      "cell_type": "code",
      "execution_count": 8,
      "metadata": {},
      "outputs": [
        {
          "data": {
            "text/plain": [
              "<matplotlib.axes._subplots.AxesSubplot at 0x242c28d1748>"
            ]
          },
          "execution_count": 9,
          "metadata": {},
          "output_type": "execute_result"
        },
        {
          "data": {
            "image/png": "[encoded data removed]",
            "text/plain": [
              "<matplotlib.figure.Figure at 0x242c27d68d0>"
            ]
          },
          "metadata": {},
          "output_type": "display_data"
        }
      ],
      "source": [
        "import matplotlib.pyplot as plt\n",
        "import seaborn\n",
        "fig, ax = plt.subplots(1, 2, figsize=(10,4))\n",
        "ax[0].plot(X[:, 0], Y, '.')\n",
        "seaborn.kdeplot(X[:, 0], Y, cmap=\"Reds\", shade=True, shade_lowest=False, ax=ax[1])"
      ]
    },
    {
      "cell_type": "markdown",
      "metadata": {},
      "source": [
        "## Evolution de R2\n",
        "\n",
        "Dans la r\u00e9gression pr\u00e9c\u00e9dente, le coefficient $R^2$ transcrit en quelque sorte la part du bruit $\\epsilon$ par rapport au terme $\\alpha X_1$. Faisons varier $\\alpha$."
      ]
    },
    {
      "cell_type": "code",
      "execution_count": 9,
      "metadata": {},
      "outputs": [],
      "source": [
        "alphas = []\n",
        "r2s = []\n",
        "for a in [0.1 * i for i in range(0, 50)]:\n",
        "    Y = a*X[:,0] + X[:, 2]\n",
        "    model = OLS(Y,X[:, :2])\n",
        "    results = model.fit()\n",
        "    alphas.append(a)\n",
        "    r2s.append(results.rsquared)"
      ]
    },
    {
      "cell_type": "code",
      "execution_count": 10,
      "metadata": {},
      "outputs": [
        {
          "data": {
            "text/plain": [
              "<matplotlib.legend.Legend at 0x242c5434358>"
            ]
          },
          "execution_count": 11,
          "metadata": {},
          "output_type": "execute_result"
        },
        {
          "data": {
            "image/png": "[encoded data removed]",
            "text/plain": [
              "<matplotlib.figure.Figure at 0x242c537c4e0>"
            ]
          },
          "metadata": {},
          "output_type": "display_data"
        }
      ],
      "source": [
        "fig, ax = plt.subplots(1, 1)\n",
        "ax.plot(alphas, r2s, '.', label=\"observed\")\n",
        "ax.plot(alphas, [a**2/(1+a**2) for a in alphas], label='theoretical')\n",
        "ax.set_xlabel(\"alpha\")\n",
        "ax.set_ylabel(\"r2\")\n",
        "ax.legend()"
      ]
    },
    {
      "cell_type": "markdown",
      "metadata": {},
      "source": [
        "Dans ce cas de r\u00e9gression simple, la valeur \u00e0 pr\u00e9dire est $y_i$, la valeur pr\u00e9dite est $\\hat{y_i}=\\alpha X_{1i}$ et la moyenne $\\bar{y} = \\alpha \\bar{X_1} + \\bar{\\epsilon} = 0$.\n",
        "\n",
        "$$R^2 = 1 - \\frac{\\sum_{i=1}^n (\\hat{y_i}-\\bar{y})^2}{\\sum_{i=1}^n (y_i - \\bar{y})^2}=1-\\frac{\\mathbb{V}\\epsilon}{\\alpha^2\\mathbb{V}X_1+\\mathbb{V}\\epsilon} = 1 - \\frac{1}{1+\\alpha^2}=\\frac{\\alpha^2}{1+\\alpha^2}$$"
      ]
    },
    {
      "cell_type": "markdown",
      "metadata": {},
      "source": [
        "## Deux variables corr\u00e9l\u00e9es\n",
        "\n",
        "On ne change pas le mod\u00e8le mais on fait en sorte que $X_2=X_1$. Les deux variables sont corr\u00e9l\u00e9es."
      ]
    },
    {
      "cell_type": "code",
      "execution_count": 11,
      "metadata": {},
      "outputs": [
        {
          "data": {
            "text/html": [
              "<table class=\"simpletable\">\n",
              "<caption>OLS Regression Results</caption>\n",
              "<tr>\n",
              "  <th>Dep. Variable:</th>            <td>y</td>        <th>  R-squared:         </th> <td>   0.794</td>\n",
              "</tr>\n",
              "<tr>\n",
              "  <th>Model:</th>                   <td>OLS</td>       <th>  Adj. R-squared:    </th> <td>   0.794</td>\n",
              "</tr>\n",
              "<tr>\n",
              "  <th>Method:</th>             <td>Least Squares</td>  <th>  F-statistic:       </th> <td>   3860.</td>\n",
              "</tr>\n",
              "<tr>\n",
              "  <th>Date:</th>             <td>Sun, 26 Nov 2017</td> <th>  Prob (F-statistic):</th>  <td>  0.00</td> \n",
              "</tr>\n",
              "<tr>\n",
              "  <th>Time:</th>                 <td>21:59:14</td>     <th>  Log-Likelihood:    </th> <td> -1411.6</td>\n",
              "</tr>\n",
              "<tr>\n",
              "  <th>No. Observations:</th>      <td>  1000</td>      <th>  AIC:               </th> <td>   2825.</td>\n",
              "</tr>\n",
              "<tr>\n",
              "  <th>Df Residuals:</th>          <td>   999</td>      <th>  BIC:               </th> <td>   2830.</td>\n",
              "</tr>\n",
              "<tr>\n",
              "  <th>Df Model:</th>              <td>     1</td>      <th>                     </th>     <td> </td>   \n",
              "</tr>\n",
              "<tr>\n",
              "  <th>Covariance Type:</th>      <td>nonrobust</td>    <th>                     </th>     <td> </td>   \n",
              "</tr>\n",
              "</table>\n",
              "<table class=\"simpletable\">\n",
              "<tr>\n",
              "   <td></td>     <th>coef</th>     <th>std err</th>      <th>t</th>      <th>P>|t|</th>  <th>[0.025</th>    <th>0.975]</th>  \n",
              "</tr>\n",
              "<tr>\n",
              "  <th>x1</th> <td>    0.9925</td> <td>    0.016</td> <td>   62.125</td> <td> 0.000</td> <td>    0.961</td> <td>    1.024</td>\n",
              "</tr>\n",
              "<tr>\n",
              "  <th>x2</th> <td>    0.9925</td> <td>    0.016</td> <td>   62.125</td> <td> 0.000</td> <td>    0.961</td> <td>    1.024</td>\n",
              "</tr>\n",
              "</table>\n",
              "<table class=\"simpletable\">\n",
              "<tr>\n",
              "  <th>Omnibus:</th>       <td> 0.066</td> <th>  Durbin-Watson:     </th> <td>   2.011</td>\n",
              "</tr>\n",
              "<tr>\n",
              "  <th>Prob(Omnibus):</th> <td> 0.968</td> <th>  Jarque-Bera (JB):  </th> <td>   0.043</td>\n",
              "</tr>\n",
              "<tr>\n",
              "  <th>Skew:</th>          <td>-0.016</td> <th>  Prob(JB):          </th> <td>   0.979</td>\n",
              "</tr>\n",
              "<tr>\n",
              "  <th>Kurtosis:</th>      <td> 3.006</td> <th>  Cond. No.          </th> <td>8.02e+15</td>\n",
              "</tr>\n",
              "</table>"
            ],
            "text/plain": [
              "<class 'statsmodels.iolib.summary.Summary'>\n",
              "\"\"\"\n",
              "                            OLS Regression Results                            \n",
              "==============================================================================\n",
              "Dep. Variable:                      y   R-squared:                       0.794\n",
              "Model:                            OLS   Adj. R-squared:                  0.794\n",
              "Method:                 Least Squares   F-statistic:                     3860.\n",
              "Date:                Sun, 26 Nov 2017   Prob (F-statistic):               0.00\n",
              "Time:                        21:59:14   Log-Likelihood:                -1411.6\n",
              "No. Observations:                1000   AIC:                             2825.\n",
              "Df Residuals:                     999   BIC:                             2830.\n",
              "Df Model:                           1                                         \n",
              "Covariance Type:            nonrobust                                         \n",
              "==============================================================================\n",
              "                 coef    std err          t      P>|t|      [0.025      0.975]\n",
              "------------------------------------------------------------------------------\n",
              "x1             0.9925      0.016     62.125      0.000       0.961       1.024\n",
              "x2             0.9925      0.016     62.125      0.000       0.961       1.024\n",
              "==============================================================================\n",
              "Omnibus:                        0.066   Durbin-Watson:                   2.011\n",
              "Prob(Omnibus):                  0.968   Jarque-Bera (JB):                0.043\n",
              "Skew:                          -0.016   Prob(JB):                        0.979\n",
              "Kurtosis:                       3.006   Cond. No.                     8.02e+15\n",
              "==============================================================================\n",
              "\n",
              "Warnings:\n",
              "[1] Standard Errors assume that the covariance matrix of the errors is correctly specified.\n",
              "[2] The smallest eigenvalue is  3e-29. This might indicate that there are\n",
              "strong multicollinearity problems or that the design matrix is singular.\n",
              "\"\"\""
            ]
          },
          "execution_count": 12,
          "metadata": {},
          "output_type": "execute_result"
        }
      ],
      "source": [
        "X[:, 1] = X[:, 0]\n",
        "Y = 2*X[:,0] + X[:, 2]\n",
        "model = OLS(Y,X[:, :2])\n",
        "results = model.fit()\n",
        "results.summary()"
      ]
    },
    {
      "cell_type": "code",
      "execution_count": 12,
      "metadata": {},
      "outputs": [
        {
          "data": {
            "text/plain": [
              "1"
            ]
          },
          "execution_count": 13,
          "metadata": {},
          "output_type": "execute_result"
        }
      ],
      "source": [
        "model.rank"
      ]
    },
    {
      "cell_type": "markdown",
      "metadata": {},
      "source": [
        "Les variables corr\u00e9l\u00e9es n'ont pas l'air de d\u00e9ranger l'algorithme de r\u00e9solution car il utilise la m\u00e9thode [SVD](https://en.wikipedia.org/wiki/Singular-value_decomposition) pour r\u00e9soudre le m\u00eame probl\u00e8me dans un espace de moindre dimension. Le probl\u00e8me survient que les deux variables ne sont pas compl\u00e9tement corr\u00e9l\u00e9es. On \u00e9tudie le mod\u00e8le $Y \\sim X_1 + X'_2$ avec $X'_2 = \\alpha X_1 + (1-\\alpha) X_2$."
      ]
    },
    {
      "cell_type": "code",
      "execution_count": 13,
      "metadata": {},
      "outputs": [],
      "source": [
        "X_ = npr.normal(size=(1000, 3))"
      ]
    },
    {
      "cell_type": "code",
      "execution_count": 14,
      "metadata": {},
      "outputs": [
        {
          "data": {
            "text/html": [
              "<div>\n",
              "<style scoped>\n",
              "    .dataframe tbody tr th:only-of-type {\n",
              "        vertical-align: middle;\n",
              "    }\n",
              "\n",
              "    .dataframe tbody tr th {\n",
              "        vertical-align: top;\n",
              "    }\n",
              "\n",
              "    .dataframe thead th {\n",
              "        text-align: right;\n",
              "    }\n",
              "</style>\n",
              "<table border=\"1\" class=\"dataframe\">\n",
              "  <thead>\n",
              "    <tr style=\"text-align: right;\">\n",
              "      <th></th>\n",
              "      <th>c1</th>\n",
              "      <th>c2</th>\n",
              "      <th>r2</th>\n",
              "      <th>rank</th>\n",
              "    </tr>\n",
              "    <tr>\n",
              "      <th>alpha</th>\n",
              "      <th></th>\n",
              "      <th></th>\n",
              "      <th></th>\n",
              "      <th></th>\n",
              "    </tr>\n",
              "  </thead>\n",
              "  <tbody>\n",
              "    <tr>\n",
              "      <th>0.90</th>\n",
              "      <td>0.735311</td>\n",
              "      <td>1.297124</td>\n",
              "      <td>0.782806</td>\n",
              "      <td>2</td>\n",
              "    </tr>\n",
              "    <tr>\n",
              "      <th>0.91</th>\n",
              "      <td>0.702297</td>\n",
              "      <td>1.330138</td>\n",
              "      <td>0.784379</td>\n",
              "      <td>2</td>\n",
              "    </tr>\n",
              "    <tr>\n",
              "      <th>0.92</th>\n",
              "      <td>0.661030</td>\n",
              "      <td>1.371406</td>\n",
              "      <td>0.785947</td>\n",
              "      <td>2</td>\n",
              "    </tr>\n",
              "    <tr>\n",
              "      <th>0.93</th>\n",
              "      <td>0.607972</td>\n",
              "      <td>1.424464</td>\n",
              "      <td>0.787510</td>\n",
              "      <td>2</td>\n",
              "    </tr>\n",
              "    <tr>\n",
              "      <th>0.94</th>\n",
              "      <td>0.537228</td>\n",
              "      <td>1.495207</td>\n",
              "      <td>0.789068</td>\n",
              "      <td>2</td>\n",
              "    </tr>\n",
              "    <tr>\n",
              "      <th>0.95</th>\n",
              "      <td>0.438186</td>\n",
              "      <td>1.594249</td>\n",
              "      <td>0.790620</td>\n",
              "      <td>2</td>\n",
              "    </tr>\n",
              "    <tr>\n",
              "      <th>0.96</th>\n",
              "      <td>0.289624</td>\n",
              "      <td>1.742811</td>\n",
              "      <td>0.792166</td>\n",
              "      <td>2</td>\n",
              "    </tr>\n",
              "    <tr>\n",
              "      <th>0.97</th>\n",
              "      <td>0.042020</td>\n",
              "      <td>1.990415</td>\n",
              "      <td>0.793706</td>\n",
              "      <td>2</td>\n",
              "    </tr>\n",
              "    <tr>\n",
              "      <th>0.98</th>\n",
              "      <td>-0.453187</td>\n",
              "      <td>2.485622</td>\n",
              "      <td>0.795240</td>\n",
              "      <td>2</td>\n",
              "    </tr>\n",
              "    <tr>\n",
              "      <th>0.99</th>\n",
              "      <td>-1.938809</td>\n",
              "      <td>3.971245</td>\n",
              "      <td>0.796767</td>\n",
              "      <td>2</td>\n",
              "    </tr>\n",
              "    <tr>\n",
              "      <th>1.00</th>\n",
              "      <td>1.001963</td>\n",
              "      <td>1.001963</td>\n",
              "      <td>0.798103</td>\n",
              "      <td>1</td>\n",
              "    </tr>\n",
              "  </tbody>\n",
              "</table>\n",
              "</div>"
            ],
            "text/plain": [
              "             c1        c2        r2  rank\n",
              "alpha                                    \n",
              "0.90   0.735311  1.297124  0.782806     2\n",
              "0.91   0.702297  1.330138  0.784379     2\n",
              "0.92   0.661030  1.371406  0.785947     2\n",
              "0.93   0.607972  1.424464  0.787510     2\n",
              "0.94   0.537228  1.495207  0.789068     2\n",
              "0.95   0.438186  1.594249  0.790620     2\n",
              "0.96   0.289624  1.742811  0.792166     2\n",
              "0.97   0.042020  1.990415  0.793706     2\n",
              "0.98  -0.453187  2.485622  0.795240     2\n",
              "0.99  -1.938809  3.971245  0.796767     2\n",
              "1.00   1.001963  1.001963  0.798103     1"
            ]
          },
          "execution_count": 15,
          "metadata": {},
          "output_type": "execute_result"
        }
      ],
      "source": [
        "alphas = [0.9 + i * 0.01 for i in range(0,11)]\n",
        "res = []\n",
        "for a in alphas:\n",
        "    X = X_.copy()\n",
        "    X[:, 1] = a * X[:, 0] + (1-a) * X[:, 1]\n",
        "    Y = X[:, 0] + X[:, 1] + X[:, 2]\n",
        "    model = OLS(Y,X[:, :2])\n",
        "    results = model.fit()\n",
        "    res.append(dict(alpha=a, r2=results.rsquared, rank=model.rank, c1=results.params[0], c2=results.params[1]))\n",
        "    \n",
        "import pandas\n",
        "df = pandas.DataFrame(res)\n",
        "df = df.set_index('alpha')\n",
        "df"
      ]
    },
    {
      "cell_type": "code",
      "execution_count": 15,
      "metadata": {},
      "outputs": [
        {
          "data": {
            "text/plain": [
              "<matplotlib.axes._subplots.AxesSubplot at 0x242c633ccc0>"
            ]
          },
          "execution_count": 16,
          "metadata": {},
          "output_type": "execute_result"
        },
        {
          "data": {
            "image/png": "[encoded data removed]",
            "text/plain": [
              "<matplotlib.figure.Figure at 0x242c62f6470>"
            ]
          },
          "metadata": {},
          "output_type": "display_data"
        }
      ],
      "source": [
        "fig, ax = plt.subplots(1,2, figsize=(10,4))\n",
        "df[[\"r2\"]].plot(ax=ax[0])\n",
        "df[[\"c1\", \"c2\"]].plot(ax=ax[1])"
      ]
    },
    {
      "cell_type": "markdown",
      "metadata": {},
      "source": [
        "Paradoxalement, le $r^2$ augmente quand la corr\u00e9lation augmente mais les coefficients sont moins fiables. Les r\u00e9sultats devraient \u00eatre sensiblement identiques en th\u00e9orie mais en pratique, plus le d\u00e9terminant devient proche de z\u00e9ro, plus l'ordinateur est limit\u00e9 par sa pr\u00e9cision num\u00e9rique. Pour en savoir plus, vous pouvez lire un examen \u00e9crit que j'ai r\u00e9dig\u00e9, en python bien s\u00fbr : [Examen Programmation ENSAE premi\u00e8re ann\u00e9e\n",
        "2006](http://www.xavierdupre.fr/site2013/enseignements/tdnote/ecrit_2006.pdf). Cette pr\u00e9cision est aux alentours de $10^{-15}$ ce qui correspond \u00e0 la pr\u00e9cision num\u00e9rique des [double](https://en.wikipedia.org/wiki/Double-precision_floating-point_format)."
      ]
    },
    {
      "cell_type": "code",
      "execution_count": 16,
      "metadata": {},
      "outputs": [
        {
          "data": {
            "text/html": [
              "<div>\n",
              "<style scoped>\n",
              "    .dataframe tbody tr th:only-of-type {\n",
              "        vertical-align: middle;\n",
              "    }\n",
              "\n",
              "    .dataframe tbody tr th {\n",
              "        vertical-align: top;\n",
              "    }\n",
              "\n",
              "    .dataframe thead th {\n",
              "        text-align: right;\n",
              "    }\n",
              "</style>\n",
              "<table border=\"1\" class=\"dataframe\">\n",
              "  <thead>\n",
              "    <tr style=\"text-align: right;\">\n",
              "      <th></th>\n",
              "      <th>c1</th>\n",
              "      <th>c2</th>\n",
              "      <th>r2</th>\n",
              "      <th>rank</th>\n",
              "    </tr>\n",
              "    <tr>\n",
              "      <th>alpha_1</th>\n",
              "      <th></th>\n",
              "      <th></th>\n",
              "      <th></th>\n",
              "      <th></th>\n",
              "    </tr>\n",
              "  </thead>\n",
              "  <tbody>\n",
              "    <tr>\n",
              "      <th>-1.000000e-10</th>\n",
              "      <td>-2.971243e+08</td>\n",
              "      <td>2.971243e+08</td>\n",
              "      <td>0.798287</td>\n",
              "      <td>2</td>\n",
              "    </tr>\n",
              "    <tr>\n",
              "      <th>-1.000000e-11</th>\n",
              "      <td>-2.971194e+09</td>\n",
              "      <td>2.971194e+09</td>\n",
              "      <td>0.798287</td>\n",
              "      <td>2</td>\n",
              "    </tr>\n",
              "    <tr>\n",
              "      <th>-9.999779e-13</th>\n",
              "      <td>-2.971147e+10</td>\n",
              "      <td>2.971147e+10</td>\n",
              "      <td>0.798287</td>\n",
              "      <td>2</td>\n",
              "    </tr>\n",
              "    <tr>\n",
              "      <th>-1.000311e-13</th>\n",
              "      <td>-2.965856e+11</td>\n",
              "      <td>2.965856e+11</td>\n",
              "      <td>0.798286</td>\n",
              "      <td>2</td>\n",
              "    </tr>\n",
              "    <tr>\n",
              "      <th>-9.992007e-15</th>\n",
              "      <td>-2.945217e+12</td>\n",
              "      <td>2.945217e+12</td>\n",
              "      <td>0.798283</td>\n",
              "      <td>2</td>\n",
              "    </tr>\n",
              "    <tr>\n",
              "      <th>-9.992007e-16</th>\n",
              "      <td>1.001963e+00</td>\n",
              "      <td>1.001963e+00</td>\n",
              "      <td>0.798103</td>\n",
              "      <td>2</td>\n",
              "    </tr>\n",
              "    <tr>\n",
              "      <th>-1.110223e-16</th>\n",
              "      <td>1.001963e+00</td>\n",
              "      <td>1.001963e+00</td>\n",
              "      <td>0.798103</td>\n",
              "      <td>1</td>\n",
              "    </tr>\n",
              "    <tr>\n",
              "      <th>0.000000e+00</th>\n",
              "      <td>1.001963e+00</td>\n",
              "      <td>1.001963e+00</td>\n",
              "      <td>0.798103</td>\n",
              "      <td>1</td>\n",
              "    </tr>\n",
              "  </tbody>\n",
              "</table>\n",
              "</div>"
            ],
            "text/plain": [
              "                         c1            c2        r2  rank\n",
              "alpha_1                                                  \n",
              "-1.000000e-10 -2.971243e+08  2.971243e+08  0.798287     2\n",
              "-1.000000e-11 -2.971194e+09  2.971194e+09  0.798287     2\n",
              "-9.999779e-13 -2.971147e+10  2.971147e+10  0.798287     2\n",
              "-1.000311e-13 -2.965856e+11  2.965856e+11  0.798286     2\n",
              "-9.992007e-15 -2.945217e+12  2.945217e+12  0.798283     2\n",
              "-9.992007e-16  1.001963e+00  1.001963e+00  0.798103     2\n",
              "-1.110223e-16  1.001963e+00  1.001963e+00  0.798103     1\n",
              " 0.000000e+00  1.001963e+00  1.001963e+00  0.798103     1"
            ]
          },
          "execution_count": 17,
          "metadata": {},
          "output_type": "execute_result"
        }
      ],
      "source": [
        "alphas = [1 - 10**(-i) for i in range(10,18)]\n",
        "res = []\n",
        "for a in alphas:\n",
        "    X = X_.copy()\n",
        "    X[:, 1] = a * X[:, 0] + (1-a) * X[:, 1]\n",
        "    Y = X[:, 0] + X[:, 1] + X[:, 2]\n",
        "    model = OLS(Y,X[:, :2])\n",
        "    results = model.fit()\n",
        "    res.append(dict(alpha_1=a-1, r2=results.rsquared, rank=model.rank, c1=results.params[0], c2=results.params[1]))\n",
        "    \n",
        "import pandas\n",
        "df = pandas.DataFrame(res)\n",
        "df = df.set_index('alpha_1')\n",
        "df"
      ]
    },
    {
      "cell_type": "markdown",
      "metadata": {},
      "source": [
        "## Indicatrices\n",
        "\n",
        "$X_1$ est une variable al\u00e9atoire gaussienne. On teste maintenant un mod\u00e8le $Y = X'_1 + X'_2 + \\epsilon$ avec $X'_1 = X_1 \\mathbb{1}_{X_1 < 0}$ et $X'_2 = X_1 \\mathbb{1}_{X_1 \\geqslant 0}$."
      ]
    },
    {
      "cell_type": "code",
      "execution_count": 17,
      "metadata": {},
      "outputs": [
        {
          "data": {
            "text/plain": [
              "array([[ 1.        ,  0.57717317, -0.06053515],\n",
              "       [ 0.57717317,  1.        , -0.02909113],\n",
              "       [-0.06053515, -0.02909113,  1.        ]])"
            ]
          },
          "execution_count": 18,
          "metadata": {},
          "output_type": "execute_result"
        }
      ],
      "source": [
        "X_ = npr.normal(size=(1000, 3))\n",
        "X = X_.copy()\n",
        "X[:, 1] = X[:, 0]\n",
        "X[X_[:, 0] >= 0, 0] = 0\n",
        "X[X_[:, 1] < 0, 0] = 0\n",
        "Y = X[:, 0] + X[:, 1] + X[:, 2]\n",
        "corrcoef(X.T)"
      ]
    },
    {
      "cell_type": "code",
      "execution_count": 18,
      "metadata": {},
      "outputs": [
        {
          "data": {
            "text/html": [
              "<table class=\"simpletable\">\n",
              "<caption>OLS Regression Results</caption>\n",
              "<tr>\n",
              "  <th>Dep. Variable:</th>            <td>y</td>        <th>  R-squared:         </th> <td>   0.584</td> \n",
              "</tr>\n",
              "<tr>\n",
              "  <th>Model:</th>                   <td>OLS</td>       <th>  Adj. R-squared:    </th> <td>   0.583</td> \n",
              "</tr>\n",
              "<tr>\n",
              "  <th>Method:</th>             <td>Least Squares</td>  <th>  F-statistic:       </th> <td>   466.2</td> \n",
              "</tr>\n",
              "<tr>\n",
              "  <th>Date:</th>             <td>Mon, 27 Nov 2017</td> <th>  Prob (F-statistic):</th> <td>3.09e-189</td>\n",
              "</tr>\n",
              "<tr>\n",
              "  <th>Time:</th>                 <td>00:10:37</td>     <th>  Log-Likelihood:    </th> <td> -1454.7</td> \n",
              "</tr>\n",
              "<tr>\n",
              "  <th>No. Observations:</th>      <td>  1000</td>      <th>  AIC:               </th> <td>   2915.</td> \n",
              "</tr>\n",
              "<tr>\n",
              "  <th>Df Residuals:</th>          <td>   997</td>      <th>  BIC:               </th> <td>   2930.</td> \n",
              "</tr>\n",
              "<tr>\n",
              "  <th>Df Model:</th>              <td>     3</td>      <th>                     </th>     <td> </td>    \n",
              "</tr>\n",
              "<tr>\n",
              "  <th>Covariance Type:</th>      <td>nonrobust</td>    <th>                     </th>     <td> </td>    \n",
              "</tr>\n",
              "</table>\n",
              "<table class=\"simpletable\">\n",
              "<tr>\n",
              "   <td></td>     <th>coef</th>     <th>std err</th>      <th>t</th>      <th>P>|t|</th>  <th>[0.025</th>    <th>0.975]</th>  \n",
              "</tr>\n",
              "<tr>\n",
              "  <th>x1</th> <td>    0.2985</td> <td>    0.091</td> <td>    3.288</td> <td> 0.001</td> <td>    0.120</td> <td>    0.477</td>\n",
              "</tr>\n",
              "<tr>\n",
              "  <th>x2</th> <td>    1.2267</td> <td>    0.072</td> <td>   16.956</td> <td> 0.000</td> <td>    1.085</td> <td>    1.369</td>\n",
              "</tr>\n",
              "<tr>\n",
              "  <th>x3</th> <td>   -0.2550</td> <td>    0.090</td> <td>   -2.846</td> <td> 0.005</td> <td>   -0.431</td> <td>   -0.079</td>\n",
              "</tr>\n",
              "</table>\n",
              "<table class=\"simpletable\">\n",
              "<tr>\n",
              "  <th>Omnibus:</th>       <td> 1.295</td> <th>  Durbin-Watson:     </th> <td>   1.948</td>\n",
              "</tr>\n",
              "<tr>\n",
              "  <th>Prob(Omnibus):</th> <td> 0.523</td> <th>  Jarque-Bera (JB):  </th> <td>   1.366</td>\n",
              "</tr>\n",
              "<tr>\n",
              "  <th>Skew:</th>          <td> 0.081</td> <th>  Prob(JB):          </th> <td>   0.505</td>\n",
              "</tr>\n",
              "<tr>\n",
              "  <th>Kurtosis:</th>      <td> 2.920</td> <th>  Cond. No.          </th> <td>    4.56</td>\n",
              "</tr>\n",
              "</table>"
            ],
            "text/plain": [
              "<class 'statsmodels.iolib.summary.Summary'>\n",
              "\"\"\"\n",
              "                            OLS Regression Results                            \n",
              "==============================================================================\n",
              "Dep. Variable:                      y   R-squared:                       0.584\n",
              "Model:                            OLS   Adj. R-squared:                  0.583\n",
              "Method:                 Least Squares   F-statistic:                     466.2\n",
              "Date:                Mon, 27 Nov 2017   Prob (F-statistic):          3.09e-189\n",
              "Time:                        00:10:37   Log-Likelihood:                -1454.7\n",
              "No. Observations:                1000   AIC:                             2915.\n",
              "Df Residuals:                     997   BIC:                             2930.\n",
              "Df Model:                           3                                         \n",
              "Covariance Type:            nonrobust                                         \n",
              "==============================================================================\n",
              "                 coef    std err          t      P>|t|      [0.025      0.975]\n",
              "------------------------------------------------------------------------------\n",
              "x1             0.2985      0.091      3.288      0.001       0.120       0.477\n",
              "x2             1.2267      0.072     16.956      0.000       1.085       1.369\n",
              "x3            -0.2550      0.090     -2.846      0.005      -0.431      -0.079\n",
              "==============================================================================\n",
              "Omnibus:                        1.295   Durbin-Watson:                   1.948\n",
              "Prob(Omnibus):                  0.523   Jarque-Bera (JB):                1.366\n",
              "Skew:                           0.081   Prob(JB):                        0.505\n",
              "Kurtosis:                       2.920   Cond. No.                         4.56\n",
              "==============================================================================\n",
              "\n",
              "Warnings:\n",
              "[1] Standard Errors assume that the covariance matrix of the errors is correctly specified.\n",
              "\"\"\""
            ]
          },
          "execution_count": 19,
          "metadata": {},
          "output_type": "execute_result"
        }
      ],
      "source": [
        "model = OLS(Y,X[:, :3])\n",
        "results = model.fit()\n",
        "results.summary()"
      ]
    },
    {
      "cell_type": "markdown",
      "metadata": {},
      "source": [
        "On d\u00e9coupe en trois."
      ]
    },
    {
      "cell_type": "code",
      "execution_count": 19,
      "metadata": {},
      "outputs": [
        {
          "data": {
            "text/plain": [
              "array([[ 1.        ,  0.01130386,  0.16873765, -0.03737533],\n",
              "       [ 0.01130386,  1.        , -0.01125891, -0.00862301],\n",
              "       [ 0.16873765, -0.01125891,  1.        , -0.00653343],\n",
              "       [-0.03737533, -0.00862301, -0.00653343,  1.        ]])"
            ]
          },
          "execution_count": 20,
          "metadata": {},
          "output_type": "execute_result"
        }
      ],
      "source": [
        "import numpy\n",
        "X = numpy.zeros((X_.shape[0], 4))\n",
        "for i in range(0, 4):\n",
        "    X[:, i] = X_[:, 0]\n",
        "X[:, 3] = X_[:, 2]\n",
        "X[X_[:, 0] > -1, 0] = 0 \n",
        "X[(X_[:, 0] < -1) | (X_[:, 0] > 1), 1] = 0 \n",
        "X[X_[:, 0] < 1, 2] = 0 \n",
        "corrcoef(X.T)"
      ]
    },
    {
      "cell_type": "code",
      "execution_count": 20,
      "metadata": {},
      "outputs": [
        {
          "data": {
            "text/html": [
              "<table class=\"simpletable\">\n",
              "<caption>OLS Regression Results</caption>\n",
              "<tr>\n",
              "  <th>Dep. Variable:</th>            <td>y</td>        <th>  R-squared:         </th> <td>   0.584</td> \n",
              "</tr>\n",
              "<tr>\n",
              "  <th>Model:</th>                   <td>OLS</td>       <th>  Adj. R-squared:    </th> <td>   0.583</td> \n",
              "</tr>\n",
              "<tr>\n",
              "  <th>Method:</th>             <td>Least Squares</td>  <th>  F-statistic:       </th> <td>   466.2</td> \n",
              "</tr>\n",
              "<tr>\n",
              "  <th>Date:</th>             <td>Mon, 27 Nov 2017</td> <th>  Prob (F-statistic):</th> <td>3.09e-189</td>\n",
              "</tr>\n",
              "<tr>\n",
              "  <th>Time:</th>                 <td>00:12:31</td>     <th>  Log-Likelihood:    </th> <td> -1454.7</td> \n",
              "</tr>\n",
              "<tr>\n",
              "  <th>No. Observations:</th>      <td>  1000</td>      <th>  AIC:               </th> <td>   2915.</td> \n",
              "</tr>\n",
              "<tr>\n",
              "  <th>Df Residuals:</th>          <td>   997</td>      <th>  BIC:               </th> <td>   2930.</td> \n",
              "</tr>\n",
              "<tr>\n",
              "  <th>Df Model:</th>              <td>     3</td>      <th>                     </th>     <td> </td>    \n",
              "</tr>\n",
              "<tr>\n",
              "  <th>Covariance Type:</th>      <td>nonrobust</td>    <th>                     </th>     <td> </td>    \n",
              "</tr>\n",
              "</table>\n",
              "<table class=\"simpletable\">\n",
              "<tr>\n",
              "   <td></td>     <th>coef</th>     <th>std err</th>      <th>t</th>      <th>P>|t|</th>  <th>[0.025</th>    <th>0.975]</th>  \n",
              "</tr>\n",
              "<tr>\n",
              "  <th>x1</th> <td>    1.5252</td> <td>    0.055</td> <td>   27.801</td> <td> 0.000</td> <td>    1.418</td> <td>    1.633</td>\n",
              "</tr>\n",
              "<tr>\n",
              "  <th>x2</th> <td>    1.2267</td> <td>    0.072</td> <td>   16.956</td> <td> 0.000</td> <td>    1.085</td> <td>    1.369</td>\n",
              "</tr>\n",
              "<tr>\n",
              "  <th>x3</th> <td>    0.9717</td> <td>    0.053</td> <td>   18.392</td> <td> 0.000</td> <td>    0.868</td> <td>    1.075</td>\n",
              "</tr>\n",
              "</table>\n",
              "<table class=\"simpletable\">\n",
              "<tr>\n",
              "  <th>Omnibus:</th>       <td> 1.295</td> <th>  Durbin-Watson:     </th> <td>   1.948</td>\n",
              "</tr>\n",
              "<tr>\n",
              "  <th>Prob(Omnibus):</th> <td> 0.523</td> <th>  Jarque-Bera (JB):  </th> <td>   1.366</td>\n",
              "</tr>\n",
              "<tr>\n",
              "  <th>Skew:</th>          <td> 0.081</td> <th>  Prob(JB):          </th> <td>   0.505</td>\n",
              "</tr>\n",
              "<tr>\n",
              "  <th>Kurtosis:</th>      <td> 2.920</td> <th>  Cond. No.          </th> <td>    1.37</td>\n",
              "</tr>\n",
              "</table>"
            ],
            "text/plain": [
              "<class 'statsmodels.iolib.summary.Summary'>\n",
              "\"\"\"\n",
              "                            OLS Regression Results                            \n",
              "==============================================================================\n",
              "Dep. Variable:                      y   R-squared:                       0.584\n",
              "Model:                            OLS   Adj. R-squared:                  0.583\n",
              "Method:                 Least Squares   F-statistic:                     466.2\n",
              "Date:                Mon, 27 Nov 2017   Prob (F-statistic):          3.09e-189\n",
              "Time:                        00:12:31   Log-Likelihood:                -1454.7\n",
              "No. Observations:                1000   AIC:                             2915.\n",
              "Df Residuals:                     997   BIC:                             2930.\n",
              "Df Model:                           3                                         \n",
              "Covariance Type:            nonrobust                                         \n",
              "==============================================================================\n",
              "                 coef    std err          t      P>|t|      [0.025      0.975]\n",
              "------------------------------------------------------------------------------\n",
              "x1             1.5252      0.055     27.801      0.000       1.418       1.633\n",
              "x2             1.2267      0.072     16.956      0.000       1.085       1.369\n",
              "x3             0.9717      0.053     18.392      0.000       0.868       1.075\n",
              "==============================================================================\n",
              "Omnibus:                        1.295   Durbin-Watson:                   1.948\n",
              "Prob(Omnibus):                  0.523   Jarque-Bera (JB):                1.366\n",
              "Skew:                           0.081   Prob(JB):                        0.505\n",
              "Kurtosis:                       2.920   Cond. No.                         1.37\n",
              "==============================================================================\n",
              "\n",
              "Warnings:\n",
              "[1] Standard Errors assume that the covariance matrix of the errors is correctly specified.\n",
              "\"\"\""
            ]
          },
          "execution_count": 21,
          "metadata": {},
          "output_type": "execute_result"
        }
      ],
      "source": [
        "model = OLS(Y,X[:, :3])\n",
        "results = model.fit()\n",
        "results.summary()"
      ]
    },
    {
      "cell_type": "markdown",
      "metadata": {},
      "source": [
        "Ca ne change pas grand chose."
      ]
    },
    {
      "cell_type": "code",
      "execution_count": 21,
      "metadata": {},
      "outputs": [],
      "source": []
    }
  ],
  "metadata": {
    "kernelspec": {
      "display_name": "Python 3",
      "language": "python",
      "name": "python3"
    },
    "language_info": {
      "codemirror_mode": {
        "name": "ipython",
        "version": 3
      },
      "file_extension": ".py",
      "mimetype": "text/x-python",
      "name": "python",
      "nbconvert_exporter": "python",
      "pygments_lexer": "ipython3",
      "version": "3.6.1"
    }
  },
  "nbformat": 4,
  "nbformat_minor": 2
}