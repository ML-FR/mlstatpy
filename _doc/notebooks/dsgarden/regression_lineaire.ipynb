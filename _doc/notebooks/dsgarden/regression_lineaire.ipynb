{
  "cells": [
    {
      "cell_type": "markdown",
      "metadata": {},
      "source": [
        "# R\u00e9gression lin\u00e9aire et r\u00e9sultats num\u00e9riques\n",
        "\n",
        "Ce notebook s'int\u00e9resse \u00e0 la fa\u00e7on d'interpr\u00e9ter les r\u00e9sultats d'une r\u00e9gression lin\u00e9aire lorsque le r\u00e9sultat de l'interpr\u00e9tation est connu \u00e0 l'avance. "
      ]
    },
    {
      "cell_type": "code",
      "execution_count": 1,
      "metadata": {},
      "outputs": [
        {
          "data": {
            "text/html": [
              "<div id=\"my_id_menu_nb\">run previous cell, wait for 2 seconds</div>\n",
              "<script>\n",
              "function repeat_indent_string(n){\n",
              "    var a = \"\" ;\n",
              "    for ( ; n > 0 ; --n)\n",
              "        a += \"    \";\n",
              "    return a;\n",
              "}\n",
              "var update_menu_string = function(begin, lfirst, llast, sformat, send, keep_item, begin_format, end_format) {\n",
              "    var anchors = document.getElementsByClassName(\"section\");\n",
              "    if (anchors.length == 0) {\n",
              "        anchors = document.getElementsByClassName(\"text_cell_render rendered_html\");\n",
              "    }\n",
              "    var i,t;\n",
              "    var text_menu = begin;\n",
              "    var text_memo = \"<pre>\\nlength:\" + anchors.length + \"\\n\";\n",
              "    var ind = \"\";\n",
              "    var memo_level = 1;\n",
              "    var href;\n",
              "    var tags = [];\n",
              "    var main_item = 0;\n",
              "    var format_open = 0;\n",
              "    for (i = 0; i <= llast; i++)\n",
              "        tags.push(\"h\" + i);\n",
              "\n",
              "    for (i = 0; i < anchors.length; i++) {\n",
              "        text_memo += \"**\" + anchors[i].id + \"--\\n\";\n",
              "\n",
              "        var child = null;\n",
              "        for(t = 0; t < tags.length; t++) {\n",
              "            var r = anchors[i].getElementsByTagName(tags[t]);\n",
              "            if (r.length > 0) {\n",
              "child = r[0];\n",
              "break;\n",
              "            }\n",
              "        }\n",
              "        if (child == null) {\n",
              "            text_memo += \"null\\n\";\n",
              "            continue;\n",
              "        }\n",
              "        if (anchors[i].hasAttribute(\"id\")) {\n",
              "            // when converted in RST\n",
              "            href = anchors[i].id;\n",
              "            text_memo += \"#1-\" + href;\n",
              "            // passer \u00e0 child suivant (le chercher)\n",
              "        }\n",
              "        else if (child.hasAttribute(\"id\")) {\n",
              "            // in a notebook\n",
              "            href = child.id;\n",
              "            text_memo += \"#2-\" + href;\n",
              "        }\n",
              "        else {\n",
              "            text_memo += \"#3-\" + \"*\" + \"\\n\";\n",
              "            continue;\n",
              "        }\n",
              "        var title = child.textContent;\n",
              "        var level = parseInt(child.tagName.substring(1,2));\n",
              "\n",
              "        text_memo += \"--\" + level + \"?\" + lfirst + \"--\" + title + \"\\n\";\n",
              "\n",
              "        if ((level < lfirst) || (level > llast)) {\n",
              "            continue ;\n",
              "        }\n",
              "        if (title.endsWith('\u00b6')) {\n",
              "            title = title.substring(0,title.length-1).replace(\"<\", \"&lt;\")\n",
              "         .replace(\">\", \"&gt;\").replace(\"&\", \"&amp;\");\n",
              "        }\n",
              "        if (title.length == 0) {\n",
              "            continue;\n",
              "        }\n",
              "\n",
              "        while (level < memo_level) {\n",
              "            text_menu += end_format + \"</ul>\\n\";\n",
              "            format_open -= 1;\n",
              "            memo_level -= 1;\n",
              "        }\n",
              "        if (level == lfirst) {\n",
              "            main_item += 1;\n",
              "        }\n",
              "        if (keep_item != -1 && main_item != keep_item + 1) {\n",
              "            // alert(main_item + \" - \" + level + \" - \" + keep_item);\n",
              "            continue;\n",
              "        }\n",
              "        while (level > memo_level) {\n",
              "            text_menu += \"<ul>\\n\";\n",
              "            memo_level += 1;\n",
              "        }\n",
              "        text_menu += repeat_indent_string(level-2);\n",
              "        text_menu += begin_format + sformat.replace(\"__HREF__\", href).replace(\"__TITLE__\", title);\n",
              "        format_open += 1;\n",
              "    }\n",
              "    while (1 < memo_level) {\n",
              "        text_menu += end_format + \"</ul>\\n\";\n",
              "        memo_level -= 1;\n",
              "        format_open -= 1;\n",
              "    }\n",
              "    text_menu += send;\n",
              "    //text_menu += \"\\n\" + text_memo;\n",
              "\n",
              "    while (format_open > 0) {\n",
              "        text_menu += end_format;\n",
              "        format_open -= 1;\n",
              "    }\n",
              "    return text_menu;\n",
              "};\n",
              "var update_menu = function() {\n",
              "    var sbegin = \"\";\n",
              "    var sformat = '<a href=\"#__HREF__\">__TITLE__</a>';\n",
              "    var send = \"\";\n",
              "    var begin_format = '<li>';\n",
              "    var end_format = '</li>';\n",
              "    var keep_item = -1;\n",
              "    var text_menu = update_menu_string(sbegin, 2, 4, sformat, send, keep_item,\n",
              "       begin_format, end_format);\n",
              "    var menu = document.getElementById(\"my_id_menu_nb\");\n",
              "    menu.innerHTML=text_menu;\n",
              "};\n",
              "window.setTimeout(update_menu,2000);\n",
              "            </script>"
            ],
            "text/plain": [
              "<IPython.core.display.HTML object>"
            ]
          },
          "execution_count": 2,
          "metadata": {},
          "output_type": "execute_result"
        }
      ],
      "source": [
        "from jyquickhelper import add_notebook_menu\n",
        "add_notebook_menu()"
      ]
    },
    {
      "cell_type": "code",
      "execution_count": 2,
      "metadata": {},
      "outputs": [],
      "source": [
        "%matplotlib inline"
      ]
    },
    {
      "cell_type": "markdown",
      "metadata": {},
      "source": [
        "## Un cas simple\n",
        "\n",
        "Une fa\u00e7on d'interpr\u00e9ter des r\u00e9sultats statistiques est de les calculer dans un cas o\u00f9 la r\u00e9ponse cherch\u00e9e est connue. On simule un mod\u00e8le simple $Y=\\alpha X_1 + 0.X_2 + \\epsilon$ et on cale une r\u00e9gression lin\u00e9aire. On suppose que $X_1, X_2, \\epsilon$ sont des variables al\u00e9atoires gaussiennes de m\u00eame variance et moyenne."
      ]
    },
    {
      "cell_type": "code",
      "execution_count": 3,
      "metadata": {},
      "outputs": [
        {
          "data": {
            "text/plain": [
              "((1000, 3), (1000,))"
            ]
          },
          "execution_count": 4,
          "metadata": {},
          "output_type": "execute_result"
        }
      ],
      "source": [
        "import numpy.random as npr\n",
        "eps = npr.normal(1000)\n",
        "X = npr.normal(size=(1000, 3))\n",
        "alpha = 2\n",
        "Y = alpha * X[:,0] + X[:, 2]\n",
        "X.shape, Y.shape"
      ]
    },
    {
      "cell_type": "code",
      "execution_count": 4,
      "metadata": {},
      "outputs": [
        {
          "data": {
            "text/plain": [
              "array([[ 1.        ,  0.00782616,  0.05713061],\n",
              "       [ 0.00782616,  1.        ,  0.03429319],\n",
              "       [ 0.05713061,  0.03429319,  1.        ]])"
            ]
          },
          "execution_count": 5,
          "metadata": {},
          "output_type": "execute_result"
        }
      ],
      "source": [
        "from numpy import corrcoef\n",
        "corrcoef(X.T)"
      ]
    },
    {
      "cell_type": "code",
      "execution_count": 5,
      "metadata": {},
      "outputs": [],
      "source": [
        "from statsmodels.regression.linear_model import OLS"
      ]
    },
    {
      "cell_type": "code",
      "execution_count": 6,
      "metadata": {},
      "outputs": [
        {
          "data": {
            "text/html": [
              "<table class=\"simpletable\">\n",
              "<caption>OLS Regression Results</caption>\n",
              "<tr>\n",
              "  <th>Dep. Variable:</th>            <td>y</td>        <th>  R-squared:         </th> <td>   0.811</td>\n",
              "</tr>\n",
              "<tr>\n",
              "  <th>Model:</th>                   <td>OLS</td>       <th>  Adj. R-squared:    </th> <td>   0.810</td>\n",
              "</tr>\n",
              "<tr>\n",
              "  <th>Method:</th>             <td>Least Squares</td>  <th>  F-statistic:       </th> <td>   2136.</td>\n",
              "</tr>\n",
              "<tr>\n",
              "  <th>Date:</th>             <td>Mon, 27 Nov 2017</td> <th>  Prob (F-statistic):</th>  <td>  0.00</td> \n",
              "</tr>\n",
              "<tr>\n",
              "  <th>Time:</th>                 <td>12:06:01</td>     <th>  Log-Likelihood:    </th> <td> -1410.6</td>\n",
              "</tr>\n",
              "<tr>\n",
              "  <th>No. Observations:</th>      <td>  1000</td>      <th>  AIC:               </th> <td>   2825.</td>\n",
              "</tr>\n",
              "<tr>\n",
              "  <th>Df Residuals:</th>          <td>   998</td>      <th>  BIC:               </th> <td>   2835.</td>\n",
              "</tr>\n",
              "<tr>\n",
              "  <th>Df Model:</th>              <td>     2</td>      <th>                     </th>     <td> </td>   \n",
              "</tr>\n",
              "<tr>\n",
              "  <th>Covariance Type:</th>      <td>nonrobust</td>    <th>                     </th>     <td> </td>   \n",
              "</tr>\n",
              "</table>\n",
              "<table class=\"simpletable\">\n",
              "<tr>\n",
              "   <td></td>     <th>coef</th>     <th>std err</th>      <th>t</th>      <th>P>|t|</th>  <th>[0.025</th>    <th>0.975]</th>  \n",
              "</tr>\n",
              "<tr>\n",
              "  <th>x1</th> <td>    2.0573</td> <td>    0.031</td> <td>   65.343</td> <td> 0.000</td> <td>    1.995</td> <td>    2.119</td>\n",
              "</tr>\n",
              "<tr>\n",
              "  <th>x2</th> <td>    0.0354</td> <td>    0.032</td> <td>    1.098</td> <td> 0.272</td> <td>   -0.028</td> <td>    0.099</td>\n",
              "</tr>\n",
              "</table>\n",
              "<table class=\"simpletable\">\n",
              "<tr>\n",
              "  <th>Omnibus:</th>       <td> 7.140</td> <th>  Durbin-Watson:     </th> <td>   1.951</td>\n",
              "</tr>\n",
              "<tr>\n",
              "  <th>Prob(Omnibus):</th> <td> 0.028</td> <th>  Jarque-Bera (JB):  </th> <td>   5.377</td>\n",
              "</tr>\n",
              "<tr>\n",
              "  <th>Skew:</th>          <td>-0.057</td> <th>  Prob(JB):          </th> <td>  0.0680</td>\n",
              "</tr>\n",
              "<tr>\n",
              "  <th>Kurtosis:</th>      <td> 2.659</td> <th>  Cond. No.          </th> <td>    1.02</td>\n",
              "</tr>\n",
              "</table>"
            ],
            "text/plain": [
              "<class 'statsmodels.iolib.summary.Summary'>\n",
              "\"\"\"\n",
              "                            OLS Regression Results                            \n",
              "==============================================================================\n",
              "Dep. Variable:                      y   R-squared:                       0.811\n",
              "Model:                            OLS   Adj. R-squared:                  0.810\n",
              "Method:                 Least Squares   F-statistic:                     2136.\n",
              "Date:                Mon, 27 Nov 2017   Prob (F-statistic):               0.00\n",
              "Time:                        12:06:01   Log-Likelihood:                -1410.6\n",
              "No. Observations:                1000   AIC:                             2825.\n",
              "Df Residuals:                     998   BIC:                             2835.\n",
              "Df Model:                           2                                         \n",
              "Covariance Type:            nonrobust                                         \n",
              "==============================================================================\n",
              "                 coef    std err          t      P>|t|      [0.025      0.975]\n",
              "------------------------------------------------------------------------------\n",
              "x1             2.0573      0.031     65.343      0.000       1.995       2.119\n",
              "x2             0.0354      0.032      1.098      0.272      -0.028       0.099\n",
              "==============================================================================\n",
              "Omnibus:                        7.140   Durbin-Watson:                   1.951\n",
              "Prob(Omnibus):                  0.028   Jarque-Bera (JB):                5.377\n",
              "Skew:                          -0.057   Prob(JB):                       0.0680\n",
              "Kurtosis:                       2.659   Cond. No.                         1.02\n",
              "==============================================================================\n",
              "\n",
              "Warnings:\n",
              "[1] Standard Errors assume that the covariance matrix of the errors is correctly specified.\n",
              "\"\"\""
            ]
          },
          "execution_count": 7,
          "metadata": {},
          "output_type": "execute_result"
        }
      ],
      "source": [
        "model = OLS(Y,X[:, :2])\n",
        "results = model.fit()\n",
        "su = results.summary()\n",
        "su"
      ]
    },
    {
      "cell_type": "code",
      "execution_count": 7,
      "metadata": {},
      "outputs": [
        {
          "data": {
            "text/plain": [
              "(0.81064859665586519, 0.81026913492571662)"
            ]
          },
          "execution_count": 8,
          "metadata": {},
          "output_type": "execute_result"
        }
      ],
      "source": [
        "results.rsquared, results.rsquared_adj"
      ]
    },
    {
      "cell_type": "markdown",
      "metadata": {},
      "source": [
        "On v\u00e9rifie que le coefficient devant $X_1$ est non nul (P-value nulle, 0 n'est pas l'intervalle de confiance). Le coefficient devant $X_2$ n'est pas nul mais presque, la P-value est \u00e9lev\u00e9e, le coefficient $R^2$ est \u00e9lev\u00e9. Dessinons."
      ]
    },
    {
      "cell_type": "code",
      "execution_count": 8,
      "metadata": {},
      "outputs": [
        {
          "data": {
            "text/plain": [
              "<matplotlib.axes._subplots.AxesSubplot at 0x2147f831a58>"
            ]
          },
          "execution_count": 9,
          "metadata": {},
          "output_type": "execute_result"
        },
        {
          "data": {
            "image/png": "[encoded data removed]",
            "text/plain": [
              "<matplotlib.figure.Figure at 0x2147f5f9550>"
            ]
          },
          "metadata": {},
          "output_type": "display_data"
        }
      ],
      "source": [
        "import matplotlib.pyplot as plt\n",
        "import seaborn\n",
        "fig, ax = plt.subplots(1, 2, figsize=(10,4))\n",
        "ax[0].plot(X[:, 0], Y, '.')\n",
        "seaborn.kdeplot(X[:, 0], Y, cmap=\"Reds\", shade=True, shade_lowest=False, ax=ax[1])"
      ]
    },
    {
      "cell_type": "markdown",
      "metadata": {},
      "source": [
        "## Evolution de R2\n",
        "\n",
        "Dans la r\u00e9gression pr\u00e9c\u00e9dente, le coefficient $R^2$ transcrit en quelque sorte la part du bruit $\\epsilon$ par rapport au terme $\\alpha X_1$. Faisons varier $\\alpha$."
      ]
    },
    {
      "cell_type": "code",
      "execution_count": 9,
      "metadata": {},
      "outputs": [],
      "source": [
        "alphas = []\n",
        "r2s = []\n",
        "for a in [0.1 * i for i in range(0, 50)]:\n",
        "    Y = a*X[:,0] + X[:, 2]\n",
        "    model = OLS(Y,X[:, :2])\n",
        "    results = model.fit()\n",
        "    alphas.append(a)\n",
        "    r2s.append(results.rsquared)"
      ]
    },
    {
      "cell_type": "code",
      "execution_count": 10,
      "metadata": {},
      "outputs": [
        {
          "data": {
            "text/plain": [
              "<matplotlib.legend.Legend at 0x2147f958a58>"
            ]
          },
          "execution_count": 11,
          "metadata": {},
          "output_type": "execute_result"
        },
        {
          "data": {
            "image/png": "[encoded data removed]",
            "text/plain": [
              "<matplotlib.figure.Figure at 0x2147f90a748>"
            ]
          },
          "metadata": {},
          "output_type": "display_data"
        }
      ],
      "source": [
        "fig, ax = plt.subplots(1, 1)\n",
        "ax.plot(alphas, r2s, '.', label=\"observed\")\n",
        "ax.plot(alphas, [a**2/(1+a**2) for a in alphas], label='theoretical')\n",
        "ax.set_xlabel(\"alpha\")\n",
        "ax.set_ylabel(\"r2\")\n",
        "ax.legend()"
      ]
    },
    {
      "cell_type": "markdown",
      "metadata": {},
      "source": [
        "Dans ce cas de r\u00e9gression simple, la valeur \u00e0 pr\u00e9dire est $y_i$, la valeur pr\u00e9dite est $\\hat{y_i}=\\alpha X_{1i}$ et la moyenne $\\bar{y} = \\alpha \\bar{X_1} + \\bar{\\epsilon} = 0$.\n",
        "\n",
        "$$R^2 = 1 - \\frac{\\sum_{i=1}^n (\\hat{y_i}-\\bar{y})^2}{\\sum_{i=1}^n (y_i - \\bar{y})^2}=1-\\frac{\\mathbb{V}\\epsilon}{\\alpha^2\\mathbb{V}X_1+\\mathbb{V}\\epsilon} = 1 - \\frac{1}{1+\\alpha^2}=\\frac{\\alpha^2}{1+\\alpha^2}$$"
      ]
    },
    {
      "cell_type": "markdown",
      "metadata": {},
      "source": [
        "## Deux variables corr\u00e9l\u00e9es\n",
        "\n",
        "On ne change pas le mod\u00e8le mais on fait en sorte que $X_2=X_1$. Les deux variables sont corr\u00e9l\u00e9es."
      ]
    },
    {
      "cell_type": "code",
      "execution_count": 11,
      "metadata": {},
      "outputs": [
        {
          "data": {
            "text/html": [
              "<table class=\"simpletable\">\n",
              "<caption>OLS Regression Results</caption>\n",
              "<tr>\n",
              "  <th>Dep. Variable:</th>            <td>y</td>        <th>  R-squared:         </th> <td>   0.810</td>\n",
              "</tr>\n",
              "<tr>\n",
              "  <th>Model:</th>                   <td>OLS</td>       <th>  Adj. R-squared:    </th> <td>   0.810</td>\n",
              "</tr>\n",
              "<tr>\n",
              "  <th>Method:</th>             <td>Least Squares</td>  <th>  F-statistic:       </th> <td>   4271.</td>\n",
              "</tr>\n",
              "<tr>\n",
              "  <th>Date:</th>             <td>Mon, 27 Nov 2017</td> <th>  Prob (F-statistic):</th>  <td>  0.00</td> \n",
              "</tr>\n",
              "<tr>\n",
              "  <th>Time:</th>                 <td>12:06:03</td>     <th>  Log-Likelihood:    </th> <td> -1411.2</td>\n",
              "</tr>\n",
              "<tr>\n",
              "  <th>No. Observations:</th>      <td>  1000</td>      <th>  AIC:               </th> <td>   2824.</td>\n",
              "</tr>\n",
              "<tr>\n",
              "  <th>Df Residuals:</th>          <td>   999</td>      <th>  BIC:               </th> <td>   2829.</td>\n",
              "</tr>\n",
              "<tr>\n",
              "  <th>Df Model:</th>              <td>     1</td>      <th>                     </th>     <td> </td>   \n",
              "</tr>\n",
              "<tr>\n",
              "  <th>Covariance Type:</th>      <td>nonrobust</td>    <th>                     </th>     <td> </td>   \n",
              "</tr>\n",
              "</table>\n",
              "<table class=\"simpletable\">\n",
              "<tr>\n",
              "   <td></td>     <th>coef</th>     <th>std err</th>      <th>t</th>      <th>P>|t|</th>  <th>[0.025</th>    <th>0.975]</th>  \n",
              "</tr>\n",
              "<tr>\n",
              "  <th>x1</th> <td>    1.0288</td> <td>    0.016</td> <td>   65.349</td> <td> 0.000</td> <td>    0.998</td> <td>    1.060</td>\n",
              "</tr>\n",
              "<tr>\n",
              "  <th>x2</th> <td>    1.0288</td> <td>    0.016</td> <td>   65.349</td> <td> 0.000</td> <td>    0.998</td> <td>    1.060</td>\n",
              "</tr>\n",
              "</table>\n",
              "<table class=\"simpletable\">\n",
              "<tr>\n",
              "  <th>Omnibus:</th>       <td> 8.165</td> <th>  Durbin-Watson:     </th> <td>   1.944</td>\n",
              "</tr>\n",
              "<tr>\n",
              "  <th>Prob(Omnibus):</th> <td> 0.017</td> <th>  Jarque-Bera (JB):  </th> <td>   6.024</td>\n",
              "</tr>\n",
              "<tr>\n",
              "  <th>Skew:</th>          <td>-0.064</td> <th>  Prob(JB):          </th> <td>  0.0492</td>\n",
              "</tr>\n",
              "<tr>\n",
              "  <th>Kurtosis:</th>      <td> 2.642</td> <th>  Cond. No.          </th> <td>1.61e+16</td>\n",
              "</tr>\n",
              "</table>"
            ],
            "text/plain": [
              "<class 'statsmodels.iolib.summary.Summary'>\n",
              "\"\"\"\n",
              "                            OLS Regression Results                            \n",
              "==============================================================================\n",
              "Dep. Variable:                      y   R-squared:                       0.810\n",
              "Model:                            OLS   Adj. R-squared:                  0.810\n",
              "Method:                 Least Squares   F-statistic:                     4271.\n",
              "Date:                Mon, 27 Nov 2017   Prob (F-statistic):               0.00\n",
              "Time:                        12:06:03   Log-Likelihood:                -1411.2\n",
              "No. Observations:                1000   AIC:                             2824.\n",
              "Df Residuals:                     999   BIC:                             2829.\n",
              "Df Model:                           1                                         \n",
              "Covariance Type:            nonrobust                                         \n",
              "==============================================================================\n",
              "                 coef    std err          t      P>|t|      [0.025      0.975]\n",
              "------------------------------------------------------------------------------\n",
              "x1             1.0288      0.016     65.349      0.000       0.998       1.060\n",
              "x2             1.0288      0.016     65.349      0.000       0.998       1.060\n",
              "==============================================================================\n",
              "Omnibus:                        8.165   Durbin-Watson:                   1.944\n",
              "Prob(Omnibus):                  0.017   Jarque-Bera (JB):                6.024\n",
              "Skew:                          -0.064   Prob(JB):                       0.0492\n",
              "Kurtosis:                       2.642   Cond. No.                     1.61e+16\n",
              "==============================================================================\n",
              "\n",
              "Warnings:\n",
              "[1] Standard Errors assume that the covariance matrix of the errors is correctly specified.\n",
              "[2] The smallest eigenvalue is 7.69e-30. This might indicate that there are\n",
              "strong multicollinearity problems or that the design matrix is singular.\n",
              "\"\"\""
            ]
          },
          "execution_count": 12,
          "metadata": {},
          "output_type": "execute_result"
        }
      ],
      "source": [
        "X[:, 1] = X[:, 0]\n",
        "Y = 2*X[:,0] + X[:, 2]\n",
        "model = OLS(Y,X[:, :2])\n",
        "results = model.fit()\n",
        "results.summary()"
      ]
    },
    {
      "cell_type": "code",
      "execution_count": 12,
      "metadata": {},
      "outputs": [
        {
          "data": {
            "text/plain": [
              "1"
            ]
          },
          "execution_count": 13,
          "metadata": {},
          "output_type": "execute_result"
        }
      ],
      "source": [
        "model.rank"
      ]
    },
    {
      "cell_type": "markdown",
      "metadata": {},
      "source": [
        "Les variables corr\u00e9l\u00e9es n'ont pas l'air de d\u00e9ranger l'algorithme de r\u00e9solution car il utilise la m\u00e9thode [SVD](https://en.wikipedia.org/wiki/Singular-value_decomposition) pour r\u00e9soudre le m\u00eame probl\u00e8me dans un espace de moindre dimension. Le probl\u00e8me survient que les deux variables ne sont pas compl\u00e9tement corr\u00e9l\u00e9es. On \u00e9tudie le mod\u00e8le $Y \\sim X_1 + X'_2$ avec $X'_2 = \\alpha X_1 + (1-\\alpha) X_2$ et on r\u00e9duit la variance du bruit pour en diminuer les effets."
      ]
    },
    {
      "cell_type": "code",
      "execution_count": 13,
      "metadata": {},
      "outputs": [],
      "source": [
        "X_ = npr.normal(size=(1000, 3))"
      ]
    },
    {
      "cell_type": "code",
      "execution_count": 14,
      "metadata": {},
      "outputs": [
        {
          "data": {
            "text/html": [
              "<div>\n",
              "<style scoped>\n",
              "    .dataframe tbody tr th:only-of-type {\n",
              "        vertical-align: middle;\n",
              "    }\n",
              "\n",
              "    .dataframe tbody tr th {\n",
              "        vertical-align: top;\n",
              "    }\n",
              "\n",
              "    .dataframe thead th {\n",
              "        text-align: right;\n",
              "    }\n",
              "</style>\n",
              "<table border=\"1\" class=\"dataframe\">\n",
              "  <thead>\n",
              "    <tr style=\"text-align: right;\">\n",
              "      <th></th>\n",
              "      <th>c1</th>\n",
              "      <th>c2</th>\n",
              "      <th>r2</th>\n",
              "      <th>rank</th>\n",
              "    </tr>\n",
              "    <tr>\n",
              "      <th>alpha</th>\n",
              "      <th></th>\n",
              "      <th></th>\n",
              "      <th></th>\n",
              "      <th></th>\n",
              "    </tr>\n",
              "  </thead>\n",
              "  <tbody>\n",
              "    <tr>\n",
              "      <th>0.90</th>\n",
              "      <td>1.038013</td>\n",
              "      <td>0.960807</td>\n",
              "      <td>0.997230</td>\n",
              "      <td>2</td>\n",
              "    </tr>\n",
              "    <tr>\n",
              "      <th>0.91</th>\n",
              "      <td>1.042368</td>\n",
              "      <td>0.956452</td>\n",
              "      <td>0.997258</td>\n",
              "      <td>2</td>\n",
              "    </tr>\n",
              "    <tr>\n",
              "      <th>0.92</th>\n",
              "      <td>1.047811</td>\n",
              "      <td>0.951009</td>\n",
              "      <td>0.997284</td>\n",
              "      <td>2</td>\n",
              "    </tr>\n",
              "    <tr>\n",
              "      <th>0.93</th>\n",
              "      <td>1.054810</td>\n",
              "      <td>0.944010</td>\n",
              "      <td>0.997311</td>\n",
              "      <td>2</td>\n",
              "    </tr>\n",
              "    <tr>\n",
              "      <th>0.94</th>\n",
              "      <td>1.064142</td>\n",
              "      <td>0.934678</td>\n",
              "      <td>0.997338</td>\n",
              "      <td>2</td>\n",
              "    </tr>\n",
              "    <tr>\n",
              "      <th>0.95</th>\n",
              "      <td>1.077206</td>\n",
              "      <td>0.921614</td>\n",
              "      <td>0.997364</td>\n",
              "      <td>2</td>\n",
              "    </tr>\n",
              "    <tr>\n",
              "      <th>0.96</th>\n",
              "      <td>1.096803</td>\n",
              "      <td>0.902017</td>\n",
              "      <td>0.997390</td>\n",
              "      <td>2</td>\n",
              "    </tr>\n",
              "    <tr>\n",
              "      <th>0.97</th>\n",
              "      <td>1.129463</td>\n",
              "      <td>0.869356</td>\n",
              "      <td>0.997416</td>\n",
              "      <td>2</td>\n",
              "    </tr>\n",
              "    <tr>\n",
              "      <th>0.98</th>\n",
              "      <td>1.194785</td>\n",
              "      <td>0.804034</td>\n",
              "      <td>0.997441</td>\n",
              "      <td>2</td>\n",
              "    </tr>\n",
              "    <tr>\n",
              "      <th>0.99</th>\n",
              "      <td>1.390751</td>\n",
              "      <td>0.608068</td>\n",
              "      <td>0.997466</td>\n",
              "      <td>2</td>\n",
              "    </tr>\n",
              "    <tr>\n",
              "      <th>1.00</th>\n",
              "      <td>1.001356</td>\n",
              "      <td>1.001356</td>\n",
              "      <td>0.997488</td>\n",
              "      <td>1</td>\n",
              "    </tr>\n",
              "  </tbody>\n",
              "</table>\n",
              "</div>"
            ],
            "text/plain": [
              "             c1        c2        r2  rank\n",
              "alpha                                    \n",
              "0.90   1.038013  0.960807  0.997230     2\n",
              "0.91   1.042368  0.956452  0.997258     2\n",
              "0.92   1.047811  0.951009  0.997284     2\n",
              "0.93   1.054810  0.944010  0.997311     2\n",
              "0.94   1.064142  0.934678  0.997338     2\n",
              "0.95   1.077206  0.921614  0.997364     2\n",
              "0.96   1.096803  0.902017  0.997390     2\n",
              "0.97   1.129463  0.869356  0.997416     2\n",
              "0.98   1.194785  0.804034  0.997441     2\n",
              "0.99   1.390751  0.608068  0.997466     2\n",
              "1.00   1.001356  1.001356  0.997488     1"
            ]
          },
          "execution_count": 15,
          "metadata": {},
          "output_type": "execute_result"
        }
      ],
      "source": [
        "alphas = [0.9 + i * 0.01 for i in range(0,11)]\n",
        "res = []\n",
        "for a in alphas:\n",
        "    X = X_.copy()\n",
        "    X[:, 1] = a * X[:, 0] + (1-a) * X[:, 1]\n",
        "    Y = X[:, 0] + X[:, 1] + 0.1 * X[:, 2]\n",
        "    model = OLS(Y,X[:, :2])\n",
        "    results = model.fit()\n",
        "    res.append(dict(alpha=a, r2=results.rsquared, rank=model.rank, c1=results.params[0], c2=results.params[1]))\n",
        "    \n",
        "import pandas\n",
        "df = pandas.DataFrame(res)\n",
        "df = df.set_index('alpha')\n",
        "df"
      ]
    },
    {
      "cell_type": "code",
      "execution_count": 15,
      "metadata": {},
      "outputs": [
        {
          "data": {
            "text/plain": [
              "<matplotlib.axes._subplots.AxesSubplot at 0x214002deda0>"
            ]
          },
          "execution_count": 16,
          "metadata": {},
          "output_type": "execute_result"
        },
        {
          "data": {
            "image/png": "[encoded data removed]",
            "text/plain": [
              "<matplotlib.figure.Figure at 0x2140021ff60>"
            ]
          },
          "metadata": {},
          "output_type": "display_data"
        }
      ],
      "source": [
        "fig, ax = plt.subplots(1,2, figsize=(10,4))\n",
        "df[[\"r2\"]].plot(ax=ax[0])\n",
        "df[[\"c1\", \"c2\"]].plot(ax=ax[1])"
      ]
    },
    {
      "cell_type": "markdown",
      "metadata": {},
      "source": [
        "Paradoxalement, le $r^2$ augmente quand la corr\u00e9lation augmente mais les coefficients sont moins fiables. Les r\u00e9sultats devraient \u00eatre sensiblement identiques en th\u00e9orie mais en pratique, plus le d\u00e9terminant devient proche de z\u00e9ro, plus l'ordinateur est limit\u00e9 par sa pr\u00e9cision num\u00e9rique. Pour en savoir plus, vous pouvez lire un examen \u00e9crit que j'ai r\u00e9dig\u00e9, en python bien s\u00fbr : [Examen Programmation ENSAE premi\u00e8re ann\u00e9e\n",
        "2006](http://www.xavierdupre.fr/site2013/enseignements/tdnote/ecrit_2006.pdf). Cette pr\u00e9cision est aux alentours de $10^{-15}$ ce qui correspond \u00e0 la pr\u00e9cision num\u00e9rique des [double](https://en.wikipedia.org/wiki/Double-precision_floating-point_format)."
      ]
    },
    {
      "cell_type": "code",
      "execution_count": 16,
      "metadata": {},
      "outputs": [
        {
          "data": {
            "text/html": [
              "<div>\n",
              "<style scoped>\n",
              "    .dataframe tbody tr th:only-of-type {\n",
              "        vertical-align: middle;\n",
              "    }\n",
              "\n",
              "    .dataframe tbody tr th {\n",
              "        vertical-align: top;\n",
              "    }\n",
              "\n",
              "    .dataframe thead th {\n",
              "        text-align: right;\n",
              "    }\n",
              "</style>\n",
              "<table border=\"1\" class=\"dataframe\">\n",
              "  <thead>\n",
              "    <tr style=\"text-align: right;\">\n",
              "      <th></th>\n",
              "      <th>c1</th>\n",
              "      <th>c2</th>\n",
              "      <th>r2</th>\n",
              "      <th>rank</th>\n",
              "    </tr>\n",
              "    <tr>\n",
              "      <th>alpha_1</th>\n",
              "      <th></th>\n",
              "      <th></th>\n",
              "      <th></th>\n",
              "      <th></th>\n",
              "    </tr>\n",
              "  </thead>\n",
              "  <tbody>\n",
              "    <tr>\n",
              "      <th>-1.000000e-10</th>\n",
              "      <td>3.919317e+08</td>\n",
              "      <td>-3.919317e+08</td>\n",
              "      <td>0.802966</td>\n",
              "      <td>2</td>\n",
              "    </tr>\n",
              "    <tr>\n",
              "      <th>-1.000000e-11</th>\n",
              "      <td>3.919327e+09</td>\n",
              "      <td>-3.919327e+09</td>\n",
              "      <td>0.802966</td>\n",
              "      <td>2</td>\n",
              "    </tr>\n",
              "    <tr>\n",
              "      <th>-9.999779e-13</th>\n",
              "      <td>3.919546e+10</td>\n",
              "      <td>-3.919546e+10</td>\n",
              "      <td>0.802966</td>\n",
              "      <td>2</td>\n",
              "    </tr>\n",
              "    <tr>\n",
              "      <th>-1.000311e-13</th>\n",
              "      <td>3.919980e+11</td>\n",
              "      <td>-3.919980e+11</td>\n",
              "      <td>0.802967</td>\n",
              "      <td>2</td>\n",
              "    </tr>\n",
              "    <tr>\n",
              "      <th>-9.992007e-15</th>\n",
              "      <td>3.929459e+12</td>\n",
              "      <td>-3.929459e+12</td>\n",
              "      <td>0.802972</td>\n",
              "      <td>2</td>\n",
              "    </tr>\n",
              "    <tr>\n",
              "      <th>-9.992007e-16</th>\n",
              "      <td>1.013562e+00</td>\n",
              "      <td>1.013562e+00</td>\n",
              "      <td>0.802678</td>\n",
              "      <td>2</td>\n",
              "    </tr>\n",
              "    <tr>\n",
              "      <th>-1.110223e-16</th>\n",
              "      <td>1.013562e+00</td>\n",
              "      <td>1.013562e+00</td>\n",
              "      <td>0.802678</td>\n",
              "      <td>1</td>\n",
              "    </tr>\n",
              "    <tr>\n",
              "      <th>0.000000e+00</th>\n",
              "      <td>1.013562e+00</td>\n",
              "      <td>1.013562e+00</td>\n",
              "      <td>0.802678</td>\n",
              "      <td>1</td>\n",
              "    </tr>\n",
              "  </tbody>\n",
              "</table>\n",
              "</div>"
            ],
            "text/plain": [
              "                         c1            c2        r2  rank\n",
              "alpha_1                                                  \n",
              "-1.000000e-10  3.919317e+08 -3.919317e+08  0.802966     2\n",
              "-1.000000e-11  3.919327e+09 -3.919327e+09  0.802966     2\n",
              "-9.999779e-13  3.919546e+10 -3.919546e+10  0.802966     2\n",
              "-1.000311e-13  3.919980e+11 -3.919980e+11  0.802967     2\n",
              "-9.992007e-15  3.929459e+12 -3.929459e+12  0.802972     2\n",
              "-9.992007e-16  1.013562e+00  1.013562e+00  0.802678     2\n",
              "-1.110223e-16  1.013562e+00  1.013562e+00  0.802678     1\n",
              " 0.000000e+00  1.013562e+00  1.013562e+00  0.802678     1"
            ]
          },
          "execution_count": 17,
          "metadata": {},
          "output_type": "execute_result"
        }
      ],
      "source": [
        "alphas = [1 - 10**(-i) for i in range(10,18)]\n",
        "res = []\n",
        "for a in alphas:\n",
        "    X = X_.copy()\n",
        "    X[:, 1] = a * X[:, 0] + (1-a) * X[:, 1]\n",
        "    Y = X[:, 0] + X[:, 1] + X[:, 2]\n",
        "    model = OLS(Y,X[:, :2])\n",
        "    results = model.fit()\n",
        "    res.append(dict(alpha_1=a-1, r2=results.rsquared, rank=model.rank, c1=results.params[0], c2=results.params[1]))\n",
        "    \n",
        "import pandas\n",
        "df = pandas.DataFrame(res)\n",
        "df = df.set_index('alpha_1')\n",
        "df"
      ]
    },
    {
      "cell_type": "markdown",
      "metadata": {},
      "source": [
        "On fait un dernier test avec [scikit-learn](http://scikit-learn.org/stable/) pour v\u00e9rifier que l'algorithme de r\u00e9solution donne des r\u00e9sultats similaires pour un cas o\u00f9 le d\u00e9terminant est quasi-nul."
      ]
    },
    {
      "cell_type": "code",
      "execution_count": 17,
      "metadata": {
        "scrolled": false
      },
      "outputs": [
        {
          "data": {
            "text/html": [
              "<div>\n",
              "<style scoped>\n",
              "    .dataframe tbody tr th:only-of-type {\n",
              "        vertical-align: middle;\n",
              "    }\n",
              "\n",
              "    .dataframe tbody tr th {\n",
              "        vertical-align: top;\n",
              "    }\n",
              "\n",
              "    .dataframe thead th {\n",
              "        text-align: right;\n",
              "    }\n",
              "</style>\n",
              "<table border=\"1\" class=\"dataframe\">\n",
              "  <thead>\n",
              "    <tr style=\"text-align: right;\">\n",
              "      <th></th>\n",
              "      <th>c1</th>\n",
              "      <th>c2</th>\n",
              "    </tr>\n",
              "    <tr>\n",
              "      <th>alpha</th>\n",
              "      <th></th>\n",
              "      <th></th>\n",
              "    </tr>\n",
              "  </thead>\n",
              "  <tbody>\n",
              "    <tr>\n",
              "      <th>0.90</th>\n",
              "      <td>1.380102</td>\n",
              "      <td>0.607974</td>\n",
              "    </tr>\n",
              "    <tr>\n",
              "      <th>0.91</th>\n",
              "      <td>1.423660</td>\n",
              "      <td>0.564415</td>\n",
              "    </tr>\n",
              "    <tr>\n",
              "      <th>0.92</th>\n",
              "      <td>1.478108</td>\n",
              "      <td>0.509967</td>\n",
              "    </tr>\n",
              "    <tr>\n",
              "      <th>0.93</th>\n",
              "      <td>1.548113</td>\n",
              "      <td>0.439962</td>\n",
              "    </tr>\n",
              "    <tr>\n",
              "      <th>0.94</th>\n",
              "      <td>1.641453</td>\n",
              "      <td>0.346623</td>\n",
              "    </tr>\n",
              "    <tr>\n",
              "      <th>0.95</th>\n",
              "      <td>1.772128</td>\n",
              "      <td>0.215947</td>\n",
              "    </tr>\n",
              "    <tr>\n",
              "      <th>0.96</th>\n",
              "      <td>1.968141</td>\n",
              "      <td>0.019934</td>\n",
              "    </tr>\n",
              "    <tr>\n",
              "      <th>0.97</th>\n",
              "      <td>2.294830</td>\n",
              "      <td>-0.306755</td>\n",
              "    </tr>\n",
              "    <tr>\n",
              "      <th>0.98</th>\n",
              "      <td>2.948207</td>\n",
              "      <td>-0.960132</td>\n",
              "    </tr>\n",
              "    <tr>\n",
              "      <th>0.99</th>\n",
              "      <td>4.908339</td>\n",
              "      <td>-2.920264</td>\n",
              "    </tr>\n",
              "    <tr>\n",
              "      <th>1.00</th>\n",
              "      <td>1.013508</td>\n",
              "      <td>1.013508</td>\n",
              "    </tr>\n",
              "  </tbody>\n",
              "</table>\n",
              "</div>"
            ],
            "text/plain": [
              "             c1        c2\n",
              "alpha                    \n",
              "0.90   1.380102  0.607974\n",
              "0.91   1.423660  0.564415\n",
              "0.92   1.478108  0.509967\n",
              "0.93   1.548113  0.439962\n",
              "0.94   1.641453  0.346623\n",
              "0.95   1.772128  0.215947\n",
              "0.96   1.968141  0.019934\n",
              "0.97   2.294830 -0.306755\n",
              "0.98   2.948207 -0.960132\n",
              "0.99   4.908339 -2.920264\n",
              "1.00   1.013508  1.013508"
            ]
          },
          "execution_count": 18,
          "metadata": {},
          "output_type": "execute_result"
        }
      ],
      "source": [
        "from sklearn.linear_model import LinearRegression\n",
        "\n",
        "alphas = [0.9 + i * 0.01 for i in range(0,11)]\n",
        "res = []\n",
        "for a in alphas:\n",
        "    X = X_.copy()\n",
        "    X[:, 1] = a * X[:, 0] + (1-a) * X[:, 1]\n",
        "    Y = X[:, 0] + X[:, 1] + X[:, 2]\n",
        "    model = LinearRegression()\n",
        "    model.fit(X[:, :2], Y)\n",
        "    res.append(dict(alpha=a, c1=model.coef_[0], c2=model.coef_[1]))\n",
        "    \n",
        "import pandas\n",
        "df = pandas.DataFrame(res)\n",
        "df = df.set_index('alpha')\n",
        "df"
      ]
    },
    {
      "cell_type": "code",
      "execution_count": 18,
      "metadata": {},
      "outputs": [
        {
          "data": {
            "text/plain": [
              "<matplotlib.axes._subplots.AxesSubplot at 0x214003adef0>"
            ]
          },
          "execution_count": 19,
          "metadata": {},
          "output_type": "execute_result"
        },
        {
          "data": {
            "image/png": "[encoded data removed]",
            "text/plain": [
              "<matplotlib.figure.Figure at 0x2140036e160>"
            ]
          },
          "metadata": {},
          "output_type": "display_data"
        }
      ],
      "source": [
        "fig, ax = plt.subplots(1,2, figsize=(10,4))\n",
        "df[[\"c1\", \"c2\"]].plot(ax=ax[1])"
      ]
    },
    {
      "cell_type": "markdown",
      "metadata": {},
      "source": [
        "## Indicatrices\n",
        "\n",
        "$X_1$ est une variable al\u00e9atoire gaussienne. On teste maintenant un mod\u00e8le $Y = X'_1 + X'_2 + \\epsilon$ avec $X'_1 = X_1 \\mathbb{1}_{X_1 < 0}$ et $X'_2 = X_1 \\mathbb{1}_{X_1 \\geqslant 0}$."
      ]
    },
    {
      "cell_type": "code",
      "execution_count": 19,
      "metadata": {},
      "outputs": [
        {
          "data": {
            "text/plain": [
              "array([[  1.00000000e+00,   5.34836040e-01,   2.09144531e-04],\n",
              "       [  5.34836040e-01,   1.00000000e+00,   2.14870545e-02],\n",
              "       [  2.09144531e-04,   2.14870545e-02,   1.00000000e+00]])"
            ]
          },
          "execution_count": 20,
          "metadata": {},
          "output_type": "execute_result"
        }
      ],
      "source": [
        "X_ = npr.normal(size=(1000, 3))\n",
        "X = X_.copy()\n",
        "X[:, 1] = X[:, 0]\n",
        "X[X_[:, 0] >= 0, 0] = 0\n",
        "X[X_[:, 1] < 0, 0] = 0\n",
        "Y = X[:, 0] + X[:, 1] + X[:, 2]\n",
        "corrcoef(X.T)"
      ]
    },
    {
      "cell_type": "code",
      "execution_count": 20,
      "metadata": {},
      "outputs": [
        {
          "name": "stderr",
          "output_type": "stream",
          "text": [
            "c:\\python36_x64\\lib\\site-packages\\statsmodels\\regression\\linear_model.py:1432: RuntimeWarning: divide by zero encountered in double_scalars\n",
            "  return self.mse_model/self.mse_resid\n",
            "c:\\python36_x64\\lib\\site-packages\\statsmodels\\regression\\linear_model.py:660: RuntimeWarning: divide by zero encountered in log\n",
            "  llf = -nobs2*np.log(2*np.pi) - nobs2*np.log(ssr / nobs) - nobs2\n",
            "c:\\python36_x64\\lib\\site-packages\\statsmodels\\stats\\stattools.py:47: RuntimeWarning: invalid value encountered in double_scalars\n",
            "  dw = np.sum(diff_resids**2, axis=axis) / np.sum(resids**2, axis=axis)\n",
            "c:\\python36_x64\\lib\\site-packages\\statsmodels\\base\\model.py:1036: RuntimeWarning: divide by zero encountered in true_divide\n",
            "  return self.params / self.bse\n"
          ]
        },
        {
          "data": {
            "text/html": [
              "<table class=\"simpletable\">\n",
              "<caption>OLS Regression Results</caption>\n",
              "<tr>\n",
              "  <th>Dep. Variable:</th>            <td>y</td>        <th>  R-squared:         </th> <td>   1.000</td>\n",
              "</tr>\n",
              "<tr>\n",
              "  <th>Model:</th>                   <td>OLS</td>       <th>  Adj. R-squared:    </th> <td>   1.000</td>\n",
              "</tr>\n",
              "<tr>\n",
              "  <th>Method:</th>             <td>Least Squares</td>  <th>  F-statistic:       </th> <td>     inf</td>\n",
              "</tr>\n",
              "<tr>\n",
              "  <th>Date:</th>             <td>Mon, 27 Nov 2017</td> <th>  Prob (F-statistic):</th>  <td>  0.00</td> \n",
              "</tr>\n",
              "<tr>\n",
              "  <th>Time:</th>                 <td>13:51:57</td>     <th>  Log-Likelihood:    </th> <td>     inf</td>\n",
              "</tr>\n",
              "<tr>\n",
              "  <th>No. Observations:</th>      <td>  1000</td>      <th>  AIC:               </th> <td>    -inf</td>\n",
              "</tr>\n",
              "<tr>\n",
              "  <th>Df Residuals:</th>          <td>   997</td>      <th>  BIC:               </th> <td>    -inf</td>\n",
              "</tr>\n",
              "<tr>\n",
              "  <th>Df Model:</th>              <td>     3</td>      <th>                     </th>     <td> </td>   \n",
              "</tr>\n",
              "<tr>\n",
              "  <th>Covariance Type:</th>      <td>nonrobust</td>    <th>                     </th>     <td> </td>   \n",
              "</tr>\n",
              "</table>\n",
              "<table class=\"simpletable\">\n",
              "<tr>\n",
              "   <td></td>     <th>coef</th>     <th>std err</th>      <th>t</th>      <th>P>|t|</th>  <th>[0.025</th>    <th>0.975]</th>  \n",
              "</tr>\n",
              "<tr>\n",
              "  <th>x1</th> <td>    1.0000</td> <td>        0</td> <td>      inf</td> <td> 0.000</td> <td>    1.000</td> <td>    1.000</td>\n",
              "</tr>\n",
              "<tr>\n",
              "  <th>x2</th> <td>    1.0000</td> <td>        0</td> <td>      inf</td> <td> 0.000</td> <td>    1.000</td> <td>    1.000</td>\n",
              "</tr>\n",
              "<tr>\n",
              "  <th>x3</th> <td>    1.0000</td> <td>        0</td> <td>      inf</td> <td> 0.000</td> <td>    1.000</td> <td>    1.000</td>\n",
              "</tr>\n",
              "</table>\n",
              "<table class=\"simpletable\">\n",
              "<tr>\n",
              "  <th>Omnibus:</th>       <td> 1.006</td> <th>  Durbin-Watson:     </th> <td>     nan</td>\n",
              "</tr>\n",
              "<tr>\n",
              "  <th>Prob(Omnibus):</th> <td> 0.605</td> <th>  Jarque-Bera (JB):  </th> <td> 375.000</td>\n",
              "</tr>\n",
              "<tr>\n",
              "  <th>Skew:</th>          <td> 0.000</td> <th>  Prob(JB):          </th> <td>3.71e-82</td>\n",
              "</tr>\n",
              "<tr>\n",
              "  <th>Kurtosis:</th>      <td> 0.000</td> <th>  Cond. No.          </th> <td>    2.51</td>\n",
              "</tr>\n",
              "</table>"
            ],
            "text/plain": [
              "<class 'statsmodels.iolib.summary.Summary'>\n",
              "\"\"\"\n",
              "                            OLS Regression Results                            \n",
              "==============================================================================\n",
              "Dep. Variable:                      y   R-squared:                       1.000\n",
              "Model:                            OLS   Adj. R-squared:                  1.000\n",
              "Method:                 Least Squares   F-statistic:                       inf\n",
              "Date:                Mon, 27 Nov 2017   Prob (F-statistic):               0.00\n",
              "Time:                        13:51:57   Log-Likelihood:                    inf\n",
              "No. Observations:                1000   AIC:                              -inf\n",
              "Df Residuals:                     997   BIC:                              -inf\n",
              "Df Model:                           3                                         \n",
              "Covariance Type:            nonrobust                                         \n",
              "==============================================================================\n",
              "                 coef    std err          t      P>|t|      [0.025      0.975]\n",
              "------------------------------------------------------------------------------\n",
              "x1             1.0000          0        inf      0.000       1.000       1.000\n",
              "x2             1.0000          0        inf      0.000       1.000       1.000\n",
              "x3             1.0000          0        inf      0.000       1.000       1.000\n",
              "==============================================================================\n",
              "Omnibus:                        1.006   Durbin-Watson:                     nan\n",
              "Prob(Omnibus):                  0.605   Jarque-Bera (JB):              375.000\n",
              "Skew:                           0.000   Prob(JB):                     3.71e-82\n",
              "Kurtosis:                       0.000   Cond. No.                         2.51\n",
              "==============================================================================\n",
              "\n",
              "Warnings:\n",
              "[1] Standard Errors assume that the covariance matrix of the errors is correctly specified.\n",
              "\"\"\""
            ]
          },
          "execution_count": 21,
          "metadata": {},
          "output_type": "execute_result"
        }
      ],
      "source": [
        "model = OLS(Y,X[:, :3])\n",
        "results = model.fit()\n",
        "results.summary()"
      ]
    },
    {
      "cell_type": "markdown",
      "metadata": {},
      "source": [
        "On d\u00e9coupe en trois."
      ]
    },
    {
      "cell_type": "code",
      "execution_count": 21,
      "metadata": {},
      "outputs": [
        {
          "data": {
            "text/plain": [
              "array([[ 1.        , -0.0074758 ,  0.15748455,  0.0482949 ],\n",
              "       [-0.0074758 ,  1.        ,  0.00733666, -0.01876802],\n",
              "       [ 0.15748455,  0.00733666,  1.        , -0.03247997],\n",
              "       [ 0.0482949 , -0.01876802, -0.03247997,  1.        ]])"
            ]
          },
          "execution_count": 22,
          "metadata": {},
          "output_type": "execute_result"
        }
      ],
      "source": [
        "import numpy\n",
        "X = numpy.zeros((X_.shape[0], 4))\n",
        "for i in range(0, 4):\n",
        "    X[:, i] = X_[:, 0]\n",
        "X[:, 3] = X_[:, 2]\n",
        "X[X_[:, 0] > -1, 0] = 0 \n",
        "X[(X_[:, 0] < -1) | (X_[:, 0] > 1), 1] = 0 \n",
        "X[X_[:, 0] < 1, 2] = 0 \n",
        "corrcoef(X.T)"
      ]
    },
    {
      "cell_type": "code",
      "execution_count": 22,
      "metadata": {},
      "outputs": [
        {
          "data": {
            "text/html": [
              "<table class=\"simpletable\">\n",
              "<caption>OLS Regression Results</caption>\n",
              "<tr>\n",
              "  <th>Dep. Variable:</th>            <td>y</td>        <th>  R-squared:         </th> <td>   0.582</td> \n",
              "</tr>\n",
              "<tr>\n",
              "  <th>Model:</th>                   <td>OLS</td>       <th>  Adj. R-squared:    </th> <td>   0.580</td> \n",
              "</tr>\n",
              "<tr>\n",
              "  <th>Method:</th>             <td>Least Squares</td>  <th>  F-statistic:       </th> <td>   462.1</td> \n",
              "</tr>\n",
              "<tr>\n",
              "  <th>Date:</th>             <td>Mon, 27 Nov 2017</td> <th>  Prob (F-statistic):</th> <td>4.15e-188</td>\n",
              "</tr>\n",
              "<tr>\n",
              "  <th>Time:</th>                 <td>13:51:26</td>     <th>  Log-Likelihood:    </th> <td> -1484.1</td> \n",
              "</tr>\n",
              "<tr>\n",
              "  <th>No. Observations:</th>      <td>  1000</td>      <th>  AIC:               </th> <td>   2974.</td> \n",
              "</tr>\n",
              "<tr>\n",
              "  <th>Df Residuals:</th>          <td>   997</td>      <th>  BIC:               </th> <td>   2989.</td> \n",
              "</tr>\n",
              "<tr>\n",
              "  <th>Df Model:</th>              <td>     3</td>      <th>                     </th>     <td> </td>    \n",
              "</tr>\n",
              "<tr>\n",
              "  <th>Covariance Type:</th>      <td>nonrobust</td>    <th>                     </th>     <td> </td>    \n",
              "</tr>\n",
              "</table>\n",
              "<table class=\"simpletable\">\n",
              "<tr>\n",
              "   <td></td>     <th>coef</th>     <th>std err</th>      <th>t</th>      <th>P>|t|</th>  <th>[0.025</th>    <th>0.975]</th>  \n",
              "</tr>\n",
              "<tr>\n",
              "  <th>x1</th> <td>    1.5377</td> <td>    0.054</td> <td>   28.715</td> <td> 0.000</td> <td>    1.433</td> <td>    1.643</td>\n",
              "</tr>\n",
              "<tr>\n",
              "  <th>x2</th> <td>    1.2156</td> <td>    0.076</td> <td>   15.909</td> <td> 0.000</td> <td>    1.066</td> <td>    1.366</td>\n",
              "</tr>\n",
              "<tr>\n",
              "  <th>x3</th> <td>    0.9548</td> <td>    0.054</td> <td>   17.566</td> <td> 0.000</td> <td>    0.848</td> <td>    1.061</td>\n",
              "</tr>\n",
              "</table>\n",
              "<table class=\"simpletable\">\n",
              "<tr>\n",
              "  <th>Omnibus:</th>       <td> 0.300</td> <th>  Durbin-Watson:     </th> <td>   1.991</td>\n",
              "</tr>\n",
              "<tr>\n",
              "  <th>Prob(Omnibus):</th> <td> 0.861</td> <th>  Jarque-Bera (JB):  </th> <td>   0.382</td>\n",
              "</tr>\n",
              "<tr>\n",
              "  <th>Skew:</th>          <td>-0.026</td> <th>  Prob(JB):          </th> <td>   0.826</td>\n",
              "</tr>\n",
              "<tr>\n",
              "  <th>Kurtosis:</th>      <td> 2.920</td> <th>  Cond. No.          </th> <td>    1.43</td>\n",
              "</tr>\n",
              "</table>"
            ],
            "text/plain": [
              "<class 'statsmodels.iolib.summary.Summary'>\n",
              "\"\"\"\n",
              "                            OLS Regression Results                            \n",
              "==============================================================================\n",
              "Dep. Variable:                      y   R-squared:                       0.582\n",
              "Model:                            OLS   Adj. R-squared:                  0.580\n",
              "Method:                 Least Squares   F-statistic:                     462.1\n",
              "Date:                Mon, 27 Nov 2017   Prob (F-statistic):          4.15e-188\n",
              "Time:                        13:51:26   Log-Likelihood:                -1484.1\n",
              "No. Observations:                1000   AIC:                             2974.\n",
              "Df Residuals:                     997   BIC:                             2989.\n",
              "Df Model:                           3                                         \n",
              "Covariance Type:            nonrobust                                         \n",
              "==============================================================================\n",
              "                 coef    std err          t      P>|t|      [0.025      0.975]\n",
              "------------------------------------------------------------------------------\n",
              "x1             1.5377      0.054     28.715      0.000       1.433       1.643\n",
              "x2             1.2156      0.076     15.909      0.000       1.066       1.366\n",
              "x3             0.9548      0.054     17.566      0.000       0.848       1.061\n",
              "==============================================================================\n",
              "Omnibus:                        0.300   Durbin-Watson:                   1.991\n",
              "Prob(Omnibus):                  0.861   Jarque-Bera (JB):                0.382\n",
              "Skew:                          -0.026   Prob(JB):                        0.826\n",
              "Kurtosis:                       2.920   Cond. No.                         1.43\n",
              "==============================================================================\n",
              "\n",
              "Warnings:\n",
              "[1] Standard Errors assume that the covariance matrix of the errors is correctly specified.\n",
              "\"\"\""
            ]
          },
          "execution_count": 23,
          "metadata": {},
          "output_type": "execute_result"
        }
      ],
      "source": [
        "model = OLS(Y,X[:, :3])\n",
        "results = model.fit()\n",
        "results.summary()"
      ]
    },
    {
      "cell_type": "markdown",
      "metadata": {},
      "source": [
        "Ca ne change pas grand chose."
      ]
    },
    {
      "cell_type": "markdown",
      "metadata": {},
      "source": [
        "## R\u00e9gression lin\u00e9aire par morceaux\n",
        "\n",
        "On se place dans un cas particulier o\u00f9 le probl\u00e8me est lin\u00e9aire par morceaux :\n",
        "\n",
        "$$Y = -2 X_1 \\mathbb{1}_{X_1 + \\epsilon_1 <0} + 4 X_1 \\mathbb{1}_{X + \\epsilon_1 > 0} + \\epsilon_2$$\n",
        "\n",
        "La r\u00e9gression donne de tr\u00e8s mauvais r\u00e9sultat sur ce type de probl\u00e8mes mais on cherche une fa\u00e7on syst\u00e9matique de d\u00e9couper le probl\u00e8me en segments lin\u00e9aires."
      ]
    },
    {
      "cell_type": "code",
      "execution_count": 23,
      "metadata": {},
      "outputs": [],
      "source": [
        "X = npr.normal(size=(1000,4))\n",
        "alpha = [4, -2]\n",
        "t = (X[:, 0] + X[:, 3] * 0.5) > 0\n",
        "switch = numpy.zeros(X.shape[0])\n",
        "switch[t] = 1\n",
        "Y = alpha[0] * X[:, 0] * t + alpha[1] * X[:, 0] * (1-t) + X[:, 2]"
      ]
    },
    {
      "cell_type": "code",
      "execution_count": 24,
      "metadata": {},
      "outputs": [
        {
          "data": {
            "text/plain": [
              "[<matplotlib.lines.Line2D at 0x214019d8cf8>]"
            ]
          },
          "execution_count": 25,
          "metadata": {},
          "output_type": "execute_result"
        },
        {
          "data": {
            "image/png": "[encoded data removed]",
            "text/plain": [
              "<matplotlib.figure.Figure at 0x214019d8cc0>"
            ]
          },
          "metadata": {},
          "output_type": "display_data"
        }
      ],
      "source": [
        "fig, ax = plt.subplots(1, 1)\n",
        "ax.plot(X[:, 0], Y, \".\")"
      ]
    },
    {
      "cell_type": "code",
      "execution_count": 25,
      "metadata": {},
      "outputs": [
        {
          "data": {
            "text/html": [
              "<table class=\"simpletable\">\n",
              "<caption>OLS Regression Results</caption>\n",
              "<tr>\n",
              "  <th>Dep. Variable:</th>            <td>y</td>        <th>  R-squared:         </th> <td>   0.122</td>\n",
              "</tr>\n",
              "<tr>\n",
              "  <th>Model:</th>                   <td>OLS</td>       <th>  Adj. R-squared:    </th> <td>   0.121</td>\n",
              "</tr>\n",
              "<tr>\n",
              "  <th>Method:</th>             <td>Least Squares</td>  <th>  F-statistic:       </th> <td>   138.5</td>\n",
              "</tr>\n",
              "<tr>\n",
              "  <th>Date:</th>             <td>Mon, 27 Nov 2017</td> <th>  Prob (F-statistic):</th> <td>4.93e-30</td>\n",
              "</tr>\n",
              "<tr>\n",
              "  <th>Time:</th>                 <td>14:00:21</td>     <th>  Log-Likelihood:    </th> <td> -2569.6</td>\n",
              "</tr>\n",
              "<tr>\n",
              "  <th>No. Observations:</th>      <td>  1000</td>      <th>  AIC:               </th> <td>   5141.</td>\n",
              "</tr>\n",
              "<tr>\n",
              "  <th>Df Residuals:</th>          <td>   999</td>      <th>  BIC:               </th> <td>   5146.</td>\n",
              "</tr>\n",
              "<tr>\n",
              "  <th>Df Model:</th>              <td>     1</td>      <th>                     </th>     <td> </td>   \n",
              "</tr>\n",
              "<tr>\n",
              "  <th>Covariance Type:</th>      <td>nonrobust</td>    <th>                     </th>     <td> </td>   \n",
              "</tr>\n",
              "</table>\n",
              "<table class=\"simpletable\">\n",
              "<tr>\n",
              "   <td></td>     <th>coef</th>     <th>std err</th>      <th>t</th>      <th>P>|t|</th>  <th>[0.025</th>    <th>0.975]</th>  \n",
              "</tr>\n",
              "<tr>\n",
              "  <th>x1</th> <td>    1.1703</td> <td>    0.099</td> <td>   11.768</td> <td> 0.000</td> <td>    0.975</td> <td>    1.365</td>\n",
              "</tr>\n",
              "</table>\n",
              "<table class=\"simpletable\">\n",
              "<tr>\n",
              "  <th>Omnibus:</th>       <td>30.085</td> <th>  Durbin-Watson:     </th> <td>   1.126</td>\n",
              "</tr>\n",
              "<tr>\n",
              "  <th>Prob(Omnibus):</th> <td> 0.000</td> <th>  Jarque-Bera (JB):  </th> <td>  32.009</td>\n",
              "</tr>\n",
              "<tr>\n",
              "  <th>Skew:</th>          <td> 0.428</td> <th>  Prob(JB):          </th> <td>1.12e-07</td>\n",
              "</tr>\n",
              "<tr>\n",
              "  <th>Kurtosis:</th>      <td> 3.190</td> <th>  Cond. No.          </th> <td>    1.00</td>\n",
              "</tr>\n",
              "</table>"
            ],
            "text/plain": [
              "<class 'statsmodels.iolib.summary.Summary'>\n",
              "\"\"\"\n",
              "                            OLS Regression Results                            \n",
              "==============================================================================\n",
              "Dep. Variable:                      y   R-squared:                       0.122\n",
              "Model:                            OLS   Adj. R-squared:                  0.121\n",
              "Method:                 Least Squares   F-statistic:                     138.5\n",
              "Date:                Mon, 27 Nov 2017   Prob (F-statistic):           4.93e-30\n",
              "Time:                        14:00:21   Log-Likelihood:                -2569.6\n",
              "No. Observations:                1000   AIC:                             5141.\n",
              "Df Residuals:                     999   BIC:                             5146.\n",
              "Df Model:                           1                                         \n",
              "Covariance Type:            nonrobust                                         \n",
              "==============================================================================\n",
              "                 coef    std err          t      P>|t|      [0.025      0.975]\n",
              "------------------------------------------------------------------------------\n",
              "x1             1.1703      0.099     11.768      0.000       0.975       1.365\n",
              "==============================================================================\n",
              "Omnibus:                       30.085   Durbin-Watson:                   1.126\n",
              "Prob(Omnibus):                  0.000   Jarque-Bera (JB):               32.009\n",
              "Skew:                           0.428   Prob(JB):                     1.12e-07\n",
              "Kurtosis:                       3.190   Cond. No.                         1.00\n",
              "==============================================================================\n",
              "\n",
              "Warnings:\n",
              "[1] Standard Errors assume that the covariance matrix of the errors is correctly specified.\n",
              "\"\"\""
            ]
          },
          "execution_count": 26,
          "metadata": {},
          "output_type": "execute_result"
        }
      ],
      "source": [
        "model = OLS(Y,X[:, :1])\n",
        "results = model.fit()\n",
        "results.summary()"
      ]
    },
    {
      "cell_type": "code",
      "execution_count": 26,
      "metadata": {},
      "outputs": [],
      "source": [
        "yp = results.predict(X[:, :1])"
      ]
    },
    {
      "cell_type": "code",
      "execution_count": 27,
      "metadata": {},
      "outputs": [
        {
          "data": {
            "text/plain": [
              "<matplotlib.legend.Legend at 0x214021df550>"
            ]
          },
          "execution_count": 28,
          "metadata": {},
          "output_type": "execute_result"
        },
        {
          "data": {
            "image/png": "[encoded data removed]",
            "text/plain": [
              "<matplotlib.figure.Figure at 0x214020d84e0>"
            ]
          },
          "metadata": {},
          "output_type": "display_data"
        }
      ],
      "source": [
        "fig, ax = plt.subplots(1, 1)\n",
        "ax.plot(X[:, 0], Y, \".\", label=\"expected\")\n",
        "ax.plot(X[:, 0], yp, \".\", label=\"predicted\")\n",
        "ax.legend()"
      ]
    },
    {
      "cell_type": "markdown",
      "metadata": {},
      "source": [
        "Passons \u00e0 un arbre de d\u00e9cision qui n'est pas le meilleur mod\u00e8le mais on va d\u00e9tourner ses r\u00e9sultats pour revenir \u00e0 un probl\u00e8me de r\u00e9gression par morceaux."
      ]
    },
    {
      "cell_type": "code",
      "execution_count": 28,
      "metadata": {},
      "outputs": [],
      "source": [
        "from sklearn.tree import DecisionTreeRegressor\n",
        "model = DecisionTreeRegressor(min_samples_leaf=10, max_depth=3)\n",
        "model.fit(X[:, :1], Y)\n",
        "yp = model.predict(X[:, :1])"
      ]
    },
    {
      "cell_type": "code",
      "execution_count": 29,
      "metadata": {},
      "outputs": [
        {
          "data": {
            "text/plain": [
              "<matplotlib.legend.Legend at 0x2140216a668>"
            ]
          },
          "execution_count": 30,
          "metadata": {},
          "output_type": "execute_result"
        },
        {
          "data": {
            "image/png": "[encoded data removed]",
            "text/plain": [
              "<matplotlib.figure.Figure at 0x214021a4198>"
            ]
          },
          "metadata": {},
          "output_type": "display_data"
        }
      ],
      "source": [
        "fig, ax = plt.subplots(1, 1)\n",
        "ax.plot(X[:, 0], Y, \".\", label=\"expected\")\n",
        "ax.plot(X[:, 0], yp, \".\", label=\"predicted\")\n",
        "ax.legend()"
      ]
    },
    {
      "cell_type": "code",
      "execution_count": 30,
      "metadata": {},
      "outputs": [
        {
          "name": "stderr",
          "output_type": "stream",
          "text": [
            "c:\\python36_x64\\lib\\site-packages\\sphinx\\util\\compat.py:40: RemovedInSphinx17Warning: sphinx.util.compat.Directive is deprecated and will be removed in Sphinx 1.7, please use docutils' instead.\n",
            "  RemovedInSphinx17Warning)\n"
          ]
        },
        {
          "data": {
            "image/png": "[encoded data removed]",
            "text/plain": [
              "<IPython.core.display.Image object>"
            ]
          },
          "execution_count": 31,
          "metadata": {},
          "output_type": "execute_result"
        }
      ],
      "source": [
        "from sklearn.tree import export_graphviz\n",
        "export_graphviz(model, out_file=\"arbre.dot\")\n",
        "from pyensae.graphhelper import run_dot\n",
        "run_dot(\"arbre.dot\", \"arbre.png\")\n",
        "from IPython.display import Image\n",
        "Image(\"arbre.png\")"
      ]
    },
    {
      "cell_type": "markdown",
      "metadata": {},
      "source": [
        "On extrait tous les seuils de l'arbre et on ajoute les milieux de segments."
      ]
    },
    {
      "cell_type": "code",
      "execution_count": 31,
      "metadata": {},
      "outputs": [
        {
          "data": {
            "text/plain": [
              "[-2.0,\n",
              " -1.8213835954666138,\n",
              " -1.6427671909332275,\n",
              " -1.2944687008857727,\n",
              " -0.94617021083831787,\n",
              " -0.19603323936462402,\n",
              " 0.55410373210906982,\n",
              " 0.79026675224304199,\n",
              " 1.0264297723770142,\n",
              " 1.2013808488845825,\n",
              " 1.3763319253921509,\n",
              " 1.5761525630950928,\n",
              " 1.7759732007980347,\n",
              " 2.0631749033927917,\n",
              " 2.3503766059875488]"
            ]
          },
          "execution_count": 32,
          "metadata": {},
          "output_type": "execute_result"
        }
      ],
      "source": [
        "th = list(sorted(set(model.tree_.threshold)))\n",
        "th += [(th[i] + th[i-1])/2 for i in range(1,len(th))]\n",
        "th = list(sorted(th))\n",
        "th"
      ]
    },
    {
      "cell_type": "markdown",
      "metadata": {},
      "source": [
        "On fait une r\u00e9gression sur les variables $W_{i>0} = X_1 \\mathbb{1}_{X_1 > t_i}$, $W_0 = X_1$ o\u00f9 les $(t_i)$ sont les seuils."
      ]
    },
    {
      "cell_type": "code",
      "execution_count": 32,
      "metadata": {},
      "outputs": [],
      "source": [
        "W = numpy.zeros((X.shape[0], len(th)+1))\n",
        "x = X[:, 0]\n",
        "W[:, 0] = x\n",
        "for i in range(len(th)):\n",
        "    W[x > th[i], i+1] = x[x > th[i]]"
      ]
    },
    {
      "cell_type": "code",
      "execution_count": 33,
      "metadata": {},
      "outputs": [
        {
          "data": {
            "text/html": [
              "<table class=\"simpletable\">\n",
              "<caption>OLS Regression Results</caption>\n",
              "<tr>\n",
              "  <th>Dep. Variable:</th>            <td>y</td>        <th>  R-squared:         </th> <td>   0.867</td>\n",
              "</tr>\n",
              "<tr>\n",
              "  <th>Model:</th>                   <td>OLS</td>       <th>  Adj. R-squared:    </th> <td>   0.865</td>\n",
              "</tr>\n",
              "<tr>\n",
              "  <th>Method:</th>             <td>Least Squares</td>  <th>  F-statistic:       </th> <td>   399.9</td>\n",
              "</tr>\n",
              "<tr>\n",
              "  <th>Date:</th>             <td>Mon, 27 Nov 2017</td> <th>  Prob (F-statistic):</th>  <td>  0.00</td> \n",
              "</tr>\n",
              "<tr>\n",
              "  <th>Time:</th>                 <td>15:21:16</td>     <th>  Log-Likelihood:    </th> <td> -1626.9</td>\n",
              "</tr>\n",
              "<tr>\n",
              "  <th>No. Observations:</th>      <td>  1000</td>      <th>  AIC:               </th> <td>   3286.</td>\n",
              "</tr>\n",
              "<tr>\n",
              "  <th>Df Residuals:</th>          <td>   984</td>      <th>  BIC:               </th> <td>   3364.</td>\n",
              "</tr>\n",
              "<tr>\n",
              "  <th>Df Model:</th>              <td>    16</td>      <th>                     </th>     <td> </td>   \n",
              "</tr>\n",
              "<tr>\n",
              "  <th>Covariance Type:</th>      <td>nonrobust</td>    <th>                     </th>     <td> </td>   \n",
              "</tr>\n",
              "</table>\n",
              "<table class=\"simpletable\">\n",
              "<tr>\n",
              "   <td></td>      <th>coef</th>     <th>std err</th>      <th>t</th>      <th>P>|t|</th>  <th>[0.025</th>    <th>0.975]</th>  \n",
              "</tr>\n",
              "<tr>\n",
              "  <th>x1</th>  <td>   -2.0108</td> <td>    0.123</td> <td>  -16.372</td> <td> 0.000</td> <td>   -2.252</td> <td>   -1.770</td>\n",
              "</tr>\n",
              "<tr>\n",
              "  <th>x2</th>  <td>   -0.0258</td> <td>    0.208</td> <td>   -0.124</td> <td> 0.901</td> <td>   -0.434</td> <td>    0.382</td>\n",
              "</tr>\n",
              "<tr>\n",
              "  <th>x3</th>  <td>   -0.2698</td> <td>    0.280</td> <td>   -0.963</td> <td> 0.336</td> <td>   -0.819</td> <td>    0.280</td>\n",
              "</tr>\n",
              "<tr>\n",
              "  <th>x4</th>  <td>    0.3945</td> <td>    0.257</td> <td>    1.534</td> <td> 0.125</td> <td>   -0.110</td> <td>    0.899</td>\n",
              "</tr>\n",
              "<tr>\n",
              "  <th>x5</th>  <td>   -0.3092</td> <td>    0.178</td> <td>   -1.735</td> <td> 0.083</td> <td>   -0.659</td> <td>    0.041</td>\n",
              "</tr>\n",
              "<tr>\n",
              "  <th>x6</th>  <td>    0.8607</td> <td>    0.185</td> <td>    4.660</td> <td> 0.000</td> <td>    0.498</td> <td>    1.223</td>\n",
              "</tr>\n",
              "<tr>\n",
              "  <th>x7</th>  <td>    3.7392</td> <td>    0.310</td> <td>   12.063</td> <td> 0.000</td> <td>    3.131</td> <td>    4.347</td>\n",
              "</tr>\n",
              "<tr>\n",
              "  <th>x8</th>  <td>    1.2589</td> <td>    0.353</td> <td>    3.565</td> <td> 0.000</td> <td>    0.566</td> <td>    1.952</td>\n",
              "</tr>\n",
              "<tr>\n",
              "  <th>x9</th>  <td>   -0.0214</td> <td>    0.303</td> <td>   -0.070</td> <td> 0.944</td> <td>   -0.617</td> <td>    0.574</td>\n",
              "</tr>\n",
              "<tr>\n",
              "  <th>x10</th> <td>    0.5161</td> <td>    0.274</td> <td>    1.882</td> <td> 0.060</td> <td>   -0.022</td> <td>    1.054</td>\n",
              "</tr>\n",
              "<tr>\n",
              "  <th>x11</th> <td>   -0.4684</td> <td>    0.234</td> <td>   -2.002</td> <td> 0.046</td> <td>   -0.927</td> <td>   -0.009</td>\n",
              "</tr>\n",
              "<tr>\n",
              "  <th>x12</th> <td>    0.2202</td> <td>    0.232</td> <td>    0.948</td> <td> 0.343</td> <td>   -0.235</td> <td>    0.676</td>\n",
              "</tr>\n",
              "<tr>\n",
              "  <th>x13</th> <td>   -0.1728</td> <td>    0.235</td> <td>   -0.736</td> <td> 0.462</td> <td>   -0.633</td> <td>    0.288</td>\n",
              "</tr>\n",
              "<tr>\n",
              "  <th>x14</th> <td>    0.4970</td> <td>    0.219</td> <td>    2.267</td> <td> 0.024</td> <td>    0.067</td> <td>    0.927</td>\n",
              "</tr>\n",
              "<tr>\n",
              "  <th>x15</th> <td>   -0.2860</td> <td>    0.227</td> <td>   -1.262</td> <td> 0.207</td> <td>   -0.731</td> <td>    0.159</td>\n",
              "</tr>\n",
              "<tr>\n",
              "  <th>x16</th> <td>    0.0125</td> <td>    0.209</td> <td>    0.060</td> <td> 0.952</td> <td>   -0.397</td> <td>    0.422</td>\n",
              "</tr>\n",
              "</table>\n",
              "<table class=\"simpletable\">\n",
              "<tr>\n",
              "  <th>Omnibus:</th>       <td>109.416</td> <th>  Durbin-Watson:     </th> <td>   1.971</td>\n",
              "</tr>\n",
              "<tr>\n",
              "  <th>Prob(Omnibus):</th> <td> 0.000</td>  <th>  Jarque-Bera (JB):  </th> <td> 208.805</td>\n",
              "</tr>\n",
              "<tr>\n",
              "  <th>Skew:</th>          <td>-0.687</td>  <th>  Prob(JB):          </th> <td>4.56e-46</td>\n",
              "</tr>\n",
              "<tr>\n",
              "  <th>Kurtosis:</th>      <td> 4.767</td>  <th>  Cond. No.          </th> <td>    30.2</td>\n",
              "</tr>\n",
              "</table>"
            ],
            "text/plain": [
              "<class 'statsmodels.iolib.summary.Summary'>\n",
              "\"\"\"\n",
              "                            OLS Regression Results                            \n",
              "==============================================================================\n",
              "Dep. Variable:                      y   R-squared:                       0.867\n",
              "Model:                            OLS   Adj. R-squared:                  0.865\n",
              "Method:                 Least Squares   F-statistic:                     399.9\n",
              "Date:                Mon, 27 Nov 2017   Prob (F-statistic):               0.00\n",
              "Time:                        15:21:16   Log-Likelihood:                -1626.9\n",
              "No. Observations:                1000   AIC:                             3286.\n",
              "Df Residuals:                     984   BIC:                             3364.\n",
              "Df Model:                          16                                         \n",
              "Covariance Type:            nonrobust                                         \n",
              "==============================================================================\n",
              "                 coef    std err          t      P>|t|      [0.025      0.975]\n",
              "------------------------------------------------------------------------------\n",
              "x1            -2.0108      0.123    -16.372      0.000      -2.252      -1.770\n",
              "x2            -0.0258      0.208     -0.124      0.901      -0.434       0.382\n",
              "x3            -0.2698      0.280     -0.963      0.336      -0.819       0.280\n",
              "x4             0.3945      0.257      1.534      0.125      -0.110       0.899\n",
              "x5            -0.3092      0.178     -1.735      0.083      -0.659       0.041\n",
              "x6             0.8607      0.185      4.660      0.000       0.498       1.223\n",
              "x7             3.7392      0.310     12.063      0.000       3.131       4.347\n",
              "x8             1.2589      0.353      3.565      0.000       0.566       1.952\n",
              "x9            -0.0214      0.303     -0.070      0.944      -0.617       0.574\n",
              "x10            0.5161      0.274      1.882      0.060      -0.022       1.054\n",
              "x11           -0.4684      0.234     -2.002      0.046      -0.927      -0.009\n",
              "x12            0.2202      0.232      0.948      0.343      -0.235       0.676\n",
              "x13           -0.1728      0.235     -0.736      0.462      -0.633       0.288\n",
              "x14            0.4970      0.219      2.267      0.024       0.067       0.927\n",
              "x15           -0.2860      0.227     -1.262      0.207      -0.731       0.159\n",
              "x16            0.0125      0.209      0.060      0.952      -0.397       0.422\n",
              "==============================================================================\n",
              "Omnibus:                      109.416   Durbin-Watson:                   1.971\n",
              "Prob(Omnibus):                  0.000   Jarque-Bera (JB):              208.805\n",
              "Skew:                          -0.687   Prob(JB):                     4.56e-46\n",
              "Kurtosis:                       4.767   Cond. No.                         30.2\n",
              "==============================================================================\n",
              "\n",
              "Warnings:\n",
              "[1] Standard Errors assume that the covariance matrix of the errors is correctly specified.\n",
              "\"\"\""
            ]
          },
          "execution_count": 34,
          "metadata": {},
          "output_type": "execute_result"
        }
      ],
      "source": [
        "model = OLS(Y,W)\n",
        "results = model.fit()\n",
        "results.summary()"
      ]
    },
    {
      "cell_type": "markdown",
      "metadata": {},
      "source": [
        "Dessinons les r\u00e9sultats de la pr\u00e9dictions."
      ]
    },
    {
      "cell_type": "code",
      "execution_count": 34,
      "metadata": {},
      "outputs": [
        {
          "data": {
            "text/plain": [
              "<matplotlib.legend.Legend at 0x2140a6f27f0>"
            ]
          },
          "execution_count": 35,
          "metadata": {},
          "output_type": "execute_result"
        },
        {
          "data": {
            "image/png": "[encoded data removed]",
            "text/plain": [
              "<matplotlib.figure.Figure at 0x2140a6aa0b8>"
            ]
          },
          "metadata": {},
          "output_type": "display_data"
        }
      ],
      "source": [
        "yp = results.predict(W)\n",
        "fig, ax = plt.subplots(1, 1)\n",
        "ax.plot(X[:, 0], Y, \".\", label=\"expected\")\n",
        "ax.plot(X[:, 0], yp, \".\", label=\"predicted\")\n",
        "ax.legend()"
      ]
    },
    {
      "cell_type": "markdown",
      "metadata": {},
      "source": [
        "Le mod\u00e8le nous sugg\u00e8re de ne garder que quelques seuils. En s'appuyant sur les p-values :"
      ]
    },
    {
      "cell_type": "code",
      "execution_count": 35,
      "metadata": {},
      "outputs": [
        {
          "data": {
            "text/plain": [
              "array([ 0,  5,  6,  7, 10, 13])"
            ]
          },
          "execution_count": 36,
          "metadata": {},
          "output_type": "execute_result"
        }
      ],
      "source": [
        "keep = numpy.arange(len(results.pvalues))[results.pvalues < 0.05]\n",
        "keep"
      ]
    },
    {
      "cell_type": "code",
      "execution_count": 36,
      "metadata": {},
      "outputs": [],
      "source": [
        "W2 = W[:, keep]"
      ]
    },
    {
      "cell_type": "code",
      "execution_count": 37,
      "metadata": {},
      "outputs": [
        {
          "data": {
            "text/html": [
              "<table class=\"simpletable\">\n",
              "<caption>OLS Regression Results</caption>\n",
              "<tr>\n",
              "  <th>Dep. Variable:</th>            <td>y</td>        <th>  R-squared:         </th> <td>   0.865</td>\n",
              "</tr>\n",
              "<tr>\n",
              "  <th>Model:</th>                   <td>OLS</td>       <th>  Adj. R-squared:    </th> <td>   0.864</td>\n",
              "</tr>\n",
              "<tr>\n",
              "  <th>Method:</th>             <td>Least Squares</td>  <th>  F-statistic:       </th> <td>   1061.</td>\n",
              "</tr>\n",
              "<tr>\n",
              "  <th>Date:</th>             <td>Mon, 27 Nov 2017</td> <th>  Prob (F-statistic):</th>  <td>  0.00</td> \n",
              "</tr>\n",
              "<tr>\n",
              "  <th>Time:</th>                 <td>15:21:28</td>     <th>  Log-Likelihood:    </th> <td> -1633.3</td>\n",
              "</tr>\n",
              "<tr>\n",
              "  <th>No. Observations:</th>      <td>  1000</td>      <th>  AIC:               </th> <td>   3279.</td>\n",
              "</tr>\n",
              "<tr>\n",
              "  <th>Df Residuals:</th>          <td>   994</td>      <th>  BIC:               </th> <td>   3308.</td>\n",
              "</tr>\n",
              "<tr>\n",
              "  <th>Df Model:</th>              <td>     6</td>      <th>                     </th>     <td> </td>   \n",
              "</tr>\n",
              "<tr>\n",
              "  <th>Covariance Type:</th>      <td>nonrobust</td>    <th>                     </th>     <td> </td>   \n",
              "</tr>\n",
              "</table>\n",
              "<table class=\"simpletable\">\n",
              "<tr>\n",
              "   <td></td>     <th>coef</th>     <th>std err</th>      <th>t</th>      <th>P>|t|</th>  <th>[0.025</th>    <th>0.975]</th>  \n",
              "</tr>\n",
              "<tr>\n",
              "  <th>x1</th> <td>   -2.0659</td> <td>    0.064</td> <td>  -32.467</td> <td> 0.000</td> <td>   -2.191</td> <td>   -1.941</td>\n",
              "</tr>\n",
              "<tr>\n",
              "  <th>x2</th> <td>    0.7055</td> <td>    0.149</td> <td>    4.734</td> <td> 0.000</td> <td>    0.413</td> <td>    0.998</td>\n",
              "</tr>\n",
              "<tr>\n",
              "  <th>x3</th> <td>    3.7392</td> <td>    0.310</td> <td>   12.047</td> <td> 0.000</td> <td>    3.130</td> <td>    4.348</td>\n",
              "</tr>\n",
              "<tr>\n",
              "  <th>x4</th> <td>    1.4684</td> <td>    0.302</td> <td>    4.862</td> <td> 0.000</td> <td>    0.876</td> <td>    2.061</td>\n",
              "</tr>\n",
              "<tr>\n",
              "  <th>x5</th> <td>   -0.0999</td> <td>    0.148</td> <td>   -0.675</td> <td> 0.500</td> <td>   -0.390</td> <td>    0.191</td>\n",
              "</tr>\n",
              "<tr>\n",
              "  <th>x6</th> <td>    0.2674</td> <td>    0.125</td> <td>    2.145</td> <td> 0.032</td> <td>    0.023</td> <td>    0.512</td>\n",
              "</tr>\n",
              "</table>\n",
              "<table class=\"simpletable\">\n",
              "<tr>\n",
              "  <th>Omnibus:</th>       <td>112.930</td> <th>  Durbin-Watson:     </th> <td>   1.977</td>\n",
              "</tr>\n",
              "<tr>\n",
              "  <th>Prob(Omnibus):</th> <td> 0.000</td>  <th>  Jarque-Bera (JB):  </th> <td> 220.635</td>\n",
              "</tr>\n",
              "<tr>\n",
              "  <th>Skew:</th>          <td>-0.698</td>  <th>  Prob(JB):          </th> <td>1.23e-48</td>\n",
              "</tr>\n",
              "<tr>\n",
              "  <th>Kurtosis:</th>      <td> 4.829</td>  <th>  Cond. No.          </th> <td>    17.6</td>\n",
              "</tr>\n",
              "</table>"
            ],
            "text/plain": [
              "<class 'statsmodels.iolib.summary.Summary'>\n",
              "\"\"\"\n",
              "                            OLS Regression Results                            \n",
              "==============================================================================\n",
              "Dep. Variable:                      y   R-squared:                       0.865\n",
              "Model:                            OLS   Adj. R-squared:                  0.864\n",
              "Method:                 Least Squares   F-statistic:                     1061.\n",
              "Date:                Mon, 27 Nov 2017   Prob (F-statistic):               0.00\n",
              "Time:                        15:21:28   Log-Likelihood:                -1633.3\n",
              "No. Observations:                1000   AIC:                             3279.\n",
              "Df Residuals:                     994   BIC:                             3308.\n",
              "Df Model:                           6                                         \n",
              "Covariance Type:            nonrobust                                         \n",
              "==============================================================================\n",
              "                 coef    std err          t      P>|t|      [0.025      0.975]\n",
              "------------------------------------------------------------------------------\n",
              "x1            -2.0659      0.064    -32.467      0.000      -2.191      -1.941\n",
              "x2             0.7055      0.149      4.734      0.000       0.413       0.998\n",
              "x3             3.7392      0.310     12.047      0.000       3.130       4.348\n",
              "x4             1.4684      0.302      4.862      0.000       0.876       2.061\n",
              "x5            -0.0999      0.148     -0.675      0.500      -0.390       0.191\n",
              "x6             0.2674      0.125      2.145      0.032       0.023       0.512\n",
              "==============================================================================\n",
              "Omnibus:                      112.930   Durbin-Watson:                   1.977\n",
              "Prob(Omnibus):                  0.000   Jarque-Bera (JB):              220.635\n",
              "Skew:                          -0.698   Prob(JB):                     1.23e-48\n",
              "Kurtosis:                       4.829   Cond. No.                         17.6\n",
              "==============================================================================\n",
              "\n",
              "Warnings:\n",
              "[1] Standard Errors assume that the covariance matrix of the errors is correctly specified.\n",
              "\"\"\""
            ]
          },
          "execution_count": 38,
          "metadata": {},
          "output_type": "execute_result"
        }
      ],
      "source": [
        "model = OLS(Y,W2)\n",
        "results = model.fit()\n",
        "results.summary()"
      ]
    },
    {
      "cell_type": "code",
      "execution_count": 38,
      "metadata": {},
      "outputs": [
        {
          "data": {
            "text/plain": [
              "<matplotlib.legend.Legend at 0x2140a77dda0>"
            ]
          },
          "execution_count": 39,
          "metadata": {},
          "output_type": "execute_result"
        },
        {
          "data": {
            "image/png": "[encoded data removed]",
            "text/plain": [
              "<matplotlib.figure.Figure at 0x2140a713978>"
            ]
          },
          "metadata": {},
          "output_type": "display_data"
        }
      ],
      "source": [
        "yp = results.predict(W2)\n",
        "fig, ax = plt.subplots(1, 1)\n",
        "ax.plot(X[:, 0], Y, \".\", label=\"expected\")\n",
        "ax.plot(X[:, 0], yp, \".\", label=\"predicted\")\n",
        "ax.legend()"
      ]
    },
    {
      "cell_type": "markdown",
      "metadata": {},
      "source": [
        "."
      ]
    },
    {
      "cell_type": "code",
      "execution_count": 39,
      "metadata": {},
      "outputs": [],
      "source": []
    }
  ],
  "metadata": {
    "kernelspec": {
      "display_name": "Python 3",
      "language": "python",
      "name": "python3"
    },
    "language_info": {
      "codemirror_mode": {
        "name": "ipython",
        "version": 3
      },
      "file_extension": ".py",
      "mimetype": "text/x-python",
      "name": "python",
      "nbconvert_exporter": "python",
      "pygments_lexer": "ipython3",
      "version": "3.6.5"
    }
  },
  "nbformat": 4,
  "nbformat_minor": 2
}