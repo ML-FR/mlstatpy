{
  "cells": [
    {
      "cell_type": "markdown",
      "metadata": {},
      "source": [
        "# R\u00e9partir en base d'apprentissage et de test\n",
        "\n",
        "C'est un probl\u00e8me plut\u00f4t facile puisqu'il s'agit de r\u00e9partir al\u00e9atoirement les lignes d'une base de donn\u00e9es d'un c\u00f4t\u00e9 ou de l'autre. Lorsque le probl\u00e8me de machine learning \u00e0 r\u00e9soudre est un probl\u00e8me de classification, il faut s'assurer que chaque c\u00f4t\u00e9 contient une proportion raisonnable de chaque classe."
      ]
    },
    {
      "cell_type": "code",
      "execution_count": 1,
      "metadata": {},
      "outputs": [
        {
          "data": {
            "text/html": [
              "<div id=\"my_id_menu_nb\">run previous cell, wait for 2 seconds</div>\n",
              "<script>\n",
              "function repeat_indent_string(n){\n",
              "    var a = \"\" ;\n",
              "    for ( ; n > 0 ; --n)\n",
              "        a += \"    \";\n",
              "    return a;\n",
              "}\n",
              "var update_menu_string = function(begin, lfirst, llast, sformat, send, keep_item, begin_format, end_format) {\n",
              "    var anchors = document.getElementsByClassName(\"section\");\n",
              "    if (anchors.length == 0) {\n",
              "        anchors = document.getElementsByClassName(\"text_cell_render rendered_html\");\n",
              "    }\n",
              "    var i,t;\n",
              "    var text_menu = begin;\n",
              "    var text_memo = \"<pre>\\nlength:\" + anchors.length + \"\\n\";\n",
              "    var ind = \"\";\n",
              "    var memo_level = 1;\n",
              "    var href;\n",
              "    var tags = [];\n",
              "    var main_item = 0;\n",
              "    var format_open = 0;\n",
              "    for (i = 0; i <= llast; i++)\n",
              "        tags.push(\"h\" + i);\n",
              "\n",
              "    for (i = 0; i < anchors.length; i++) {\n",
              "        text_memo += \"**\" + anchors[i].id + \"--\\n\";\n",
              "\n",
              "        var child = null;\n",
              "        for(t = 0; t < tags.length; t++) {\n",
              "            var r = anchors[i].getElementsByTagName(tags[t]);\n",
              "            if (r.length > 0) {\n",
              "child = r[0];\n",
              "break;\n",
              "            }\n",
              "        }\n",
              "        if (child == null) {\n",
              "            text_memo += \"null\\n\";\n",
              "            continue;\n",
              "        }\n",
              "        if (anchors[i].hasAttribute(\"id\")) {\n",
              "            // when converted in RST\n",
              "            href = anchors[i].id;\n",
              "            text_memo += \"#1-\" + href;\n",
              "            // passer \u00e0 child suivant (le chercher)\n",
              "        }\n",
              "        else if (child.hasAttribute(\"id\")) {\n",
              "            // in a notebook\n",
              "            href = child.id;\n",
              "            text_memo += \"#2-\" + href;\n",
              "        }\n",
              "        else {\n",
              "            text_memo += \"#3-\" + \"*\" + \"\\n\";\n",
              "            continue;\n",
              "        }\n",
              "        var title = child.textContent;\n",
              "        var level = parseInt(child.tagName.substring(1,2));\n",
              "\n",
              "        text_memo += \"--\" + level + \"?\" + lfirst + \"--\" + title + \"\\n\";\n",
              "\n",
              "        if ((level < lfirst) || (level > llast)) {\n",
              "            continue ;\n",
              "        }\n",
              "        if (title.endsWith('\u00b6')) {\n",
              "            title = title.substring(0,title.length-1).replace(\"<\", \"&lt;\")\n",
              "         .replace(\">\", \"&gt;\").replace(\"&\", \"&amp;\");\n",
              "        }\n",
              "        if (title.length == 0) {\n",
              "            continue;\n",
              "        }\n",
              "\n",
              "        while (level < memo_level) {\n",
              "            text_menu += end_format + \"</ul>\\n\";\n",
              "            format_open -= 1;\n",
              "            memo_level -= 1;\n",
              "        }\n",
              "        if (level == lfirst) {\n",
              "            main_item += 1;\n",
              "        }\n",
              "        if (keep_item != -1 && main_item != keep_item + 1) {\n",
              "            // alert(main_item + \" - \" + level + \" - \" + keep_item);\n",
              "            continue;\n",
              "        }\n",
              "        while (level > memo_level) {\n",
              "            text_menu += \"<ul>\\n\";\n",
              "            memo_level += 1;\n",
              "        }\n",
              "        text_menu += repeat_indent_string(level-2);\n",
              "        text_menu += begin_format + sformat.replace(\"__HREF__\", href).replace(\"__TITLE__\", title);\n",
              "        format_open += 1;\n",
              "    }\n",
              "    while (1 < memo_level) {\n",
              "        text_menu += end_format + \"</ul>\\n\";\n",
              "        memo_level -= 1;\n",
              "        format_open -= 1;\n",
              "    }\n",
              "    text_menu += send;\n",
              "    //text_menu += \"\\n\" + text_memo;\n",
              "\n",
              "    while (format_open > 0) {\n",
              "        text_menu += end_format;\n",
              "        format_open -= 1;\n",
              "    }\n",
              "    return text_menu;\n",
              "};\n",
              "var update_menu = function() {\n",
              "    var sbegin = \"\";\n",
              "    var sformat = '<a href=\"#__HREF__\">__TITLE__</a>';\n",
              "    var send = \"\";\n",
              "    var begin_format = '<li>';\n",
              "    var end_format = '</li>';\n",
              "    var keep_item = -1;\n",
              "    var text_menu = update_menu_string(sbegin, 2, 4, sformat, send, keep_item,\n",
              "       begin_format, end_format);\n",
              "    var menu = document.getElementById(\"my_id_menu_nb\");\n",
              "    menu.innerHTML=text_menu;\n",
              "};\n",
              "window.setTimeout(update_menu,2000);\n",
              "            </script>"
            ],
            "text/plain": [
              "<IPython.core.display.HTML object>"
            ]
          },
          "execution_count": 2,
          "metadata": {},
          "output_type": "execute_result"
        }
      ],
      "source": [
        "from jyquickhelper import add_notebook_menu\n",
        "add_notebook_menu()"
      ]
    },
    {
      "cell_type": "code",
      "execution_count": 2,
      "metadata": {},
      "outputs": [],
      "source": [
        "import matplotlib.pyplot as plt\n",
        "%matplotlib inline"
      ]
    },
    {
      "cell_type": "markdown",
      "metadata": {},
      "source": [
        "## R\u00e9partition na\u00efve\n",
        "\n",
        "On consid\u00e8re une base de donn\u00e9es qu'on divise en 2/3 apprentissage, 1/3 test. On note cette proportion $t$. Deux classes 0 et 1, la proportion de la classe 1 est de $p$ qu'on choisit petit."
      ]
    },
    {
      "cell_type": "code",
      "execution_count": 3,
      "metadata": {},
      "outputs": [
        {
          "data": {
            "text/plain": [
              "40"
            ]
          },
          "execution_count": 4,
          "metadata": {},
          "output_type": "execute_result"
        }
      ],
      "source": [
        "import random\n",
        "def generate_dataset(n, t):\n",
        "    return [1 if random.random() < t else 0 for i in range(0,n)]\n",
        "\n",
        "ens = generate_dataset(4000, 0.01)\n",
        "sum(ens)"
      ]
    },
    {
      "cell_type": "markdown",
      "metadata": {},
      "source": [
        "Et on divise en base d'apprentissage et de test."
      ]
    },
    {
      "cell_type": "code",
      "execution_count": 4,
      "metadata": {},
      "outputs": [
        {
          "name": "stdout",
          "output_type": "stream",
          "text": [
            "2642 25 0.009462528387585163\n",
            "1358 15 0.011045655375552283\n"
          ]
        }
      ],
      "source": [
        "def custom_split_train_test(ens, p):\n",
        "    choice = generate_dataset(len(ens), p)\n",
        "    train = [x for x, c in zip(ens, choice) if c == 1]\n",
        "    test = [x for x, c in zip(ens, choice) if c == 0]\n",
        "    return train, test\n",
        "\n",
        "train, test = custom_split_train_test(ens, 0.66)\n",
        "print(len(train), sum(train), sum(train)/len(train))\n",
        "print(len(test), sum(test), sum(test)/len(test))"
      ]
    },
    {
      "cell_type": "markdown",
      "metadata": {},
      "source": [
        "On recommence un grand nombre de fois et on repr\u00e9sente la proportion obtenue dans la base de test."
      ]
    },
    {
      "cell_type": "code",
      "execution_count": 5,
      "metadata": {},
      "outputs": [],
      "source": [
        "tirages = [sum(test)/len(test) for train, test in [custom_split_train_test(ens, 0.66) for i in range(0,100)]]"
      ]
    },
    {
      "cell_type": "code",
      "execution_count": 6,
      "metadata": {},
      "outputs": [
        {
          "data": {
            "text/plain": [
              "Text(0.5,0,'tirages')"
            ]
          },
          "execution_count": 7,
          "metadata": {},
          "output_type": "execute_result"
        },
        {
          "data": {
            "image/png": "[encoded data removed]",
            "text/plain": [
              "<matplotlib.figure.Figure at 0x277710bde80>"
            ]
          },
          "metadata": {},
          "output_type": "display_data"
        }
      ],
      "source": [
        "plt.plot(tirages, \"o\")\n",
        "plt.ylabel(\"proportion classe 1\")\n",
        "plt.xlabel(\"tirages\")"
      ]
    },
    {
      "cell_type": "markdown",
      "metadata": {},
      "source": [
        "On consid\u00e8re maintenant la moyenne, les valeurs extr\u00eames de la proportion en faisant varier $p$."
      ]
    },
    {
      "cell_type": "code",
      "execution_count": 7,
      "metadata": {},
      "outputs": [],
      "source": [
        "ps = [0.001 * i for i in range(1, 50)]\n",
        "tmin, tmax, tmean = [], [], []\n",
        "for p in ps:\n",
        "    ens = generate_dataset(4000, p)\n",
        "    tirages = [sum(test)/len(test) for train, test in [custom_split_train_test(ens, 0.66) for i in range(0,200)]]\n",
        "    tirages.sort()\n",
        "    tmin.append(tirages[int(len(tirages)*0.05)])\n",
        "    tmax.append(tirages[-int(len(tirages)*0.05)])\n",
        "    tmean.append(sum(tirages) / len(tirages))"
      ]
    },
    {
      "cell_type": "code",
      "execution_count": 8,
      "metadata": {},
      "outputs": [
        {
          "data": {
            "text/plain": [
              "<matplotlib.legend.Legend at 0x27771387b00>"
            ]
          },
          "execution_count": 9,
          "metadata": {},
          "output_type": "execute_result"
        },
        {
          "data": {
            "image/png": "[encoded data removed]",
            "text/plain": [
              "<matplotlib.figure.Figure at 0x2777138da20>"
            ]
          },
          "metadata": {},
          "output_type": "display_data"
        }
      ],
      "source": [
        "fig, ax = plt.subplots(1, 1)\n",
        "ax.plot(ps, ps, \"--\", label=\"expected proportion\")\n",
        "ax.plot(ps, tmin, label=\"min\")\n",
        "ax.plot(ps, tmax, label=\"max\")\n",
        "ax.plot(ps, tmean, label=\"mean\")\n",
        "ax.legend()"
      ]
    },
    {
      "cell_type": "markdown",
      "metadata": {},
      "source": [
        "Et [train_test_split](http://scikit-learn.org/stable/modules/generated/sklearn.model_selection.train_test_split.html)..."
      ]
    },
    {
      "cell_type": "code",
      "execution_count": 9,
      "metadata": {},
      "outputs": [],
      "source": [
        "from sklearn.model_selection import train_test_split\n",
        "import pandas\n",
        "\n",
        "ps = [0.001 * i for i in range(1, 50)]\n",
        "tmin, tmax, tmean = [], [], []\n",
        "for p in ps:\n",
        "    ens = pandas.Series(generate_dataset(4000, p))\n",
        "    tirages = [sum(test)/len(test) for train, test in [train_test_split(ens, test_size=0.66) for i in range(0,200)]]\n",
        "    tirages.sort()\n",
        "    tmin.append(tirages[int(len(tirages)*0.05)])\n",
        "    tmax.append(tirages[-int(len(tirages)*0.05)])\n",
        "    tmean.append(sum(tirages) / len(tirages))"
      ]
    },
    {
      "cell_type": "code",
      "execution_count": 10,
      "metadata": {},
      "outputs": [
        {
          "data": {
            "text/plain": [
              "<matplotlib.legend.Legend at 0x27773c64c50>"
            ]
          },
          "execution_count": 11,
          "metadata": {},
          "output_type": "execute_result"
        },
        {
          "data": {
            "image/png": "[encoded data removed]",
            "text/plain": [
              "<matplotlib.figure.Figure at 0x2777138db38>"
            ]
          },
          "metadata": {},
          "output_type": "display_data"
        }
      ],
      "source": [
        "fig, ax = plt.subplots(1, 1)\n",
        "ax.plot(ps, ps, \"--\", label=\"expected proportion\")\n",
        "ax.plot(ps, tmin, label=\"min\")\n",
        "ax.plot(ps, tmax, label=\"max\")\n",
        "ax.plot(ps, tmean, label=\"mean\")\n",
        "ax.set_title(\"train_test_split from sklearn\")\n",
        "ax.legend()"
      ]
    },
    {
      "cell_type": "markdown",
      "metadata": {},
      "source": [
        "L'\u00e9cart entre les extr\u00eames para\u00eet plus petit. Le g\u00e9n\u00e9rateur pseudo al\u00e9atoire utilis\u00e9 par scikit-learn para\u00eet de meilleur qualit\u00e9. Nous y reviendront peut-\u00eatre un jour."
      ]
    },
    {
      "cell_type": "markdown",
      "metadata": {},
      "source": [
        "## R\u00e9partition stratifi\u00e9e"
      ]
    },
    {
      "cell_type": "markdown",
      "metadata": {},
      "source": [
        "Nous utilisons maintenant le param\u00e8tre *stratify* qui permet de s'assurer que les deux classes sont \u00e9quitablement r\u00e9parties entre les deux ensembles *train* et *test*."
      ]
    },
    {
      "cell_type": "code",
      "execution_count": 11,
      "metadata": {},
      "outputs": [],
      "source": [
        "from sklearn.model_selection import train_test_split\n",
        "import pandas\n",
        "\n",
        "ps = [0.001 * i for i in range(1, 50)]\n",
        "tmin, tmax, tmean = [], [], []\n",
        "for p in ps:\n",
        "    ens = pandas.Series(generate_dataset(4000, p))\n",
        "    \n",
        "    traintest = []\n",
        "    excs = []\n",
        "    for i in range(0, 200):\n",
        "        try:\n",
        "            train, test = train_test_split(ens, test_size=0.66, stratify=ens)\n",
        "            traintest.append((train,test))\n",
        "        except ValueError as e:\n",
        "            print(\"Skipping: small class too small in one side\", e)\n",
        "            excs.append(e)\n",
        "    if len(traintest) < 100:\n",
        "        ex = excs[0] if len(excs) > 0 else \"no exception\"\n",
        "        raise Exception(\"Too few, you should check the implementation is ok.\\n{0}\".format(ex))\n",
        "    tirages = [sum(test)/len(test) for train, test in traintest]\n",
        "    tirages.sort()\n",
        "    tmin.append(tirages[int(len(tirages)*0.05)])\n",
        "    tmax.append(tirages[-int(len(tirages)*0.05)])\n",
        "    tmean.append(sum(tirages) / len(tirages))"
      ]
    },
    {
      "cell_type": "code",
      "execution_count": 12,
      "metadata": {},
      "outputs": [
        {
          "data": {
            "text/plain": [
              "<matplotlib.legend.Legend at 0x27774d28a20>"
            ]
          },
          "execution_count": 13,
          "metadata": {},
          "output_type": "execute_result"
        },
        {
          "data": {
            "image/png": "[encoded data removed]",
            "text/plain": [
              "<matplotlib.figure.Figure at 0x27773c58fd0>"
            ]
          },
          "metadata": {},
          "output_type": "display_data"
        }
      ],
      "source": [
        "fig, ax = plt.subplots(1, 1)\n",
        "ax.plot(ps, ps, \"--\", label=\"expected proportion\")\n",
        "ax.plot(ps, tmin, label=\"min\")\n",
        "ax.plot(ps, tmax, label=\"max\")\n",
        "ax.plot(ps, tmean, label=\"mean\")\n",
        "ax.set_title(\"stratified train_test_split from sklearn\")\n",
        "ax.legend()"
      ]
    },
    {
      "cell_type": "markdown",
      "metadata": {},
      "source": [
        "La proportion initiale est bien respect\u00e9e. Comment faire cela en pratique ? Le plus simple est sans doute de :\n",
        "\n",
        "* De trier les observations qui appartiennent \u00e0 chaque classe.\n",
        "* De les permuter de fa\u00e7on al\u00e9atoires.\n",
        "* Puis de prendre les premiers \u00e9l\u00e9ments pour la base d'apprentissage dans chaque classe et les derniers pour la base de test."
      ]
    },
    {
      "cell_type": "code",
      "execution_count": 13,
      "metadata": {},
      "outputs": [],
      "source": [
        "def custom_statitied_split_train_test(ens, p, stratify):\n",
        "    strat = set(stratify)\n",
        "    train = []\n",
        "    test = []\n",
        "    for st in strat:\n",
        "        cl = [e for e, s in zip(ens, stratify) if s == st]\n",
        "        random.shuffle(cl)\n",
        "        i = int(len(cl) * p)\n",
        "        train.extend(cl[:i])\n",
        "        test.extend(cl[i:])\n",
        "    return train, test"
      ]
    },
    {
      "cell_type": "code",
      "execution_count": 14,
      "metadata": {},
      "outputs": [],
      "source": [
        "ps = [0.001 * i for i in range(1, 50)]\n",
        "tmin, tmax, tmean = [], [], []\n",
        "for p in ps:\n",
        "    ens = generate_dataset(4000, p)\n",
        "    tirages = [sum(test)/len(test) for train, test in [custom_statitied_split_train_test(ens, \n",
        "                        p=0.66, stratify=ens) for i in range(0,200)]]\n",
        "    tirages.sort()\n",
        "    tmin.append(tirages[int(len(tirages)*0.05)])\n",
        "    tmax.append(tirages[-int(len(tirages)*0.05)])\n",
        "    tmean.append(sum(tirages) / len(tirages))"
      ]
    },
    {
      "cell_type": "code",
      "execution_count": 15,
      "metadata": {},
      "outputs": [
        {
          "data": {
            "text/plain": [
              "<matplotlib.legend.Legend at 0x27774da6d30>"
            ]
          },
          "execution_count": 16,
          "metadata": {},
          "output_type": "execute_result"
        },
        {
          "data": {
            "image/png": "[encoded data removed]",
            "text/plain": [
              "<matplotlib.figure.Figure at 0x27774d67860>"
            ]
          },
          "metadata": {},
          "output_type": "display_data"
        }
      ],
      "source": [
        "fig, ax = plt.subplots(1, 1)\n",
        "ax.plot(ps, ps, \"--\", label=\"expected proportion\")\n",
        "ax.plot(ps, tmin, label=\"min\")\n",
        "ax.plot(ps, tmax, label=\"max\")\n",
        "ax.plot(ps, tmean, label=\"mean\")\n",
        "ax.set_title(\"custom stratified train_test_split\")\n",
        "ax.legend()"
      ]
    },
    {
      "cell_type": "markdown",
      "metadata": {},
      "source": [
        "La m\u00e9thode est simple mais plus co\u00fbteuse puisqu'elle n\u00e9cessite un tri."
      ]
    },
    {
      "cell_type": "code",
      "execution_count": 16,
      "metadata": {},
      "outputs": [
        {
          "name": "stdout",
          "output_type": "stream",
          "text": [
            "10000\n",
            "20000\n",
            "50000\n",
            "100000\n",
            "200000\n",
            "500000\n",
            "1000000\n",
            "2000000\n",
            "5000000\n"
          ]
        }
      ],
      "source": [
        "import time\n",
        "\n",
        "ns = []\n",
        "tn = []\n",
        "ts = []\n",
        "\n",
        "ii = 5\n",
        "for N in [10000, 20000, 50000, 100000, 200000, 500000, int(1e6),\n",
        "          int(2e6), int(5e6)]:\n",
        "    print(N)\n",
        "    ens = pandas.Series(generate_dataset(N, 0.05))\n",
        "    ns.append(N)\n",
        "    \n",
        "    tt = []\n",
        "    for i in range(0,ii):\n",
        "        t = time.clock()\n",
        "        train_test_split(ens, test_size=0.66)\n",
        "        d = 1.0 * (time.clock()-t) / ii\n",
        "        tt.append(d)\n",
        "    tt.sort()\n",
        "    tn.append(tt[len(tt)//2])\n",
        "    \n",
        "    tt = []\n",
        "    for i in range(0,ii):\n",
        "        t = time.clock()\n",
        "        train_test_split(ens, test_size=0.66, stratify=ens)\n",
        "        d = 1.0 * (time.clock()-t) / ii\n",
        "        tt.append(d)\n",
        "    tt.sort()\n",
        "    ts.append(tt[len(tt)//2])\n"
      ]
    },
    {
      "cell_type": "code",
      "execution_count": 17,
      "metadata": {},
      "outputs": [
        {
          "data": {
            "text/plain": [
              "<matplotlib.legend.Legend at 0x27700257940>"
            ]
          },
          "execution_count": 18,
          "metadata": {},
          "output_type": "execute_result"
        },
        {
          "data": {
            "image/png": "[encoded data removed]",
            "text/plain": [
              "<matplotlib.figure.Figure at 0x27700296048>"
            ]
          },
          "metadata": {},
          "output_type": "display_data"
        }
      ],
      "source": [
        "import math\n",
        "fig, ax = plt.subplots(1, 1)\n",
        "dd = tn[-1] - (ts[-1] - tn[-1])*1.3\n",
        "ax.plot(ns, [x * dd / ns[-1] for x in ns], label=\"O(x)\")\n",
        "ax.plot(ns, [x * math.log(x) * ns[0] * dd / ns[-1] / (ns[0] * math.log(ns[0])) for x in ns], label=\"O(x ln x)\")\n",
        "ax.plot(ns, tn, label=\"split\")\n",
        "ax.plot(ns, ts, label=\"stratified split\")\n",
        "ax.set_title(\"processing time for train_test_split\")\n",
        "ax.grid(True)\n",
        "ax.set_xscale(\"log\", nonposx='clip')\n",
        "ax.set_yscale(\"log\", nonposy='clip')\n",
        "ax.set_xlabel(\"N\")\n",
        "ax.set_ylabel(\"time(s)\")\n",
        "ax.legend()"
      ]
    },
    {
      "cell_type": "markdown",
      "metadata": {},
      "source": [
        "Le co\u00fbt de la fonction [train_test_split](http://scikit-learn.org/stable/modules/generated/sklearn.model_selection.train_test_split.html) semble \u00eatre entre $O(n)$ et $O(n \\ln n)$. Regardons."
      ]
    },
    {
      "cell_type": "code",
      "execution_count": 18,
      "metadata": {},
      "outputs": [
        {
          "data": {
            "text/plain": [
              "<matplotlib.legend.Legend at 0x277003c0438>"
            ]
          },
          "execution_count": 19,
          "metadata": {},
          "output_type": "execute_result"
        },
        {
          "data": {
            "image/png": "[encoded data removed]",
            "text/plain": [
              "<matplotlib.figure.Figure at 0x27700370c50>"
            ]
          },
          "metadata": {},
          "output_type": "display_data"
        }
      ],
      "source": [
        "import math\n",
        "fig, ax = plt.subplots(1, 1)\n",
        "ax.plot(ns, [(x / tn[-1]) / (n * math.log(n) / (ns[-1] * math.log(ns[-1]))) for x, n in zip(tn, ns)], \n",
        "        label=\"split / n ln s\")\n",
        "ax.plot(ns, [(x / ts[-1]) / (n * math.log(n) / (ns[-1] * math.log(ns[-1]))) for x, n in zip(ts, ns)], \n",
        "        label=\"stratified / n ln s\")\n",
        "ax.plot(ns, [(x / tn[-1]) / (n / ns[-1]) for x, n in zip(tn, ns)], label=\"split / n\")\n",
        "ax.plot(ns, [(x / ts[-1]) / (n / ns[-1]) for x, n in zip(ts, ns)], label=\"stratified / n\")\n",
        "\n",
        "ax.set_title(\"processing time for train_test_split\")\n",
        "ax.grid(True)\n",
        "ax.set_xscale(\"log\", nonposx='clip')\n",
        "ax.set_xlabel(\"N\")\n",
        "ax.set_ylabel(\"time(s) / (s ln s)\")\n",
        "ax.set_ylim([0.5,1.5])\n",
        "ax.legend()"
      ]
    },
    {
      "cell_type": "markdown",
      "metadata": {},
      "source": [
        "C'est difficile \u00e0 voir sur ce sch\u00e9ma. Il faudrait tirer plus d'exemple, regader les quantiles plut\u00f4t que la seule m\u00e9diane. Le [code de scikit-learn](https://github.com/scikit-learn/scikit-learn/blob/master/sklearn/model_selection/_split.py#L1048) est plus explicite, une permutation pr\u00e9c\u00e8de la r\u00e9partition en train / test."
      ]
    },
    {
      "cell_type": "markdown",
      "metadata": {},
      "source": [
        "## Streaming splitting\n",
        "\n",
        "Streaming veut dire qu'on traite les donn\u00e9es sous la forme d'un flux et qu'on ne sait pas combien il y en. Concr\u00e8tement, il faut commencer la r\u00e9partition train / test au moment sans savoir quand elle s'arr\u00eatera. Par cons\u00e9quent, il faut qu'\u00e0 tout instant, on soit capable d'interrompre la r\u00e9partition et celle-ci doit \u00eatre valide.\n",
        "\n",
        "Le premier algorithme qui consiste \u00e0 tirer un nombre al\u00e9atoire et \u00e0 le r\u00e9partir en train ou test selon le nombre tir\u00e9. Chaque observation est trait\u00e9e ind\u00e9pendamment. A tout moment, la r\u00e9partition peut \u00eatre interrompue. En pratique, on impl\u00e9mente ce type de processus sous la forme d'it\u00e9rateur ou de mapper. C'est une fonction qui accepte un it\u00e9rateur sur un ensemble et qui retourne un it\u00e9rateur sur les valeurs transform\u00e9es. Dans notre cas, on retourne l'observation, suivi de 0 si elle est class\u00e9e en *train* et 1 en *test*."
      ]
    },
    {
      "cell_type": "code",
      "execution_count": 19,
      "metadata": {},
      "outputs": [],
      "source": [
        "def streaming_split_train_test(stream, p):\n",
        "    for obs in stream:\n",
        "        x = random.random()\n",
        "        yield obs, 0 if x <= p else 1"
      ]
    },
    {
      "cell_type": "code",
      "execution_count": 20,
      "metadata": {},
      "outputs": [
        {
          "name": "stdout",
          "output_type": "stream",
          "text": [
            "obs=0 train/test=0\n",
            "obs=0 train/test=0\n",
            "obs=0 train/test=1\n",
            "obs=0 train/test=1\n",
            "obs=0 train/test=1\n",
            "obs=0 train/test=1\n",
            "obs=0 train/test=0\n",
            "obs=0 train/test=0\n",
            "obs=0 train/test=0\n",
            "obs=0 train/test=0\n"
          ]
        }
      ],
      "source": [
        "def iterate_data(n, t):\n",
        "    while n > 0:\n",
        "        yield 1 if random.random() < t else 0\n",
        "        n -= 1\n",
        "\n",
        "for obs, s in streaming_split_train_test(iterate_data(10, 0.05), 0.66):\n",
        "    print(\"obs={0} train/test={1}\".format(obs, s))"
      ]
    },
    {
      "cell_type": "markdown",
      "metadata": {},
      "source": [
        "La r\u00e9partition stratifi\u00e9e repose sur une permutation al\u00e9atoire et cela implique d'avoir acc\u00e8s \u00e0 l'int\u00e9gralit\u00e9 des donn\u00e9es au pr\u00e9alable. En *streaming*, ce n'est pas possible. Il faut donc penser \u00e0 autre chose pour obtenir une version stratifi\u00e9e de la version *streaming*. Rien n'emp\u00eache en version *streaming* de garder les derni\u00e8res observations en m\u00e9moire pour faire une mini-permutation. Nous allons introduire quelques changements :\n",
        "\n",
        "1. Le *stream* est maintenant un flux sur deux valeurs, l'observation et la classe \u00e0 laquelle il appartient.\n",
        "2. La fonction va conserver les derni\u00e8res valeurs pour chaque classe.\n",
        "3. La fonction va produire des observations de temps en temps quand elle sera s\u00fbre que les observations seront stratifi\u00e9es.\n",
        "4. Nuos allons compter les observations distribu\u00e9es dans chaque base."
      ]
    },
    {
      "cell_type": "code",
      "execution_count": 21,
      "metadata": {},
      "outputs": [],
      "source": [
        "def streaming_stratified_split_train_test(stream, p):\n",
        "    n = max(1/p, 1/(1-p))\n",
        "    if n > 10000:\n",
        "        raise Exception(\"Cette r\u00e9partition train / test est vraiment d\u00e9s\u00e9quilibr\u00e9e.\")\n",
        "    memory = {}\n",
        "    for obs, strat in stream:\n",
        "        if strat not in memory:\n",
        "            memory[strat] = []\n",
        "        memory[strat].append(obs)\n",
        "\n",
        "        for k in memory:\n",
        "            v = memory[k]\n",
        "            if len(v) >= n:\n",
        "                # on permute al\u00e9atoirement\n",
        "                random.shuffle(v)\n",
        "                i = int(len(v) * p + 0.5)\n",
        "                for j in range(0,i):\n",
        "                    yield v[j], 0  # apprentissage\n",
        "                for j in range(i,len(v)):\n",
        "                    yield v[j], 1  # test\n",
        "                # on efface de la m\u00e9moire les informations produites\n",
        "                memory[k] = []\n",
        "\n",
        "    # lorsqu'on a fini, il faut tout de m\u00eame r\u00e9partir les \n",
        "    # observations stock\u00e9es\n",
        "    for k in memory:\n",
        "        v = memory[k]\n",
        "        # on permute al\u00e9atoirement\n",
        "        random.shuffle(v)\n",
        "        i = int(len(v) * p)\n",
        "        for j in range(0,i):\n",
        "            yield v[j], 0  # apprentissage\n",
        "        for j in range(i,len(v)):\n",
        "            yield v[j], 1  # test"
      ]
    },
    {
      "cell_type": "code",
      "execution_count": 22,
      "metadata": {},
      "outputs": [
        {
          "name": "stdout",
          "output_type": "stream",
          "text": [
            "(10000, 2)\n"
          ]
        },
        {
          "data": {
            "text/html": [
              "<div>\n",
              "<style scoped>\n",
              "    .dataframe tbody tr th:only-of-type {\n",
              "        vertical-align: middle;\n",
              "    }\n",
              "\n",
              "    .dataframe tbody tr th {\n",
              "        vertical-align: top;\n",
              "    }\n",
              "\n",
              "    .dataframe thead th {\n",
              "        text-align: right;\n",
              "    }\n",
              "</style>\n",
              "<table border=\"1\" class=\"dataframe\">\n",
              "  <thead>\n",
              "    <tr style=\"text-align: right;\">\n",
              "      <th></th>\n",
              "      <th>obs</th>\n",
              "      <th>train_test</th>\n",
              "    </tr>\n",
              "  </thead>\n",
              "  <tbody>\n",
              "    <tr>\n",
              "      <th>0</th>\n",
              "      <td>0</td>\n",
              "      <td>0</td>\n",
              "    </tr>\n",
              "    <tr>\n",
              "      <th>1</th>\n",
              "      <td>0</td>\n",
              "      <td>0</td>\n",
              "    </tr>\n",
              "    <tr>\n",
              "      <th>2</th>\n",
              "      <td>0</td>\n",
              "      <td>1</td>\n",
              "    </tr>\n",
              "    <tr>\n",
              "      <th>3</th>\n",
              "      <td>0</td>\n",
              "      <td>0</td>\n",
              "    </tr>\n",
              "    <tr>\n",
              "      <th>4</th>\n",
              "      <td>0</td>\n",
              "      <td>0</td>\n",
              "    </tr>\n",
              "  </tbody>\n",
              "</table>\n",
              "</div>"
            ],
            "text/plain": [
              "   obs  train_test\n",
              "0    0           0\n",
              "1    0           0\n",
              "2    0           1\n",
              "3    0           0\n",
              "4    0           0"
            ]
          },
          "execution_count": 23,
          "metadata": {},
          "output_type": "execute_result"
        }
      ],
      "source": [
        "iter = streaming_stratified_split_train_test( ((i,i) for i in iterate_data(10000, 0.05)), 0.66)\n",
        "df = pandas.DataFrame(iter)\n",
        "df.columns = [\"obs\", \"train_test\"]\n",
        "print(df.shape)\n",
        "df.head()"
      ]
    },
    {
      "cell_type": "code",
      "execution_count": 23,
      "metadata": {},
      "outputs": [
        {
          "data": {
            "text/html": [
              "<div>\n",
              "<style scoped>\n",
              "    .dataframe tbody tr th:only-of-type {\n",
              "        vertical-align: middle;\n",
              "    }\n",
              "\n",
              "    .dataframe tbody tr th {\n",
              "        vertical-align: top;\n",
              "    }\n",
              "\n",
              "    .dataframe thead th {\n",
              "        text-align: right;\n",
              "    }\n",
              "</style>\n",
              "<table border=\"1\" class=\"dataframe\">\n",
              "  <thead>\n",
              "    <tr style=\"text-align: right;\">\n",
              "      <th>obs</th>\n",
              "      <th>0</th>\n",
              "      <th>1</th>\n",
              "    </tr>\n",
              "    <tr>\n",
              "      <th>train_test</th>\n",
              "      <th></th>\n",
              "      <th></th>\n",
              "    </tr>\n",
              "  </thead>\n",
              "  <tbody>\n",
              "    <tr>\n",
              "      <th>0</th>\n",
              "      <td>6323</td>\n",
              "      <td>343</td>\n",
              "    </tr>\n",
              "    <tr>\n",
              "      <th>1</th>\n",
              "      <td>3162</td>\n",
              "      <td>172</td>\n",
              "    </tr>\n",
              "  </tbody>\n",
              "</table>\n",
              "</div>"
            ],
            "text/plain": [
              "obs            0    1\n",
              "train_test           \n",
              "0           6323  343\n",
              "1           3162  172"
            ]
          },
          "execution_count": 24,
          "metadata": {},
          "output_type": "execute_result"
        }
      ],
      "source": [
        "df2 = df.copy()\n",
        "df2[\"un\"] = 1\n",
        "piv = df2.groupby([\"obs\", \"train_test\"], as_index=False).count().pivot(\"train_test\", \"obs\", \"un\")\n",
        "piv"
      ]
    },
    {
      "cell_type": "markdown",
      "metadata": {},
      "source": [
        "Il y a juste un petit probl\u00e8me avec cette impl\u00e9mentation. On multiplie la taille du buffer par un r\u00e9el. Je sugg\u00e8re d'enlever le nombre 0.5 dans le code pour voir ce qu'il se passe. La somme des arrondis est loin d'\u00eatre un arrondi m\u00eame si $N$ choisi tel que $N = \\max(\\frac{1}{p}, \\frac{1}{1-p})$."
      ]
    },
    {
      "cell_type": "code",
      "execution_count": 24,
      "metadata": {},
      "outputs": [
        {
          "data": {
            "text/html": [
              "<div>\n",
              "<style scoped>\n",
              "    .dataframe tbody tr th:only-of-type {\n",
              "        vertical-align: middle;\n",
              "    }\n",
              "\n",
              "    .dataframe tbody tr th {\n",
              "        vertical-align: top;\n",
              "    }\n",
              "\n",
              "    .dataframe thead th {\n",
              "        text-align: right;\n",
              "    }\n",
              "</style>\n",
              "<table border=\"1\" class=\"dataframe\">\n",
              "  <thead>\n",
              "    <tr style=\"text-align: right;\">\n",
              "      <th>obs</th>\n",
              "      <th>0</th>\n",
              "      <th>1</th>\n",
              "      <th>sum</th>\n",
              "      <th>ratio</th>\n",
              "    </tr>\n",
              "    <tr>\n",
              "      <th>train_test</th>\n",
              "      <th></th>\n",
              "      <th></th>\n",
              "      <th></th>\n",
              "      <th></th>\n",
              "    </tr>\n",
              "  </thead>\n",
              "  <tbody>\n",
              "    <tr>\n",
              "      <th>0</th>\n",
              "      <td>6323</td>\n",
              "      <td>343</td>\n",
              "      <td>6666</td>\n",
              "      <td>0.051455</td>\n",
              "    </tr>\n",
              "    <tr>\n",
              "      <th>1</th>\n",
              "      <td>3162</td>\n",
              "      <td>172</td>\n",
              "      <td>3334</td>\n",
              "      <td>0.051590</td>\n",
              "    </tr>\n",
              "  </tbody>\n",
              "</table>\n",
              "</div>"
            ],
            "text/plain": [
              "obs            0    1   sum     ratio\n",
              "train_test                           \n",
              "0           6323  343  6666  0.051455\n",
              "1           3162  172  3334  0.051590"
            ]
          },
          "execution_count": 25,
          "metadata": {},
          "output_type": "execute_result"
        }
      ],
      "source": [
        "piv[\"sum\"] = piv[0] + piv[1]\n",
        "piv[\"ratio\"] = piv[1] / piv[\"sum\"]\n",
        "piv"
      ]
    },
    {
      "cell_type": "markdown",
      "metadata": {},
      "source": [
        "Il faut corriger ces erreurs d'arrondi. On s'inspire de l'algorithme de [Bresenham](https://fr.wikipedia.org/wiki/Algorithme_de_trac%C3%A9_de_segment_de_Bresenham) et m\u00e9moriser les \u00e9l\u00e9ments r\u00e9partis."
      ]
    },
    {
      "cell_type": "code",
      "execution_count": 25,
      "metadata": {},
      "outputs": [],
      "source": [
        "def streaming_stratified_split_train_test2(stream, p):\n",
        "    n = max(1/p, 1/(1-p))\n",
        "    if n > 10000:\n",
        "        raise Exception(\"Cette r\u00e9partition train / test est vraiment d\u00e9s\u00e9quilibr\u00e9e.\")\n",
        "    counts = {}\n",
        "    memory = {}\n",
        "    for obs, strat in stream:\n",
        "        if strat not in memory:\n",
        "            memory[strat] = []\n",
        "        memory[strat].append(obs)\n",
        "\n",
        "        for k in memory:\n",
        "            v = memory[k]\n",
        "            if len(v) >= n:\n",
        "                # on permute al\u00e9atoirement\n",
        "                random.shuffle(v)\n",
        "                if (0,k) in counts:\n",
        "                    tt = counts[1,k] + counts[0,k]\n",
        "                    delta = - int(counts[0,k] - tt*p + 0.5)\n",
        "                else:\n",
        "                    delta = 0\n",
        "                i = int(len(v) * p + 0.5)\n",
        "                i += delta\n",
        "                i = max(0, min(len(v), i))\n",
        "                for j in range(0,i):\n",
        "                    yield v[j], 0  # apprentissage\n",
        "                for j in range(i,len(v)):\n",
        "                    yield v[j], 1  # test\n",
        "                if (0,k) not in counts:\n",
        "                    counts[0,k] = i\n",
        "                    counts[1,k] = len(v)-i\n",
        "                else:\n",
        "                    counts[0,k] += i\n",
        "                    counts[1,k] += len(v)-i\n",
        "                # on efface de la m\u00e9moire les informations produites\n",
        "                memory[k] = []\n",
        "\n",
        "    # lorsqu'on a fini, il faut tout de m\u00eame r\u00e9partir les \n",
        "    # observations stock\u00e9es\n",
        "    for k in memory:\n",
        "        v = memory[k]\n",
        "        # on permute al\u00e9atoirement\n",
        "        random.shuffle(v)\n",
        "        if (0,k) in counts:\n",
        "            tt = counts[1,k] + counts[0,k]\n",
        "            delta = - int(counts[0,k] - tt*p + 0.5)\n",
        "        else:\n",
        "            delta = 0\n",
        "        i = int(len(v) * p + 0.5)\n",
        "        i += delta\n",
        "        i = max(0, min(len(v), i))\n",
        "        for j in range(0,i):\n",
        "            yield v[j], 0  # apprentissage\n",
        "        for j in range(i,len(v)):\n",
        "            yield v[j], 1  # test\n",
        "        if (0,k) not in counts:\n",
        "            counts[0,k] = i\n",
        "            counts[1,k] = len(v)-i\n",
        "        else:\n",
        "            counts[0,k] += i\n",
        "            counts[1,k] += len(v)-i    "
      ]
    },
    {
      "cell_type": "code",
      "execution_count": 26,
      "metadata": {},
      "outputs": [
        {
          "name": "stdout",
          "output_type": "stream",
          "text": [
            "ratio de classe 1 dans l'\u00e9chantillon entier 0.05110\n"
          ]
        },
        {
          "data": {
            "text/html": [
              "<div>\n",
              "<style scoped>\n",
              "    .dataframe tbody tr th:only-of-type {\n",
              "        vertical-align: middle;\n",
              "    }\n",
              "\n",
              "    .dataframe tbody tr th {\n",
              "        vertical-align: top;\n",
              "    }\n",
              "\n",
              "    .dataframe thead th {\n",
              "        text-align: right;\n",
              "    }\n",
              "</style>\n",
              "<table border=\"1\" class=\"dataframe\">\n",
              "  <thead>\n",
              "    <tr style=\"text-align: right;\">\n",
              "      <th>obs</th>\n",
              "      <th>0</th>\n",
              "      <th>1</th>\n",
              "      <th>sum</th>\n",
              "      <th>ratio</th>\n",
              "    </tr>\n",
              "    <tr>\n",
              "      <th>train_test</th>\n",
              "      <th></th>\n",
              "      <th></th>\n",
              "      <th></th>\n",
              "      <th></th>\n",
              "    </tr>\n",
              "  </thead>\n",
              "  <tbody>\n",
              "    <tr>\n",
              "      <th>0</th>\n",
              "      <td>6263</td>\n",
              "      <td>338</td>\n",
              "      <td>6601</td>\n",
              "      <td>0.051204</td>\n",
              "    </tr>\n",
              "    <tr>\n",
              "      <th>1</th>\n",
              "      <td>3226</td>\n",
              "      <td>173</td>\n",
              "      <td>3399</td>\n",
              "      <td>0.050897</td>\n",
              "    </tr>\n",
              "  </tbody>\n",
              "</table>\n",
              "</div>"
            ],
            "text/plain": [
              "obs            0    1   sum     ratio\n",
              "train_test                           \n",
              "0           6263  338  6601  0.051204\n",
              "1           3226  173  3399  0.050897"
            ]
          },
          "execution_count": 27,
          "metadata": {},
          "output_type": "execute_result"
        }
      ],
      "source": [
        "iter = streaming_stratified_split_train_test2( ((i,i) for i in iterate_data(10000, 0.05)), 0.66)\n",
        "df = pandas.DataFrame(iter)\n",
        "df.columns = [\"obs\", \"train_test\"]\n",
        "df2 = df.copy()\n",
        "df2[\"un\"] = 1\n",
        "piv = df2.groupby([\"obs\", \"train_test\"], as_index=False).count().pivot(\"train_test\", \"obs\", \"un\")\n",
        "piv[\"sum\"] = piv[0] + piv[1]\n",
        "piv[\"ratio\"] = piv[1] / piv[\"sum\"]\n",
        "print(\"ratio de classe 1 dans l'\u00e9chantillon entier %1.5f\" % \n",
        "      ((piv.iloc[1,1] + piv.iloc[0,1]) / (piv.iloc[0,1] + piv.iloc[0,0] + piv.iloc[1,1] + piv.iloc[1,0]) ))\n",
        "piv"
      ]
    },
    {
      "cell_type": "markdown",
      "metadata": {},
      "source": [
        "Pas trop mal. Le dernier inconv\u00e9nient est la taille de la fen\u00eatre. Dans l'exemple qui suit, elle sera de 3. L'algorithme va donc grouper les \u00e9l\u00e9ments par trois, les permuter al\u00e9atoirement et les laisser filer. Nous ne pourrons jamais avoir trois \u00e9l\u00e9ments de suite du m\u00eame c\u00f4t\u00e9 *train* ou *test*. On peut bidouiller comme suit (ligne marqu\u00e9es ``# changement``). La fonction qui suit ne permet toujours pas d'avoir de grandes s\u00e9quences r\u00e9partie du m\u00eame c\u00f4t\u00e9 mais ce sera l'inconv\u00e9nient de ce type d'algorithme. La taille du buffer limite cette possibilit\u00e9."
      ]
    },
    {
      "cell_type": "code",
      "execution_count": 27,
      "metadata": {},
      "outputs": [],
      "source": [
        "def streaming_stratified_split_train_test3(stream, p):\n",
        "    n = 2 * max(1/p, 1/(1-p)) # changement\n",
        "    if n > 10000:\n",
        "        raise Exception(\"Cette r\u00e9partition train / test est vraiment d\u00e9s\u00e9quilibr\u00e9e.\")\n",
        "    counts = {}\n",
        "    memory = {}\n",
        "    for obs, strat in stream:\n",
        "        if strat not in memory:\n",
        "            memory[strat] = []\n",
        "        memory[strat].append(obs)\n",
        "\n",
        "        for k in memory:\n",
        "            v = memory[k]\n",
        "            if len(v) >= n + random.randint(0, 10):  # changement\n",
        "                # on permute al\u00e9atoirement\n",
        "                random.shuffle(v)\n",
        "                if (0,k) in counts:\n",
        "                    tt = counts[1,k] + counts[0,k]\n",
        "                    delta = - int(counts[0,k] - tt*p + 0.5)\n",
        "                else:\n",
        "                    delta = 0\n",
        "                i = int(len(v) * p + 0.5)\n",
        "                i += delta\n",
        "                i = max(0, min(len(v), i))\n",
        "                for j in range(0,i):\n",
        "                    yield v[j], 0  # apprentissage\n",
        "                for j in range(i,len(v)):\n",
        "                    yield v[j], 1  # test\n",
        "                if (0,k) not in counts:\n",
        "                    counts[0,k] = i\n",
        "                    counts[1,k] = len(v)-i\n",
        "                else:\n",
        "                    counts[0,k] += i\n",
        "                    counts[1,k] += len(v)-i\n",
        "                # on efface de la m\u00e9moire les informations produites\n",
        "                memory[k] = []\n",
        "\n",
        "    # lorsqu'on a fini, il faut tout de m\u00eame r\u00e9partir les \n",
        "    # observations stock\u00e9es\n",
        "    for k in memory:\n",
        "        v = memory[k]\n",
        "        # on permute al\u00e9atoirement\n",
        "        random.shuffle(v)\n",
        "        if (0,k) in counts:\n",
        "            tt = counts[1,k] + counts[0,k]\n",
        "            delta = - int(counts[0,k] - tt*p + 0.5)\n",
        "        else:\n",
        "            delta = 0\n",
        "        i = int(len(v) * p + 0.5)\n",
        "        i += delta\n",
        "        i = max(0, min(len(v), i))\n",
        "        for j in range(0,i):\n",
        "            yield v[j], 0  # apprentissage\n",
        "        for j in range(i,len(v)):\n",
        "            yield v[j], 1  # test\n",
        "        if (0,k) not in counts:\n",
        "            counts[0,k] = i\n",
        "            counts[1,k] = len(v)-i\n",
        "        else:\n",
        "            counts[0,k] += i\n",
        "            counts[1,k] += len(v)-i    "
      ]
    },
    {
      "cell_type": "code",
      "execution_count": 28,
      "metadata": {},
      "outputs": [
        {
          "name": "stdout",
          "output_type": "stream",
          "text": [
            "ratio de classe 1 dans l'\u00e9chantillon entier 0.05100\n"
          ]
        },
        {
          "data": {
            "text/html": [
              "<div>\n",
              "<style scoped>\n",
              "    .dataframe tbody tr th:only-of-type {\n",
              "        vertical-align: middle;\n",
              "    }\n",
              "\n",
              "    .dataframe tbody tr th {\n",
              "        vertical-align: top;\n",
              "    }\n",
              "\n",
              "    .dataframe thead th {\n",
              "        text-align: right;\n",
              "    }\n",
              "</style>\n",
              "<table border=\"1\" class=\"dataframe\">\n",
              "  <thead>\n",
              "    <tr style=\"text-align: right;\">\n",
              "      <th>obs</th>\n",
              "      <th>0</th>\n",
              "      <th>1</th>\n",
              "      <th>sum</th>\n",
              "      <th>ratio</th>\n",
              "    </tr>\n",
              "    <tr>\n",
              "      <th>train_test</th>\n",
              "      <th></th>\n",
              "      <th></th>\n",
              "      <th></th>\n",
              "      <th></th>\n",
              "    </tr>\n",
              "  </thead>\n",
              "  <tbody>\n",
              "    <tr>\n",
              "      <th>0</th>\n",
              "      <td>6262</td>\n",
              "      <td>336</td>\n",
              "      <td>6598</td>\n",
              "      <td>0.050925</td>\n",
              "    </tr>\n",
              "    <tr>\n",
              "      <th>1</th>\n",
              "      <td>3228</td>\n",
              "      <td>174</td>\n",
              "      <td>3402</td>\n",
              "      <td>0.051146</td>\n",
              "    </tr>\n",
              "  </tbody>\n",
              "</table>\n",
              "</div>"
            ],
            "text/plain": [
              "obs            0    1   sum     ratio\n",
              "train_test                           \n",
              "0           6262  336  6598  0.050925\n",
              "1           3228  174  3402  0.051146"
            ]
          },
          "execution_count": 29,
          "metadata": {},
          "output_type": "execute_result"
        }
      ],
      "source": [
        "iter = streaming_stratified_split_train_test3( ((i,i) for i in iterate_data(10000, 0.05)), 0.66)\n",
        "df = pandas.DataFrame(iter)\n",
        "df.columns = [\"obs\", \"train_test\"]\n",
        "df2 = df.copy()\n",
        "df2[\"un\"] = 1\n",
        "piv = df2.groupby([\"obs\", \"train_test\"], as_index=False).count().pivot(\"train_test\", \"obs\", \"un\")\n",
        "piv[\"sum\"] = piv[0] + piv[1]\n",
        "piv[\"ratio\"] = piv[1] / piv[\"sum\"]\n",
        "print(\"ratio de classe 1 dans l'\u00e9chantillon entier %1.5f\" % \n",
        "      ((piv.iloc[1,1] + piv.iloc[0,1]) / (piv.iloc[0,1] + piv.iloc[0,0] + piv.iloc[1,1] + piv.iloc[1,0]) ))\n",
        "piv"
      ]
    },
    {
      "cell_type": "markdown",
      "metadata": {},
      "source": [
        "## Streaming distribu\u00e9\n",
        "\n",
        "C'est possible mais c'est un peu plus compliqu\u00e9 parce que le hasard en distribu\u00e9, c'est compliqu\u00e9. On n'est jamais s\u00fbr que des s\u00e9ries pseudo-al\u00e9atoires soient tout-\u00e0-fait ind\u00e9pendantes lorsqu'elles sont g\u00e9n\u00e9r\u00e9es en parall\u00e8les."
      ]
    },
    {
      "cell_type": "code",
      "execution_count": 29,
      "metadata": {},
      "outputs": [],
      "source": []
    }
  ],
  "metadata": {
    "kernelspec": {
      "display_name": "Python 3",
      "language": "python",
      "name": "python3"
    },
    "language_info": {
      "codemirror_mode": {
        "name": "ipython",
        "version": 3
      },
      "file_extension": ".py",
      "mimetype": "text/x-python",
      "name": "python",
      "nbconvert_exporter": "python",
      "pygments_lexer": "ipython3",
      "version": "3.6.3"
    }
  },
  "nbformat": 4,
  "nbformat_minor": 2
}