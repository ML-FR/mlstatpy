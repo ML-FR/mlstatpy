{
 "cells": [
  {
   "cell_type": "markdown",
   "metadata": {},
   "source": [
    "# Completion Trie and metrics"
   ]
  },
  {
   "cell_type": "code",
   "execution_count": 1,
   "metadata": {
    "collapsed": false
   },
   "outputs": [
    {
     "data": {
      "text/html": [
       "<div id=\"my_id_menu_nb\">run previous cell, wait for 2 seconds</div>\n",
       "<script>\n",
       "function repeat_indent_string(n){\n",
       "    var a = \"\" ;\n",
       "    for ( ; n > 0 ; --n) {\n",
       "        a += \"    \";\n",
       "    }\n",
       "    return a;\n",
       "}\n",
       "var update_menu_string = function(begin, lfirst, llast, sformat, send, keep_item) {\n",
       "    var anchors = document.getElementsByClassName(\"section\");\n",
       "    if (anchors.length == 0) {\n",
       "        anchors = document.getElementsByClassName(\"text_cell_render rendered_html\");\n",
       "    }\n",
       "    var i,t;\n",
       "    var text_menu = begin;\n",
       "    var text_memo = \"<pre>\\nlength:\" + anchors.length + \"\\n\";\n",
       "    var ind = \"\";\n",
       "    var memo_level = 1;\n",
       "    var href;\n",
       "    var tags = [];\n",
       "    var main_item = 0;\n",
       "    for (i = 0; i <= llast; i++) {\n",
       "        tags.push(\"h\" + i);\n",
       "    }\n",
       "\n",
       "    for (i = 0; i < anchors.length; i++) {\n",
       "        text_memo += \"**\" + anchors[i].id + \"--\\n\";\n",
       "\n",
       "        var child = null;\n",
       "        for(t = 0; t < tags.length; t++) {\n",
       "            var r = anchors[i].getElementsByTagName(tags[t]);\n",
       "            if (r.length > 0) {\n",
       "child = r[0];\n",
       "break;\n",
       "            }\n",
       "        }\n",
       "        if (child == null){\n",
       "            text_memo += \"null\\n\";\n",
       "            continue;\n",
       "        }\n",
       "        if (anchors[i].hasAttribute(\"id\")) {\n",
       "            // when converted in RST\n",
       "            href = anchors[i].id;\n",
       "            text_memo += \"#1-\" + href;\n",
       "            // passer à child suivant (le chercher)\n",
       "        }\n",
       "        else if (child.hasAttribute(\"id\")) {\n",
       "            // in a notebook\n",
       "            href = child.id;\n",
       "            text_memo += \"#2-\" + href;\n",
       "        }\n",
       "        else {\n",
       "            text_memo += \"#3-\" + \"*\" + \"\\n\";\n",
       "            continue;\n",
       "        }\n",
       "        var title = child.textContent;\n",
       "        var level = parseInt(child.tagName.substring(1,2));\n",
       "\n",
       "        text_memo += \"--\" + level + \"?\" + lfirst + \"--\" + title + \"\\n\";\n",
       "\n",
       "        if ((level < lfirst) || (level > llast)) {\n",
       "            continue ;\n",
       "        }\n",
       "        if (title.endsWith('¶')) {\n",
       "            title = title.substring(0,title.length-1).replace(\"<\", \"&lt;\").replace(\">\", \"&gt;\").replace(\"&\", \"&amp;\")\n",
       "        }\n",
       "\n",
       "        if (title.length == 0) {\n",
       "            continue;\n",
       "        }\n",
       "\n",
       "        while (level < memo_level) {\n",
       "            text_menu += \"</ul>\\n\";\n",
       "            memo_level -= 1;\n",
       "        }\n",
       "        if (level == lfirst) {\n",
       "            main_item += 1;\n",
       "        }\n",
       "        if (keep_item != -1 && main_item != keep_item + 1) {\n",
       "            // alert(main_item + \" - \" + level + \" - \" + keep_item);\n",
       "            continue;\n",
       "        }\n",
       "        while (level > memo_level) {\n",
       "            text_menu += \"<ul>\\n\";\n",
       "            memo_level += 1;\n",
       "        }\n",
       "        text_menu += repeat_indent_string(level-2) + sformat.replace(\"__HREF__\", href).replace(\"__TITLE__\", title);\n",
       "    }\n",
       "    while (1 < memo_level) {\n",
       "        text_menu += \"</ul>\\n\";\n",
       "        memo_level -= 1;\n",
       "    }\n",
       "    text_menu += send;\n",
       "    //text_menu += \"\\n\" + text_memo;\n",
       "    return text_menu;\n",
       "};\n",
       "var update_menu = function() {\n",
       "    var sbegin = \"\";\n",
       "    var sformat = '<li><a href=\"#__HREF__\">__TITLE__</a></li>';\n",
       "    var send = \"\";\n",
       "    var keep_item = -1;\n",
       "    var text_menu = update_menu_string(sbegin, 2, 4, sformat, send, keep_item);\n",
       "    var menu = document.getElementById(\"my_id_menu_nb\");\n",
       "    menu.innerHTML=text_menu;\n",
       "};\n",
       "window.setTimeout(update_menu,2000);\n",
       "            </script>"
      ],
      "text/plain": [
       "<IPython.core.display.HTML object>"
      ]
     },
     "execution_count": 1,
     "metadata": {},
     "output_type": "execute_result"
    }
   ],
   "source": [
    "from pyquickhelper.ipythonhelper import add_notebook_menu\n",
    "add_notebook_menu()"
   ]
  },
  {
   "cell_type": "markdown",
   "metadata": {},
   "source": [
    "## Wikipedia titles, uniform"
   ]
  },
  {
   "cell_type": "code",
   "execution_count": 2,
   "metadata": {
    "collapsed": false
   },
   "outputs": [],
   "source": [
    "from mlstatpy.data.wikipedia import download_titles\n",
    "file_titles = download_titles(country='fr')"
   ]
  },
  {
   "cell_type": "code",
   "execution_count": 3,
   "metadata": {
    "collapsed": false
   },
   "outputs": [],
   "source": [
    "from mlstatpy.data.wikipedia import enumerate_titles\n",
    "list_titles = list(sorted(_ for _ in enumerate_titles(file_titles) if 'A' <= _[0] <= 'Z'))"
   ]
  },
  {
   "cell_type": "code",
   "execution_count": 4,
   "metadata": {
    "collapsed": false
   },
   "outputs": [
    {
     "data": {
      "text/plain": [
       "(3045736,\n",
       " ['A',\n",
       "  'A & A',\n",
       "  'A (Airport Express)',\n",
       "  'A (Ayumi Hamasaki)',\n",
       "  \"A (Disque d'Ayumi Hamasaki)\"],\n",
       " ['Festival du cinéma de Brive - Rencontres du moyen métrage',\n",
       "  'Festival du cinéma de Brive - Rencontres européennes du moyen métrage',\n",
       "  'Festival du cinéma de Venise',\n",
       "  'Festival du cinéma espagnol de Malaga',\n",
       "  'Festival du cinéma européen de Lille'])"
      ]
     },
     "execution_count": 4,
     "metadata": {},
     "output_type": "execute_result"
    }
   ],
   "source": [
    "len(list_titles), list_titles[:5], list_titles[1000000:1000005]"
   ]
  },
  {
   "cell_type": "code",
   "execution_count": 21,
   "metadata": {
    "collapsed": true
   },
   "outputs": [],
   "source": [
    "from mlstatpy.nlp.completion import CompletionTrieNode\n",
    "\n",
    "def gain_dynamique_moyen_par_mot(queries, weights):\n",
    "    per = list(zip(weights, queries))\n",
    "    total = sum(weights) * 1.0 \n",
    "    res = []\n",
    "    trie = CompletionTrieNode.build([(None, q) for _, q in per])\n",
    "    trie.precompute_stat()\n",
    "    trie.update_stat_dynamic()\n",
    "    wks = [(w, p, len(w)-trie.min_keystroke(w)[0]) for p, w in per]\n",
    "    wks_dyn = [(w, p, len(w)-trie.min_dynamic_keystroke(w)[0]) for p, w in per]\n",
    "    wks_dyn2 = [(w, p, len(w)-trie.min_dynamic_keystroke2(w)[0]) for p, w in per]\n",
    "    gain = sum( g*p/total for w, p, g in wks)\n",
    "    gain_dyn = sum( g*p/total for w, p, g in wks_dyn)\n",
    "    gain_dyn2 = sum( g*p/total for w, p, g in wks_dyn2)\n",
    "    ave_length = sum( len(w) * p / total for p, w in per)\n",
    "    return gain, gain_dyn, gain_dyn2, ave_length"
   ]
  },
  {
   "cell_type": "code",
   "execution_count": 23,
   "metadata": {
    "collapsed": false
   },
   "outputs": [
    {
     "name": "stdout",
     "output_type": "stream",
     "text": [
      "time 0\n",
      "time: 0.7003269698371923s - nb=100 gain (16.190000000000005, 16.190000000000005, 16.190000000000005, 19.319999999999993)\n",
      "time: 0.7004954580870617s - nb=100 gain (0.8379917184265016, 0.8379917184265016, 0.8379917184265016, 1.0)\n",
      "time: 2.0230538110416774s - nb=200 gain (15.434999999999997, 15.434999999999997, 15.434999999999997, 18.825)\n",
      "time: 2.023238549427333s - nb=200 gain (0.8199203187250995, 0.8199203187250995, 0.8199203187250995, 1.0)\n",
      "time: 4.6613253610736365s - nb=300 gain (16.55666666666665, 16.55666666666665, 16.55666666666665, 20.186666666666667)\n",
      "time: 4.661508388918719s - nb=300 gain (0.8201783355350057, 0.8201783355350057, 0.8201783355350057, 1.0)\n",
      "time: 6.34021327020298s - nb=400 gain (15.182500000000005, 15.182500000000005, 15.182500000000005, 18.947500000000012)\n",
      "time: 6.340411265278362s - nb=400 gain (0.8012930465760651, 0.8012930465760651, 0.8012930465760651, 1.0)\n",
      "time: 10.30483843516322s - nb=500 gain (16.35999999999998, 16.36199999999998, 16.36199999999998, 20.371999999999947)\n",
      "time: 10.305023601184075s - nb=500 gain (0.8030630276850591, 0.8031612016493237, 0.8031612016493237, 1.0)\n",
      "time: 12.525450706068455s - nb=600 gain (15.830000000000016, 15.831666666666683, 15.831666666666683, 19.925000000000033)\n",
      "time: 12.525774853513667s - nb=600 gain (0.7944792973651187, 0.7945629443747381, 0.7945629443747381, 1.0)\n",
      "time: 14.998684166637418s - nb=700 gain (15.168571428571443, 15.168571428571443, 15.168571428571443, 19.48571428571427)\n",
      "time: 14.99889456313224s - nb=700 gain (0.778445747800588, 0.778445747800588, 0.778445747800588, 1.0)\n",
      "time: 16.515137001473704s - nb=800 gain (14.788749999999999, 14.788749999999999, 14.788749999999999, 18.908749999999994)\n",
      "time: 16.515352957225332s - nb=800 gain (0.7821114563363524, 0.7821114563363524, 0.7821114563363524, 1.0)\n",
      "time: 19.610179341629987s - nb=900 gain (14.649999999999999, 14.65111111111111, 14.65111111111111, 19.10555555555553)\n",
      "time: 19.610378619610856s - nb=900 gain (0.7667926722884569, 0.7668508287292828, 0.7668508287292828, 1.0)\n",
      "time: 23.472278551274826s - nb=1000 gain (15.21099999999994, 15.212999999999939, 15.212999999999939, 19.555999999999955)\n",
      "time: 23.47269763372367s - nb=1000 gain (0.7778175496011441, 0.7779198200040894, 0.7779198200040894, 1.0)\n"
     ]
    }
   ],
   "source": [
    "import time, random\n",
    "print(\"time\", 0)\n",
    "allres = []\n",
    "for i in range(1, 11):\n",
    "    begin = time.clock()    \n",
    "    spl = random.sample(list_titles, i * 100)\n",
    "    spl.sort()\n",
    "    res = gain_dynamique_moyen_par_mot(spl, [1.0] * len(spl))\n",
    "    print(\"time: {0}s - nb={1}\".format(time.clock() - begin, len(spl)), \"gain\", res)\n",
    "    print(\"time: {0}s - nb={1}\".format(time.clock() - begin, len(spl)), \"gain\", tuple(_/res[-1] for _ in res))\n",
    "    allres = res"
   ]
  },
  {
   "cell_type": "code",
   "execution_count": null,
   "metadata": {
    "collapsed": true
   },
   "outputs": [],
   "source": []
  }
 ],
 "metadata": {
  "kernelspec": {
   "display_name": "Python 3",
   "language": "python",
   "name": "python3"
  },
  "language_info": {
   "codemirror_mode": {
    "name": "ipython",
    "version": 3
   },
   "file_extension": ".py",
   "mimetype": "text/x-python",
   "name": "python",
   "nbconvert_exporter": "python",
   "pygments_lexer": "ipython3",
   "version": "3.5.0"
  },
  "widgets": {
   "state": {},
   "version": "1.1.2"
  }
 },
 "nbformat": 4,
 "nbformat_minor": 0
}
