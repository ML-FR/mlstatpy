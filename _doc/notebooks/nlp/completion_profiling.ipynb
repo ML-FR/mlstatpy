{
 "cells": [
  {
   "cell_type": "markdown",
   "metadata": {},
   "source": [
    "# Completion profiling"
   ]
  },
  {
   "cell_type": "code",
   "execution_count": 1,
   "metadata": {
    "collapsed": false
   },
   "outputs": [
    {
     "data": {
      "text/html": [
       "<div id=\"my_id_menu_nb\">run previous cell, wait for 2 seconds</div>\n",
       "<script>\n",
       "function repeat_indent_string(n){\n",
       "    var a = \"\" ;\n",
       "    for ( ; n > 0 ; --n) {\n",
       "        a += \"    \";\n",
       "    }\n",
       "    return a;\n",
       "}\n",
       "var update_menu_string = function(begin, lfirst, llast, sformat, send, keep_item) {\n",
       "    var anchors = document.getElementsByClassName(\"section\");\n",
       "    if (anchors.length == 0) {\n",
       "        anchors = document.getElementsByClassName(\"text_cell_render rendered_html\");\n",
       "    }\n",
       "    var i,t;\n",
       "    var text_menu = begin;\n",
       "    var text_memo = \"<pre>\\nlength:\" + anchors.length + \"\\n\";\n",
       "    var ind = \"\";\n",
       "    var memo_level = 1;\n",
       "    var href;\n",
       "    var tags = [];\n",
       "    var main_item = 0;\n",
       "    for (i = 0; i <= llast; i++) {\n",
       "        tags.push(\"h\" + i);\n",
       "    }\n",
       "\n",
       "    for (i = 0; i < anchors.length; i++) {\n",
       "        text_memo += \"**\" + anchors[i].id + \"--\\n\";\n",
       "\n",
       "        var child = null;\n",
       "        for(t = 0; t < tags.length; t++) {\n",
       "            var r = anchors[i].getElementsByTagName(tags[t]);\n",
       "            if (r.length > 0) {\n",
       "child = r[0];\n",
       "break;\n",
       "            }\n",
       "        }\n",
       "        if (child == null){\n",
       "            text_memo += \"null\\n\";\n",
       "            continue;\n",
       "        }\n",
       "        if (anchors[i].hasAttribute(\"id\")) {\n",
       "            // when converted in RST\n",
       "            href = anchors[i].id;\n",
       "            text_memo += \"#1-\" + href;\n",
       "            // passer à child suivant (le chercher)\n",
       "        }\n",
       "        else if (child.hasAttribute(\"id\")) {\n",
       "            // in a notebook\n",
       "            href = child.id;\n",
       "            text_memo += \"#2-\" + href;\n",
       "        }\n",
       "        else {\n",
       "            text_memo += \"#3-\" + \"*\" + \"\\n\";\n",
       "            continue;\n",
       "        }\n",
       "        var title = child.textContent;\n",
       "        var level = parseInt(child.tagName.substring(1,2));\n",
       "\n",
       "        text_memo += \"--\" + level + \"?\" + lfirst + \"--\" + title + \"\\n\";\n",
       "\n",
       "        if ((level < lfirst) || (level > llast)) {\n",
       "            continue ;\n",
       "        }\n",
       "        if (title.endsWith('¶')) {\n",
       "            title = title.substring(0,title.length-1).replace(\"<\", \"&lt;\").replace(\">\", \"&gt;\").replace(\"&\", \"&amp;\")\n",
       "        }\n",
       "\n",
       "        if (title.length == 0) {\n",
       "            continue;\n",
       "        }\n",
       "\n",
       "        while (level < memo_level) {\n",
       "            text_menu += \"</ul>\\n\";\n",
       "            memo_level -= 1;\n",
       "        }\n",
       "        if (level == lfirst) {\n",
       "            main_item += 1;\n",
       "        }\n",
       "        if (keep_item != -1 && main_item != keep_item + 1) {\n",
       "            // alert(main_item + \" - \" + level + \" - \" + keep_item);\n",
       "            continue;\n",
       "        }\n",
       "        while (level > memo_level) {\n",
       "            text_menu += \"<ul>\\n\";\n",
       "            memo_level += 1;\n",
       "        }\n",
       "        text_menu += repeat_indent_string(level-2) + sformat.replace(\"__HREF__\", href).replace(\"__TITLE__\", title);\n",
       "    }\n",
       "    while (1 < memo_level) {\n",
       "        text_menu += \"</ul>\\n\";\n",
       "        memo_level -= 1;\n",
       "    }\n",
       "    text_menu += send;\n",
       "    //text_menu += \"\\n\" + text_memo;\n",
       "    return text_menu;\n",
       "};\n",
       "var update_menu = function() {\n",
       "    var sbegin = \"\";\n",
       "    var sformat = '<li><a href=\"#__HREF__\">__TITLE__</a></li>';\n",
       "    var send = \"\";\n",
       "    var keep_item = -1;\n",
       "    var text_menu = update_menu_string(sbegin, 2, 4, sformat, send, keep_item);\n",
       "    var menu = document.getElementById(\"my_id_menu_nb\");\n",
       "    menu.innerHTML=text_menu;\n",
       "};\n",
       "window.setTimeout(update_menu,2000);\n",
       "            </script>"
      ],
      "text/plain": [
       "<IPython.core.display.HTML object>"
      ]
     },
     "execution_count": 1,
     "metadata": {},
     "output_type": "execute_result"
    }
   ],
   "source": [
    "%matplotlib inline\n",
    "import matplotlib.pyplot as plt\n",
    "plt.style.use('ggplot')\n",
    "from pyquickhelper.ipythonhelper import add_notebook_menu\n",
    "add_notebook_menu()"
   ]
  },
  {
   "cell_type": "markdown",
   "metadata": {},
   "source": [
    "## Function to profile"
   ]
  },
  {
   "cell_type": "code",
   "execution_count": 2,
   "metadata": {
    "collapsed": true
   },
   "outputs": [],
   "source": [
    "from mlstatpy.nlp.completion import CompletionTrieNode\n",
    "\n",
    "def gain_dynamique_moyen_par_mot(queries, weights):\n",
    "    per = list(zip(weights, queries))\n",
    "    total = sum(weights) * 1.0\n",
    "    res = []\n",
    "    trie = CompletionTrieNode.build([(None, q) for _, q in per])\n",
    "    trie.precompute_stat()\n",
    "    trie.update_stat_dynamic()\n",
    "    wks = [(w, p, len(w) - trie.min_keystroke0(w)[0]) for p, w in per]\n",
    "    wks_dyn = [(w, p, len(w) - trie.min_dynamic_keystroke(w)[0])\n",
    "               for p, w in per]\n",
    "    wks_dyn2 = [(w, p, len(w) - trie.min_dynamic_keystroke2(w)[0])\n",
    "                for p, w in per]\n",
    "    gain = sum(g * p / total for w, p, g in wks)\n",
    "    gain_dyn = sum(g * p / total for w, p, g in wks_dyn)\n",
    "    gain_dyn2 = sum(g * p / total for w, p, g in wks_dyn2)\n",
    "    ave_length = sum(len(w) * p / total for p, w in per)\n",
    "    return gain, gain_dyn, gain_dyn2, ave_length"
   ]
  },
  {
   "cell_type": "markdown",
   "metadata": {},
   "source": [
    "## Data"
   ]
  },
  {
   "cell_type": "code",
   "execution_count": 3,
   "metadata": {
    "collapsed": true
   },
   "outputs": [],
   "source": [
    "from mlstatpy.data.wikipedia import download_titles\n",
    "file_titles = download_titles(country='fr')"
   ]
  },
  {
   "cell_type": "code",
   "execution_count": 4,
   "metadata": {
    "collapsed": true
   },
   "outputs": [],
   "source": [
    "from mlstatpy.data.wikipedia import enumerate_titles\n",
    "list_titles = list(sorted(set(_ for _ in enumerate_titles(file_titles) if 'A' <= _[0] <= 'Z')))"
   ]
  },
  {
   "cell_type": "code",
   "execution_count": 5,
   "metadata": {
    "collapsed": false
   },
   "outputs": [],
   "source": [
    "import random\n",
    "sample1000 = random.sample(list_titles, 1000)\n",
    "with open(\"sample1000.txt\", \"w\", encoding=\"utf-8\") as f:\n",
    "    f.write(\"\\n\".join(sample1000))"
   ]
  },
  {
   "cell_type": "markdown",
   "metadata": {},
   "source": [
    "## cProfile"
   ]
  },
  {
   "cell_type": "code",
   "execution_count": 29,
   "metadata": {
    "collapsed": true
   },
   "outputs": [],
   "source": [
    "import cProfile, io, pstats, os\n",
    "\n",
    "def toprofile0(lines):\n",
    "    gain_dynamique_moyen_par_mot(lines, [1.0] * len(lines))\n",
    "\n",
    "def doprofile(lines, filename):\n",
    "    pr = cProfile.Profile()\n",
    "    pr.enable()\n",
    "    toprofile0(lines)\n",
    "    pr.disable()\n",
    "    s = io.StringIO()\n",
    "    ps = pstats.Stats(pr, stream=s).sort_stats('cumulative')\n",
    "    ps.print_stats()\n",
    "    rem = os.path.normpath(os.path.join(os.getcwd(), \"..\", \"..\", \"..\"))\n",
    "    res = s.getvalue().replace(rem, \"\")\n",
    "    ps.dump_stats(filename)\n",
    "    return res"
   ]
  },
  {
   "cell_type": "code",
   "execution_count": 30,
   "metadata": {
    "collapsed": false
   },
   "outputs": [
    {
     "name": "stdout",
     "output_type": "stream",
     "text": [
      "         1478389 function calls in 1.832 seconds\n",
      "\n",
      "   Ordered by: cumulative time\n",
      "\n",
      "   ncalls  tottime  percall  cumtime  percall filename:lineno(function)\n",
      "        1    0.000    0.000    1.832    1.832 <ipython-input-29-ff8ba7222a38>:3(toprofile0)\n",
      "        1    0.001    0.001    1.831    1.831 <ipython-input-2-1cd63cc92e3c>:3(gain_dynamique_moyen_par_mot)\n",
      "        1    0.156    0.156    1.220    1.220 \\src\\mlstatpy\\nlp\\completion.py:418(precompute_stat)\n",
      "    15620    0.538    0.000    0.928    0.000 \\src\\mlstatpy\\nlp\\completion.py:489(merge_completions)\n",
      "        1    0.117    0.117    0.499    0.499 \\src\\mlstatpy\\nlp\\completion.py:453(update_stat_dynamic)\n",
      "    33238    0.175    0.000    0.295    0.000 \\src\\mlstatpy\\nlp\\completion.py:541(update_dynamic_minimum_keystroke)\n",
      "    15620    0.213    0.000    0.217    0.000 {built-in method builtins.__build_class__}\n",
      "    35224    0.093    0.000    0.101    0.000 \\src\\mlstatpy\\nlp\\completion.py:509(<listcomp>)\n",
      "    33238    0.085    0.000    0.093    0.000 \\src\\mlstatpy\\nlp\\completion.py:591(second_step)\n",
      "        1    0.045    0.045    0.071    0.071 \\src\\mlstatpy\\nlp\\completion.py:205(build)\n",
      "   170268    0.049    0.000    0.049    0.000 {built-in method builtins.hasattr}\n",
      "    15620    0.037    0.000    0.044    0.000 \\src\\mlstatpy\\nlp\\completion.py:528(update_minimum_keystroke)\n",
      "    34224    0.017    0.000    0.043    0.000 {built-in method builtins.all}\n",
      "    15620    0.027    0.000    0.034    0.000 {built-in method builtins.sorted}\n",
      "    16619    0.022    0.000    0.032    0.000 \\src\\mlstatpy\\nlp\\completion.py:612(init_dynamic_minimum_keystroke)\n",
      "   338032    0.030    0.000    0.030    0.000 {built-in method builtins.len}\n",
      "    16620    0.019    0.000    0.029    0.000 \\src\\mlstatpy\\nlp\\completion.py:98(unsorted_iter)\n",
      "   112492    0.028    0.000    0.028    0.000 \\src\\mlstatpy\\nlp\\completion.py:438(<genexpr>)\n",
      "     3000    0.025    0.000    0.025    0.000 \\src\\mlstatpy\\nlp\\completion.py:260(find)\n",
      "    15621    0.004    0.000    0.025    0.000 {method 'extend' of 'collections.deque' objects}\n",
      "     1001    0.014    0.000    0.021    0.000 \\src\\mlstatpy\\nlp\\completion.py:133(leaves)\n",
      "    62480    0.017    0.000    0.017    0.000 {method 'extend' of 'list' objects}\n",
      "    16619    0.014    0.000    0.016    0.000 \\src\\mlstatpy\\nlp\\completion.py:22(__init__)\n",
      "    22705    0.013    0.000    0.013    0.000 {built-in method builtins.min}\n",
      "        1    0.001    0.001    0.012    0.012 <ipython-input-2-1cd63cc92e3c>:13(<listcomp>)\n",
      "        1    0.001    0.001    0.012    0.012 <ipython-input-2-1cd63cc92e3c>:10(<listcomp>)\n",
      "   127944    0.011    0.000    0.011    0.000 {method 'values' of 'dict' objects}\n",
      "        1    0.001    0.001    0.011    0.011 <ipython-input-2-1cd63cc92e3c>:11(<listcomp>)\n",
      "     1000    0.002    0.000    0.011    0.000 \\src\\mlstatpy\\nlp\\completion.py:385(min_dynamic_keystroke2)\n",
      "     1000    0.001    0.000    0.010    0.000 \\src\\mlstatpy\\nlp\\completion.py:324(min_keystroke0)\n",
      "     1000    0.001    0.000    0.010    0.000 \\src\\mlstatpy\\nlp\\completion.py:355(min_dynamic_keystroke)\n",
      "    66476    0.010    0.000    0.010    0.000 {method 'pop' of 'list' objects}\n",
      "    16618    0.009    0.000    0.009    0.000 \\src\\mlstatpy\\nlp\\completion.py:56(_add)\n",
      "    19604    0.008    0.000    0.008    0.000 {built-in method builtins.max}\n",
      "    15620    0.008    0.000    0.008    0.000 \\src\\mlstatpy\\nlp\\completion.py:497(<listcomp>)\n",
      "    50846    0.008    0.000    0.008    0.000 {method 'append' of 'list' objects}\n",
      "    16620    0.007    0.000    0.007    0.000 \\src\\mlstatpy\\nlp\\completion.py:503(<genexpr>)\n",
      "    62480    0.006    0.000    0.006    0.000 {method 'items' of 'dict' objects}\n",
      "    15620    0.005    0.000    0.005    0.000 \\src\\mlstatpy\\nlp\\completion.py:494(Fake)\n",
      "    52840    0.005    0.000    0.005    0.000 {method 'popleft' of 'collections.deque' objects}\n",
      "    35222    0.003    0.000    0.003    0.000 {method 'append' of 'collections.deque' objects}\n",
      "        1    0.002    0.002    0.002    0.002 <ipython-input-2-1cd63cc92e3c>:7(<listcomp>)\n",
      "        5    0.000    0.000    0.002    0.000 {built-in method builtins.sum}\n",
      "    17619    0.002    0.000    0.002    0.000 {built-in method builtins.isinstance}\n",
      "     1001    0.000    0.000    0.001    0.000 <ipython-input-2-1cd63cc92e3c>:18(<genexpr>)\n",
      "     1001    0.000    0.000    0.000    0.000 <ipython-input-2-1cd63cc92e3c>:15(<genexpr>)\n",
      "     1001    0.000    0.000    0.000    0.000 <ipython-input-2-1cd63cc92e3c>:16(<genexpr>)\n",
      "     1001    0.000    0.000    0.000    0.000 <ipython-input-2-1cd63cc92e3c>:17(<genexpr>)\n",
      "        1    0.000    0.000    0.000    0.000 {method 'disable' of '_lsprof.Profiler' objects}\n",
      "\n",
      "\n",
      "\n"
     ]
    }
   ],
   "source": [
    "r = doprofile(sample1000, \"completion.prof\")\n",
    "print(r)"
   ]
  },
  {
   "cell_type": "markdown",
   "metadata": {},
   "source": [
    "## memory_profiler\n",
    "\n",
    "See [memory_profiler](https://pypi.python.org/pypi/memory_profiler/0.41)."
   ]
  },
  {
   "cell_type": "code",
   "execution_count": 8,
   "metadata": {
    "collapsed": false
   },
   "outputs": [],
   "source": [
    "from memory_profiler import profile\n",
    "%load_ext memory_profiler"
   ]
  },
  {
   "cell_type": "code",
   "execution_count": 9,
   "metadata": {
    "collapsed": false
   },
   "outputs": [
    {
     "name": "stdout",
     "output_type": "stream",
     "text": [
      "peak memory: 349.15 MiB, increment: 17.55 MiB\n"
     ]
    }
   ],
   "source": [
    "%memit toprofile(sample1000)"
   ]
  },
  {
   "cell_type": "code",
   "execution_count": 10,
   "metadata": {
    "collapsed": false
   },
   "outputs": [
    {
     "name": "stdout",
     "output_type": "stream",
     "text": [
      "ERROR: Could not find file <ipython-input-10-7e3f7b9a5136>\n",
      "NOTE: %mprun can only be used on functions defined in physical files, and not in the IPython environment.\n"
     ]
    }
   ],
   "source": [
    "from io import StringIO\n",
    "st = StringIO()\n",
    "@profile(stream=st)\n",
    "def toprofile(lines):\n",
    "    gain_dynamique_moyen_par_mot(lines, [1.0] * len(lines))\n",
    "toprofile(sample1000)"
   ]
  },
  {
   "cell_type": "code",
   "execution_count": 11,
   "metadata": {
    "collapsed": false
   },
   "outputs": [
    {
     "name": "stdout",
     "output_type": "stream",
     "text": [
      "Overwriting temp_mem_profile.py\n"
     ]
    }
   ],
   "source": [
    "%%file temp_mem_profile.py\n",
    "\n",
    "from mlstatpy.nlp.completion import CompletionTrieNode\n",
    "from memory_profiler import profile\n",
    "\n",
    "@profile(precision=4)\n",
    "def gain_dynamique_moyen_par_mot(queries, weights):\n",
    "    per = list(zip(weights, queries))\n",
    "    total = sum(weights) * 1.0\n",
    "    res = []\n",
    "    trie = CompletionTrieNode.build([(None, q) for _, q in per])\n",
    "    trie.precompute_stat()\n",
    "    trie.update_stat_dynamic()\n",
    "    wks = [(w, p, len(w) - trie.min_keystroke0(w)[0]) for p, w in per]\n",
    "    wks_dyn = [(w, p, len(w) - trie.min_dynamic_keystroke(w)[0])\n",
    "               for p, w in per]\n",
    "    wks_dyn2 = [(w, p, len(w) - trie.min_dynamic_keystroke2(w)[0])\n",
    "                for p, w in per]\n",
    "    gain = sum(g * p / total for w, p, g in wks)\n",
    "    gain_dyn = sum(g * p / total for w, p, g in wks_dyn)\n",
    "    gain_dyn2 = sum(g * p / total for w, p, g in wks_dyn2)\n",
    "    ave_length = sum(len(w) * p / total for p, w in per)\n",
    "    return gain, gain_dyn, gain_dyn2, ave_length\n",
    "\n",
    "@profile(precision=4)\n",
    "def toprofile():\n",
    "    with open(\"sample1000.txt\", \"r\", encoding=\"utf-8\") as f:\n",
    "        lines = [_.strip(\"\\n\\r \") for _ in f.readlines()]\n",
    "    gain_dynamique_moyen_par_mot(lines, [1.0] * len(lines))\n",
    "toprofile()"
   ]
  },
  {
   "cell_type": "code",
   "execution_count": 12,
   "metadata": {
    "collapsed": false
   },
   "outputs": [
    {
     "name": "stdout",
     "output_type": "stream",
     "text": [
      "Filename: temp_mem_profile.py\n",
      "\n",
      "Line #    Mem usage    Increment   Line Contents\n",
      "================================================\n",
      "     5  26.0273 MiB   0.0000 MiB   @profile(precision=4)\n",
      "     6                             def gain_dynamique_moyen_par_mot(queries, weights):\n",
      "     7  26.0508 MiB   0.0234 MiB       per = list(zip(weights, queries))\n",
      "     8  26.0508 MiB   0.0000 MiB       total = sum(weights) * 1.0\n",
      "     9  26.0508 MiB   0.0000 MiB       res = []\n",
      "    10  33.4805 MiB   7.4297 MiB       trie = CompletionTrieNode.build([(None, q) for _, q in per])\n",
      "    11  42.1641 MiB   8.6836 MiB       trie.precompute_stat()\n",
      "    12  47.1914 MiB   5.0273 MiB       trie.update_stat_dynamic()\n",
      "    13  47.2539 MiB   0.0625 MiB       wks = [(w, p, len(w) - trie.min_keystroke0(w)[0]) for p, w in per]\n",
      "    14  47.3359 MiB   0.0820 MiB       wks_dyn = [(w, p, len(w) - trie.min_dynamic_keystroke(w)[0])\n",
      "    15  47.3359 MiB   0.0000 MiB                  for p, w in per]\n",
      "    16  47.4141 MiB   0.0781 MiB       wks_dyn2 = [(w, p, len(w) - trie.min_dynamic_keystroke2(w)[0])\n",
      "    17  47.4141 MiB   0.0000 MiB                   for p, w in per]\n",
      "    18  47.4141 MiB   0.0000 MiB       gain = sum(g * p / total for w, p, g in wks)\n",
      "    19  47.4141 MiB   0.0000 MiB       gain_dyn = sum(g * p / total for w, p, g in wks_dyn)\n",
      "    20  47.4180 MiB   0.0039 MiB       gain_dyn2 = sum(g * p / total for w, p, g in wks_dyn2)\n",
      "    21  47.4180 MiB   0.0000 MiB       ave_length = sum(len(w) * p / total for p, w in per)\n",
      "    22  47.4180 MiB   0.0000 MiB       return gain, gain_dyn, gain_dyn2, ave_length\n",
      "\n",
      "\n",
      "Filename: temp_mem_profile.py\n",
      "\n",
      "Line #    Mem usage    Increment   Line Contents\n",
      "================================================\n",
      "    24  25.7227 MiB   0.0000 MiB   @profile(precision=4)\n",
      "    25                             def toprofile():\n",
      "    26  25.7266 MiB   0.0039 MiB       with open(\"sample1000.txt\", \"r\", encoding=\"utf-8\") as f:\n",
      "    27  26.0039 MiB   0.2773 MiB           lines = [_.strip(\"\\n\\r \") for _ in f.readlines()]\n",
      "    28  47.4180 MiB  21.4141 MiB       gain_dynamique_moyen_par_mot(lines, [1.0] * len(lines))\n",
      "\n",
      "\n",
      "\n"
     ]
    }
   ],
   "source": [
    "import sys\n",
    "cmd = sys.executable\n",
    "from pyquickhelper.loghelper import run_cmd\n",
    "cmd += \" -m memory_profiler temp_mem_profile.py\"\n",
    "out, err = run_cmd(cmd, wait=True)\n",
    "print(out)"
   ]
  },
  {
   "cell_type": "markdown",
   "metadata": {},
   "source": [
    "## pycallgraph\n",
    "\n",
    "See [pycallgraph](http://pycallgraph.slowchop.com/en/develop/genindex.html), see also the [options](https://github.com/gak/pycallgraph/blob/develop/pycallgraph/output/graphviz.py) for Graphviz."
   ]
  },
  {
   "cell_type": "code",
   "execution_count": 13,
   "metadata": {
    "collapsed": false
   },
   "outputs": [],
   "source": [
    "from pyquickhelper.helpgen.conf_path_tools import find_graphviz_dot\n",
    "dot = find_graphviz_dot()"
   ]
  },
  {
   "cell_type": "code",
   "execution_count": 32,
   "metadata": {
    "collapsed": false
   },
   "outputs": [],
   "source": [
    "from pycallgraph import PyCallGraph\n",
    "from pycallgraph.output import GraphvizOutput\n",
    "\n",
    "graphviz = GraphvizOutput()\n",
    "graphviz.output_file = 'profile_dot.png'\n",
    "graphviz.tool = dot\n",
    "graphviz.font_size = 10\n",
    "\n",
    "if False:\n",
    "    # does not always work\n",
    "    with PyCallGraph(output=graphviz):\n",
    "        toprofile0(sample1000)        "
   ]
  },
  {
   "cell_type": "code",
   "execution_count": 20,
   "metadata": {
    "collapsed": false
   },
   "outputs": [
    {
     "data": {
      "image/png": "profile_dot.png",
      "text/plain": [
       "<IPython.core.display.Image object>"
      ]
     },
     "execution_count": 20,
     "metadata": {},
     "output_type": "execute_result"
    }
   ],
   "source": [
    "from IPython.display import Image\n",
    "Image(graphviz.output_file)"
   ]
  },
  {
   "cell_type": "markdown",
   "metadata": {},
   "source": [
    "## pyinstrument\n",
    "\n",
    "See [pyinstrument](https://github.com/joerick/pyinstrument)."
   ]
  },
  {
   "cell_type": "code",
   "execution_count": 35,
   "metadata": {
    "collapsed": false
   },
   "outputs": [
    {
     "name": "stdout",
     "output_type": "stream",
     "text": [
      "\u001b[31m4.924\u001b[0m gain_dynamique_moyen_par_mot  \u001b[2m<ipython-input-2-1cd63cc92e3c>:3\u001b[0m\n",
      "├─ \u001b[33m2.739\u001b[0m precompute_stat  \u001b[2mmlstatpy\\nlp\\completion.py:418\u001b[0m\n",
      "│  ├─ \u001b[33m1.762\u001b[0m merge_completions  \u001b[2mmlstatpy\\nlp\\completion.py:489\u001b[0m\n",
      "│  │  └─ \u001b[32m0.317\u001b[0m <listcomp>  \u001b[2mmlstatpy\\nlp\\completion.py:509\u001b[0m\n",
      "│  ├─ \u001b[92m\u001b[2m0.097\u001b[0m update_minimum_keystroke  \u001b[2mmlstatpy\\nlp\\completion.py:528\u001b[0m\n",
      "│  ├─ \u001b[92m\u001b[2m0.094\u001b[0m leaves  \u001b[2mmlstatpy\\nlp\\completion.py:133\u001b[0m\n",
      "│  └─ \u001b[92m\u001b[2m0.093\u001b[0m <genexpr>  \u001b[2mmlstatpy\\nlp\\completion.py:438\u001b[0m\n",
      "├─ \u001b[33m1.925\u001b[0m update_stat_dynamic  \u001b[2mmlstatpy\\nlp\\completion.py:453\u001b[0m\n",
      "│  ├─ \u001b[33m1.181\u001b[0m update_dynamic_minimum_keystroke  \u001b[2mmlstatpy\\nlp\\completion.py:541\u001b[0m\n",
      "│  │  └─ \u001b[32m0.428\u001b[0m second_step  \u001b[2mmlstatpy\\nlp\\completion.py:591\u001b[0m\n",
      "│  ├─ \u001b[92m\u001b[2m0.125\u001b[0m unsorted_iter  \u001b[2mmlstatpy\\nlp\\completion.py:98\u001b[0m\n",
      "│  └─ \u001b[92m\u001b[2m0.069\u001b[0m init_dynamic_minimum_keystroke  \u001b[2mmlstatpy\\nlp\\completion.py:612\u001b[0m\n",
      "└─ \u001b[92m\u001b[2m0.175\u001b[0m build  \u001b[2mmlstatpy\\nlp\\completion.py:205\u001b[0m\n",
      "   └─ \u001b[92m\u001b[2m0.065\u001b[0m __init__  \u001b[2mmlstatpy\\nlp\\completion.py:22\u001b[0m\n",
      "\n"
     ]
    }
   ],
   "source": [
    "from pyinstrument import Profiler\n",
    "\n",
    "profiler = Profiler(use_signal=False)\n",
    "profiler.start()\n",
    "\n",
    "toprofile0(sample1000)\n",
    "\n",
    "profiler.stop()\n",
    "\n",
    "print(profiler.output_text(unicode=True, color=True))"
   ]
  },
  {
   "cell_type": "markdown",
   "metadata": {},
   "source": [
    "## SnakeViz"
   ]
  },
  {
   "cell_type": "code",
   "execution_count": 21,
   "metadata": {
    "collapsed": false
   },
   "outputs": [],
   "source": [
    "%load_ext snakeviz"
   ]
  },
  {
   "cell_type": "markdown",
   "metadata": {},
   "source": [
    "L'instruction qui suit lance l'explorateur par défaut avec les données du profilage."
   ]
  },
  {
   "cell_type": "code",
   "execution_count": 22,
   "metadata": {
    "collapsed": false
   },
   "outputs": [],
   "source": [
    "# %snakeviz toprofile(sample1000)"
   ]
  },
  {
   "cell_type": "markdown",
   "metadata": {},
   "source": [
    "## line_profiler\n",
    "\n",
    "See [line_profiler](https://github.com/rkern/line_profiler)."
   ]
  },
  {
   "cell_type": "code",
   "execution_count": 23,
   "metadata": {
    "collapsed": true
   },
   "outputs": [],
   "source": [
    "def lineprofile(lines):\n",
    "    gain_dynamique_moyen_par_mot(lines, [1.0] * len(lines))"
   ]
  },
  {
   "cell_type": "code",
   "execution_count": 24,
   "metadata": {
    "collapsed": true
   },
   "outputs": [],
   "source": [
    "from mlstatpy.nlp.completion import CompletionTrieNode"
   ]
  },
  {
   "cell_type": "code",
   "execution_count": 25,
   "metadata": {
    "collapsed": false
   },
   "outputs": [
    {
     "name": "stdout",
     "output_type": "stream",
     "text": [
      "Timer unit: 4.27635e-07 s\n",
      "\n",
      "Total time: 4.03233 s\n",
      "File: <ipython-input-2-1cd63cc92e3c>\n",
      "Function: gain_dynamique_moyen_par_mot at line 3\n",
      "\n",
      "Line #      Hits         Time  Per Hit   % Time  Line Contents\n",
      "==============================================================\n",
      "     3                                           def gain_dynamique_moyen_par_mot(queries, weights):\n",
      "     4         1          708    708.0      0.0      per = list(zip(weights, queries))\n",
      "     5         1           31     31.0      0.0      total = sum(weights) * 1.0\n",
      "     6         1            6      6.0      0.0      res = []\n",
      "     7         1       845977 845977.0      9.0      trie = CompletionTrieNode.build([(None, q) for _, q in per])\n",
      "     8         1      5757749 5757749.0     61.1      trie.precompute_stat()\n",
      "     9         1      2591918 2591918.0     27.5      trie.update_stat_dynamic()\n",
      "    10         1        74224  74224.0      0.8      wks = [(w, p, len(w) - trie.min_keystroke0(w)[0]) for p, w in per]\n",
      "    11         1           18     18.0      0.0      wks_dyn = [(w, p, len(w) - trie.min_dynamic_keystroke(w)[0])\n",
      "    12         1        81506  81506.0      0.9                 for p, w in per]\n",
      "    13         1           15     15.0      0.0      wks_dyn2 = [(w, p, len(w) - trie.min_dynamic_keystroke2(w)[0])\n",
      "    14         1        69633  69633.0      0.7                  for p, w in per]\n",
      "    15         1         1897   1897.0      0.0      gain = sum(g * p / total for w, p, g in wks)\n",
      "    16         1         1832   1832.0      0.0      gain_dyn = sum(g * p / total for w, p, g in wks_dyn)\n",
      "    17         1         1808   1808.0      0.0      gain_dyn2 = sum(g * p / total for w, p, g in wks_dyn2)\n",
      "    18         1         2044   2044.0      0.0      ave_length = sum(len(w) * p / total for p, w in per)\n",
      "    19         1            7      7.0      0.0      return gain, gain_dyn, gain_dyn2, ave_length\n",
      "\n",
      "Total time: 2.01937 s\n",
      "File: \\src\\mlstatpy\\nlp\\completion.py\n",
      "Function: precompute_stat at line 418\n",
      "\n",
      "Line #      Hits         Time  Per Hit   % Time  Line Contents\n",
      "==============================================================\n",
      "   418                                               def precompute_stat(self):\n",
      "   419                                                   \"\"\"\n",
      "   420                                                   computes and stores list of completions for each node,\n",
      "   421                                                   computes mks\n",
      "   422                                           \n",
      "   423                                                   @param      clean   clean stat\n",
      "   424                                                   \"\"\"\n",
      "   425         1            8      8.0      0.0          stack = deque()\n",
      "   426         1        71502  71502.0      1.5          stack.extend(self.leaves())\n",
      "   427     52841       180936      3.4      3.8          while len(stack) > 0:\n",
      "   428     52840       176472      3.3      3.7              pop = stack.popleft()\n",
      "   429     52840       164364      3.1      3.5              if pop.stat is not None:\n",
      "   430     17617        45390      2.6      1.0                  continue\n",
      "   431     35223       106981      3.0      2.3              if not pop.children:\n",
      "   432       999         3666      3.7      0.1                  pop.stat = CompletionTrieNode._Stat()\n",
      "   433       999         7270      7.3      0.2                  pop.stat.completions = []\n",
      "   434       999         3769      3.8      0.1                  pop.stat.mks0 = len(pop.value)\n",
      "   435       999         3562      3.6      0.1                  pop.stat.mks0_ = len(pop.value)\n",
      "   436       999         2969      3.0      0.1                  if pop.parent is not None:\n",
      "   437       999         3142      3.1      0.1                      stack.append(pop.parent)\n",
      "   438     34224       379085     11.1      8.0              elif all(v.stat is not None for v in pop.children.values()):\n",
      "   439     15620        71632      4.6      1.5                  pop.stat = CompletionTrieNode._Stat()\n",
      "   440     15620        45580      2.9      1.0                  if pop.leave:\n",
      "   441         1            4      4.0      0.0                      pop.stat.mks0 = len(pop.value)\n",
      "   442         1            3      3.0      0.0                      pop.stat.mks0_ = len(pop.value)\n",
      "   443     15620        69648      4.5      1.5                  stack.extend(pop.children.values())\n",
      "   444     15620      2871232    183.8     60.8                  pop.stat.merge_completions(pop.value, pop.children.values())\n",
      "   445     15620        66854      4.3      1.4                  pop.stat.next_nodes = pop.children\n",
      "   446     15620       271246     17.4      5.7                  pop.stat.update_minimum_keystroke(len(pop.value))\n",
      "   447     15620        52869      3.4      1.1                  if pop.parent is not None:\n",
      "   448     15619        57457      3.7      1.2                      stack.append(pop.parent)\n",
      "   449                                                       else:\n",
      "   450                                                           # we'll do it again later\n",
      "   451     18604        66540      3.6      1.4                  stack.append(pop)\n",
      "\n",
      "\n"
     ]
    }
   ],
   "source": [
    "from line_profiler import LineProfiler\n",
    "prof = LineProfiler()\n",
    "prof.add_function(gain_dynamique_moyen_par_mot)\n",
    "prof.add_function(CompletionTrieNode.precompute_stat)\n",
    "prof.run(\"lineprofile(sample1000)\")\n",
    "st = io.StringIO()\n",
    "prof.print_stats(stream=st)\n",
    "rem = os.path.normpath(os.path.join(os.getcwd(), \"..\", \"..\", \"..\"))\n",
    "res = st.getvalue().replace(rem, \"\")\n",
    "print(res)"
   ]
  },
  {
   "cell_type": "code",
   "execution_count": null,
   "metadata": {
    "collapsed": true
   },
   "outputs": [],
   "source": []
  },
  {
   "cell_type": "code",
   "execution_count": null,
   "metadata": {
    "collapsed": true
   },
   "outputs": [],
   "source": []
  }
 ],
 "metadata": {
  "kernelspec": {
   "display_name": "Python 3",
   "language": "python",
   "name": "python3"
  },
  "language_info": {
   "codemirror_mode": {
    "name": "ipython",
    "version": 3
   },
   "file_extension": ".py",
   "mimetype": "text/x-python",
   "name": "python",
   "nbconvert_exporter": "python",
   "pygments_lexer": "ipython3",
   "version": "3.5.0"
  },
  "widgets": {
   "state": {},
   "version": "1.1.2"
  }
 },
 "nbformat": 4,
 "nbformat_minor": 0
}
