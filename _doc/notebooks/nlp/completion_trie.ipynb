{
 "cells": [
  {
   "cell_type": "markdown",
   "metadata": {},
   "source": [
    "# Complétion"
   ]
  },
  {
   "cell_type": "code",
   "execution_count": 5,
   "metadata": {
    "collapsed": false
   },
   "outputs": [
    {
     "data": {
      "text/html": [
       "<div id=\"my_id_menu_nb\">run previous cell, wait for 2 seconds</div>\n",
       "<script>\n",
       "function repeat_indent_string(n){\n",
       "    var a = \"\" ;\n",
       "    for ( ; n > 0 ; --n) {\n",
       "        a += \"    \";\n",
       "    }\n",
       "    return a;\n",
       "}\n",
       "var update_menu_string = function(begin, lfirst, llast, sformat, send, keep_item) {\n",
       "    var anchors = document.getElementsByClassName(\"section\");\n",
       "    if (anchors.length == 0) {\n",
       "        anchors = document.getElementsByClassName(\"text_cell_render rendered_html\");\n",
       "    }\n",
       "    var i,t;\n",
       "    var text_menu = begin;\n",
       "    var text_memo = \"<pre>\\nlength:\" + anchors.length + \"\\n\";\n",
       "    var ind = \"\";\n",
       "    var memo_level = 1;\n",
       "    var href;\n",
       "    var tags = [];\n",
       "    var main_item = 0;\n",
       "    for (i = 0; i <= llast; i++) {\n",
       "        tags.push(\"h\" + i);\n",
       "    }\n",
       "\n",
       "    for (i = 0; i < anchors.length; i++) {\n",
       "        text_memo += \"**\" + anchors[i].id + \"--\\n\";\n",
       "\n",
       "        var child = null;\n",
       "        for(t = 0; t < tags.length; t++) {\n",
       "            var r = anchors[i].getElementsByTagName(tags[t]);\n",
       "            if (r.length > 0) {\n",
       "child = r[0];\n",
       "break;\n",
       "            }\n",
       "        }\n",
       "        if (child == null){\n",
       "            text_memo += \"null\\n\";\n",
       "            continue;\n",
       "        }\n",
       "        if (anchors[i].hasAttribute(\"id\")) {\n",
       "            // when converted in RST\n",
       "            href = anchors[i].id;\n",
       "            text_memo += \"#1-\" + href;\n",
       "            // passer à child suivant (le chercher)\n",
       "        }\n",
       "        else if (child.hasAttribute(\"id\")) {\n",
       "            // in a notebook\n",
       "            href = child.id;\n",
       "            text_memo += \"#2-\" + href;\n",
       "        }\n",
       "        else {\n",
       "            text_memo += \"#3-\" + \"*\" + \"\\n\";\n",
       "            continue;\n",
       "        }\n",
       "        var title = child.textContent;\n",
       "        var level = parseInt(child.tagName.substring(1,2));\n",
       "\n",
       "        text_memo += \"--\" + level + \"?\" + lfirst + \"--\" + title + \"\\n\";\n",
       "\n",
       "        if ((level < lfirst) || (level > llast)) {\n",
       "            continue ;\n",
       "        }\n",
       "        if (title.endsWith('¶')) {\n",
       "            title = title.substring(0,title.length-1).replace(\"<\", \"&lt;\").replace(\">\", \"&gt;\").replace(\"&\", \"&amp;\")\n",
       "        }\n",
       "\n",
       "        if (title.length == 0) {\n",
       "            continue;\n",
       "        }\n",
       "\n",
       "        while (level < memo_level) {\n",
       "            text_menu += \"</ul>\\n\";\n",
       "            memo_level -= 1;\n",
       "        }\n",
       "        if (level == lfirst) {\n",
       "            main_item += 1;\n",
       "        }\n",
       "        if (keep_item != -1 && main_item != keep_item + 1) {\n",
       "            // alert(main_item + \" - \" + level + \" - \" + keep_item);\n",
       "            continue;\n",
       "        }\n",
       "        while (level > memo_level) {\n",
       "            text_menu += \"<ul>\\n\";\n",
       "            memo_level += 1;\n",
       "        }\n",
       "        text_menu += repeat_indent_string(level-2) + sformat.replace(\"__HREF__\", href).replace(\"__TITLE__\", title);\n",
       "    }\n",
       "    while (1 < memo_level) {\n",
       "        text_menu += \"</ul>\\n\";\n",
       "        memo_level -= 1;\n",
       "    }\n",
       "    text_menu += send;\n",
       "    //text_menu += \"\\n\" + text_memo;\n",
       "    return text_menu;\n",
       "};\n",
       "var update_menu = function() {\n",
       "    var sbegin = \"\";\n",
       "    var sformat = '<li><a href=\"#__HREF__\">__TITLE__</a></li>';\n",
       "    var send = \"\";\n",
       "    var keep_item = -1;\n",
       "    var text_menu = update_menu_string(sbegin, 2, 4, sformat, send, keep_item);\n",
       "    var menu = document.getElementById(\"my_id_menu_nb\");\n",
       "    menu.innerHTML=text_menu;\n",
       "};\n",
       "window.setTimeout(update_menu,2000);\n",
       "            </script>"
      ],
      "text/plain": [
       "<IPython.core.display.HTML object>"
      ]
     },
     "execution_count": 5,
     "metadata": {},
     "output_type": "execute_result"
    }
   ],
   "source": [
    "from pyquickhelper.ipythonhelper import add_notebook_menu\n",
    "add_notebook_menu()"
   ]
  },
  {
   "cell_type": "markdown",
   "metadata": {},
   "source": [
    "## Meilleur ordre pour a, ab, abc, abcd"
   ]
  },
  {
   "cell_type": "code",
   "execution_count": 4,
   "metadata": {
    "collapsed": false
   },
   "outputs": [
    {
     "name": "stdout",
     "output_type": "stream",
     "text": [
      "0 ordre ('a', 'ab', 'abc', 'abcd')\n",
      "1 ordre ('a', 'ab', 'abcd', 'abc')\n",
      "1 ordre ('a', 'abc', 'ab', 'abcd')\n",
      "2 ordre ('a', 'abc', 'abcd', 'ab')\n",
      "2 ordre ('a', 'abcd', 'ab', 'abc')\n",
      "2 ordre ('a', 'abcd', 'abc', 'ab')\n",
      "1 ordre ('ab', 'a', 'abc', 'abcd')\n",
      "2 ordre ('ab', 'a', 'abcd', 'abc')\n",
      "2 ordre ('ab', 'abc', 'a', 'abcd')\n",
      "3 ordre ('ab', 'abc', 'abcd', 'a')\n",
      "3 ordre ('ab', 'abcd', 'a', 'abc')\n",
      "3 ordre ('ab', 'abcd', 'abc', 'a')\n",
      "2 ordre ('abc', 'a', 'ab', 'abcd')\n",
      "3 ordre ('abc', 'a', 'abcd', 'ab')\n",
      "2 ordre ('abc', 'ab', 'a', 'abcd')\n",
      "3 ordre ('abc', 'ab', 'abcd', 'a')\n",
      "4 ordre ('abc', 'abcd', 'a', 'ab')\n",
      "4 ordre ('abc', 'abcd', 'ab', 'a')\n",
      "3 ordre ('abcd', 'a', 'ab', 'abc')\n",
      "3 ordre ('abcd', 'a', 'abc', 'ab')\n",
      "3 ordre ('abcd', 'ab', 'a', 'abc')\n",
      "3 ordre ('abcd', 'ab', 'abc', 'a')\n",
      "4 ordre ('abcd', 'abc', 'a', 'ab')\n",
      "4 ordre ('abcd', 'abc', 'ab', 'a')\n"
     ]
    }
   ],
   "source": [
    "from mlstatpy.nlp.completion import CompletionTrieNode\n",
    "import itertools\n",
    "queries = ['a', 'ab', 'abc', 'abcd']\n",
    "for per in itertools.permutations(queries):\n",
    "    trie = CompletionTrieNode.build([(None, w) for w in per])\n",
    "    gain = sum( len(w) - trie.min_keystroke(w)[0] for w in per)\n",
    "    print(gain, \"ordre\", per)"
   ]
  },
  {
   "cell_type": "markdown",
   "metadata": {},
   "source": [
    "## Meilleur ordre pour a, ab, abc, abcd, edf, edfh"
   ]
  },
  {
   "cell_type": "code",
   "execution_count": 23,
   "metadata": {
    "collapsed": false,
    "scrolled": false
   },
   "outputs": [
    {
     "name": "stdout",
     "output_type": "stream",
     "text": [
      "(6, 'ordre', ('edfh', 'edf', 'abcd', 'abc', 'ab', 'a'))\n",
      "(6, 'ordre', ('edfh', 'edf', 'abcd', 'abc', 'a', 'ab'))\n",
      "(6, 'ordre', ('edfh', 'edf', 'abcd', 'ab', 'abc', 'a'))\n",
      "(6, 'ordre', ('edfh', 'edf', 'abcd', 'ab', 'a', 'abc'))\n",
      "(6, 'ordre', ('edfh', 'edf', 'abcd', 'a', 'abc', 'ab'))\n",
      "(6, 'ordre', ('edfh', 'edf', 'abcd', 'a', 'ab', 'abc'))\n",
      "(6, 'ordre', ('edfh', 'edf', 'abc', 'abcd', 'ab', 'a'))\n",
      "(6, 'ordre', ('edfh', 'edf', 'abc', 'abcd', 'a', 'ab'))\n",
      "(6, 'ordre', ('edf', 'edfh', 'abcd', 'abc', 'ab', 'a'))\n",
      "(6, 'ordre', ('edf', 'edfh', 'abcd', 'abc', 'a', 'ab'))\n",
      "(6, 'ordre', ('edf', 'edfh', 'abcd', 'ab', 'abc', 'a'))\n",
      "(6, 'ordre', ('edf', 'edfh', 'abcd', 'ab', 'a', 'abc'))\n",
      "(6, 'ordre', ('edf', 'edfh', 'abcd', 'a', 'abc', 'ab'))\n",
      "(6, 'ordre', ('edf', 'edfh', 'abcd', 'a', 'ab', 'abc'))\n",
      "(6, 'ordre', ('edf', 'edfh', 'abc', 'abcd', 'ab', 'a'))\n",
      "(6, 'ordre', ('edf', 'edfh', 'abc', 'abcd', 'a', 'ab'))\n",
      "(6, 'ordre', ('abcd', 'abc', 'edfh', 'edf', 'ab', 'a'))\n",
      "(6, 'ordre', ('abcd', 'abc', 'edfh', 'edf', 'a', 'ab'))\n",
      "(6, 'ordre', ('abcd', 'abc', 'edfh', 'ab', 'edf', 'a'))\n",
      "(6, 'ordre', ('abcd', 'abc', 'edfh', 'ab', 'a', 'edf'))\n",
      "(6, 'ordre', ('abcd', 'abc', 'edfh', 'a', 'edf', 'ab'))\n",
      "(6, 'ordre', ('abcd', 'abc', 'edfh', 'a', 'ab', 'edf'))\n",
      "(6, 'ordre', ('abcd', 'abc', 'edf', 'edfh', 'ab', 'a'))\n",
      "(6, 'ordre', ('abcd', 'abc', 'edf', 'edfh', 'a', 'ab'))\n",
      "(6, 'ordre', ('abcd', 'abc', 'edf', 'ab', 'edfh', 'a'))\n",
      "(6, 'ordre', ('abcd', 'abc', 'edf', 'ab', 'a', 'edfh'))\n",
      "(6, 'ordre', ('abcd', 'abc', 'edf', 'a', 'edfh', 'ab'))\n",
      "(6, 'ordre', ('abcd', 'abc', 'edf', 'a', 'ab', 'edfh'))\n",
      "(6, 'ordre', ('abcd', 'abc', 'ab', 'edfh', 'edf', 'a'))\n",
      "(6, 'ordre', ('abcd', 'abc', 'ab', 'edfh', 'a', 'edf'))\n"
     ]
    }
   ],
   "source": [
    "queries = ['a', 'ab', 'abc', 'abcd', 'edf', 'edfh']\n",
    "res = []\n",
    "for per in itertools.permutations(queries):\n",
    "    trie = CompletionTrieNode.build([(None, w) for w in per])\n",
    "    gain = sum( len(w) - trie.min_keystroke(w)[0] for w in per)\n",
    "    res.append((gain, \"ordre\", per))\n",
    "res.sort(reverse=True)\n",
    "for r in res[:30]:\n",
    "    print(r)"
   ]
  },
  {
   "cell_type": "code",
   "execution_count": null,
   "metadata": {
    "collapsed": true
   },
   "outputs": [],
   "source": []
  }
 ],
 "metadata": {
  "kernelspec": {
   "display_name": "Python 3",
   "language": "python",
   "name": "python3"
  },
  "language_info": {
   "codemirror_mode": {
    "name": "ipython",
    "version": 3
   },
   "file_extension": ".py",
   "mimetype": "text/x-python",
   "name": "python",
   "nbconvert_exporter": "python",
   "pygments_lexer": "ipython3",
   "version": "3.5.0"
  },
  "widgets": {
   "state": {},
   "version": "1.1.2"
  }
 },
 "nbformat": 4,
 "nbformat_minor": 0
}
