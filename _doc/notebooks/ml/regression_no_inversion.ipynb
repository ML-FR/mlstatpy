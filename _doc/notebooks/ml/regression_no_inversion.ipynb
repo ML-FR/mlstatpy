{
 "cells": [
  {
   "cell_type": "markdown",
   "metadata": {},
   "source": [
    "# Régression sans inversion\n",
    "\n",
    "Ce notebook mesure le temps de calcul dans deux algorithmes pour résoudre une régression linéaire, le premier inverse un matrice, le second le fait sans inverser une matrice, le troisième reprend l'idée du second mais utilise une décomposition [QR](https://fr.wikipedia.org/wiki/D%C3%A9composition_QR) puis inverse la matrice *R*."
   ]
  },
  {
   "cell_type": "code",
   "execution_count": 1,
   "metadata": {},
   "outputs": [],
   "source": [
    "%matplotlib inline"
   ]
  },
  {
   "cell_type": "code",
   "execution_count": 2,
   "metadata": {},
   "outputs": [
    {
     "data": {
      "text/plain": [
       "((1000, 7), (1000, 1), (1000, 1))"
      ]
     },
     "execution_count": 2,
     "metadata": {},
     "output_type": "execute_result"
    }
   ],
   "source": [
    "import numpy.random as rnd\n",
    "X = rnd.randn(1000, 7)\n",
    "eps = rnd.randn(1000, 1) / 3\n",
    "y = X.sum(axis=1).reshape((X.shape[0], 1)) + eps\n",
    "X.shape, y.shape, eps.shape"
   ]
  },
  {
   "cell_type": "code",
   "execution_count": 3,
   "metadata": {},
   "outputs": [
    {
     "name": "stderr",
     "output_type": "stream",
     "text": [
      "C:\\xavierdupre\\__home_\\GitHub\\mlstatpy\\src\\mlstatpy\\ml\\matrices.py:116: UserWarning: This function is not tested for a multidimensional linear regression.\n",
      "  \"This function is not tested for a multidimensional linear regression.\")\n"
     ]
    },
    {
     "data": {
      "text/plain": [
       "(array([[1.00192287],\n",
       "        [0.99972897],\n",
       "        [0.99481888],\n",
       "        [0.99599058],\n",
       "        [0.99952219],\n",
       "        [0.99775479],\n",
       "        [1.0099302 ]]),\n",
       " array([1.00192287, 0.99972897, 0.99481888, 0.99599058, 0.99952219,\n",
       "        0.99775479, 1.0099302 ]))"
      ]
     },
     "execution_count": 3,
     "metadata": {},
     "output_type": "execute_result"
    }
   ],
   "source": [
    "from mlstatpy.ml.matrices import linear_regression, gram_schmidt\n",
    "beta1 = linear_regression(X, y, algo=None)\n",
    "beta2 = linear_regression(X, y, algo=\"gram\")\n",
    "beta1, beta2"
   ]
  },
  {
   "cell_type": "code",
   "execution_count": 4,
   "metadata": {},
   "outputs": [
    {
     "name": "stdout",
     "output_type": "stream",
     "text": [
      "38.7 µs ± 2.25 µs per loop (mean ± std. dev. of 7 runs, 10000 loops each)\n"
     ]
    }
   ],
   "source": [
    "%timeit linear_regression(X, y, algo=None)"
   ]
  },
  {
   "cell_type": "code",
   "execution_count": 5,
   "metadata": {},
   "outputs": [
    {
     "name": "stdout",
     "output_type": "stream",
     "text": [
      "311 µs ± 19.1 µs per loop (mean ± std. dev. of 7 runs, 1000 loops each)\n"
     ]
    }
   ],
   "source": [
    "%timeit linear_regression(X, y, algo=\"gram\")"
   ]
  },
  {
   "cell_type": "code",
   "execution_count": 6,
   "metadata": {},
   "outputs": [
    {
     "name": "stdout",
     "output_type": "stream",
     "text": [
      "135 µs ± 1.77 µs per loop (mean ± std. dev. of 7 runs, 10000 loops each)\n"
     ]
    }
   ],
   "source": [
    "%timeit linear_regression(X, y, algo=\"qr\")"
   ]
  },
  {
   "cell_type": "code",
   "execution_count": 7,
   "metadata": {},
   "outputs": [
    {
     "name": "stdout",
     "output_type": "stream",
     "text": [
      "215 µs ± 7.6 µs per loop (mean ± std. dev. of 7 runs, 1000 loops each)\n"
     ]
    }
   ],
   "source": [
    "Xt = X.T\n",
    "%timeit gram_schmidt(Xt)"
   ]
  },
  {
   "cell_type": "markdown",
   "metadata": {},
   "source": [
    "Un exemple avec [scikit-learn](https://scikit-learn.org/stable/modules/generated/sklearn.linear_model.LinearRegression.html)."
   ]
  },
  {
   "cell_type": "code",
   "execution_count": 8,
   "metadata": {},
   "outputs": [
    {
     "name": "stdout",
     "output_type": "stream",
     "text": [
      "421 µs ± 9.56 µs per loop (mean ± std. dev. of 7 runs, 1000 loops each)\n"
     ]
    }
   ],
   "source": [
    "from sklearn.linear_model import LinearRegression\n",
    "clr = LinearRegression()\n",
    "%timeit clr.fit(X, y)"
   ]
  },
  {
   "cell_type": "markdown",
   "metadata": {},
   "source": [
    "Qui utilise la fonction [lstsq](https://docs.scipy.org/doc/numpy/reference/generated/numpy.linalg.lstsq.html?highlight=lstsq):"
   ]
  },
  {
   "cell_type": "code",
   "execution_count": 9,
   "metadata": {},
   "outputs": [
    {
     "name": "stdout",
     "output_type": "stream",
     "text": [
      "73 µs ± 3.44 µs per loop (mean ± std. dev. of 7 runs, 10000 loops each)\n"
     ]
    }
   ],
   "source": [
    "from numpy.linalg import lstsq\n",
    "%timeit lstsq(X, y, rcond=None)"
   ]
  },
  {
   "cell_type": "markdown",
   "metadata": {},
   "source": [
    "Il serait sans doute possible d'optimiser les calculs en réduisant le nombre de copie et de transposées. La version utilisant une décomposition [QR](https://fr.wikipedia.org/wiki/D%C3%A9composition_QR) est assez rapide. Le code est là [matrices.py](https://github.com/sdpython/mlstatpy/blob/master/src/mlstatpy/ml/matrices.py). Pour dépasser [numpy](https://www.numpy.org/), il faut passer au C++. *scikit-learn* ajoute des étapes intermédiaires pour vérifier les données ce qui explique la longueur. On résume le tout par un graphique."
   ]
  },
  {
   "cell_type": "code",
   "execution_count": 10,
   "metadata": {},
   "outputs": [],
   "source": [
    "from cpyquickhelper.numbers import measure_time"
   ]
  },
  {
   "cell_type": "code",
   "execution_count": 11,
   "metadata": {},
   "outputs": [
    {
     "name": "stdout",
     "output_type": "stream",
     "text": [
      "100 10\n",
      "1000 10\n",
      "10000 10\n",
      "100 20\n",
      "1000 20\n",
      "10000 20\n",
      "100 50\n",
      "1000 50\n"
     ]
    },
    {
     "data": {
      "text/html": [
       "<div>\n",
       "<style scoped>\n",
       "    .dataframe tbody tr th:only-of-type {\n",
       "        vertical-align: middle;\n",
       "    }\n",
       "\n",
       "    .dataframe tbody tr th {\n",
       "        vertical-align: top;\n",
       "    }\n",
       "\n",
       "    .dataframe thead th {\n",
       "        text-align: right;\n",
       "    }\n",
       "</style>\n",
       "<table border=\"1\" class=\"dataframe\">\n",
       "  <thead>\n",
       "    <tr style=\"text-align: right;\">\n",
       "      <th></th>\n",
       "      <th>average</th>\n",
       "      <th>context_size</th>\n",
       "      <th>deviation</th>\n",
       "      <th>dim</th>\n",
       "      <th>fct</th>\n",
       "      <th>max_exec</th>\n",
       "      <th>min_exec</th>\n",
       "      <th>name</th>\n",
       "      <th>number</th>\n",
       "      <th>repeat</th>\n",
       "      <th>size</th>\n",
       "    </tr>\n",
       "  </thead>\n",
       "  <tbody>\n",
       "    <tr>\n",
       "      <th>0</th>\n",
       "      <td>0.000043</td>\n",
       "      <td>368</td>\n",
       "      <td>0.000023</td>\n",
       "      <td>10</td>\n",
       "      <td>linear_regression(X, y, algo=None)</td>\n",
       "      <td>0.000133</td>\n",
       "      <td>0.000026</td>\n",
       "      <td>lr_matrix</td>\n",
       "      <td>20</td>\n",
       "      <td>20</td>\n",
       "      <td>100</td>\n",
       "    </tr>\n",
       "    <tr>\n",
       "      <th>1</th>\n",
       "      <td>0.000393</td>\n",
       "      <td>368</td>\n",
       "      <td>0.000086</td>\n",
       "      <td>10</td>\n",
       "      <td>linear_regression(X, y, algo='gram')</td>\n",
       "      <td>0.000706</td>\n",
       "      <td>0.000317</td>\n",
       "      <td>lr_gram</td>\n",
       "      <td>20</td>\n",
       "      <td>20</td>\n",
       "      <td>100</td>\n",
       "    </tr>\n",
       "    <tr>\n",
       "      <th>2</th>\n",
       "      <td>0.000114</td>\n",
       "      <td>368</td>\n",
       "      <td>0.000013</td>\n",
       "      <td>10</td>\n",
       "      <td>linear_regression(X, y, algo='qr')</td>\n",
       "      <td>0.000140</td>\n",
       "      <td>0.000094</td>\n",
       "      <td>lr_qr</td>\n",
       "      <td>20</td>\n",
       "      <td>20</td>\n",
       "      <td>100</td>\n",
       "    </tr>\n",
       "    <tr>\n",
       "      <th>3</th>\n",
       "      <td>0.000239</td>\n",
       "      <td>368</td>\n",
       "      <td>0.000020</td>\n",
       "      <td>10</td>\n",
       "      <td>gram_schmidt(Xt)</td>\n",
       "      <td>0.000261</td>\n",
       "      <td>0.000189</td>\n",
       "      <td>gram</td>\n",
       "      <td>20</td>\n",
       "      <td>20</td>\n",
       "      <td>100</td>\n",
       "    </tr>\n",
       "    <tr>\n",
       "      <th>4</th>\n",
       "      <td>0.000397</td>\n",
       "      <td>368</td>\n",
       "      <td>0.000035</td>\n",
       "      <td>10</td>\n",
       "      <td>clr.fit(X, y)</td>\n",
       "      <td>0.000461</td>\n",
       "      <td>0.000347</td>\n",
       "      <td>sklearn</td>\n",
       "      <td>20</td>\n",
       "      <td>20</td>\n",
       "      <td>100</td>\n",
       "    </tr>\n",
       "  </tbody>\n",
       "</table>\n",
       "</div>"
      ],
      "text/plain": [
       "    average  context_size  deviation  dim  \\\n",
       "0  0.000043           368   0.000023   10   \n",
       "1  0.000393           368   0.000086   10   \n",
       "2  0.000114           368   0.000013   10   \n",
       "3  0.000239           368   0.000020   10   \n",
       "4  0.000397           368   0.000035   10   \n",
       "\n",
       "                                    fct  max_exec  min_exec       name  \\\n",
       "0    linear_regression(X, y, algo=None)  0.000133  0.000026  lr_matrix   \n",
       "1  linear_regression(X, y, algo='gram')  0.000706  0.000317    lr_gram   \n",
       "2    linear_regression(X, y, algo='qr')  0.000140  0.000094      lr_qr   \n",
       "3                      gram_schmidt(Xt)  0.000261  0.000189       gram   \n",
       "4                         clr.fit(X, y)  0.000461  0.000347    sklearn   \n",
       "\n",
       "   number  repeat  size  \n",
       "0      20      20   100  \n",
       "1      20      20   100  \n",
       "2      20      20   100  \n",
       "3      20      20   100  \n",
       "4      20      20   100  "
      ]
     },
     "execution_count": 11,
     "metadata": {},
     "output_type": "execute_result"
    }
   ],
   "source": [
    "stmts = [dict(name='lr_matrix', fct=\"linear_regression(X, y, algo=None)\"),\n",
    "         dict(name='lr_gram', fct=\"linear_regression(X, y, algo='gram')\"),\n",
    "         dict(name='lr_qr', fct=\"linear_regression(X, y, algo='qr')\"),\n",
    "         dict(name='gram', fct=\"gram_schmidt(Xt)\"),\n",
    "         dict(name='sklearn', fct=\"clr.fit(X, y)\"),\n",
    "         dict(name='lstsq', fct=\"lstsq(X, y)\")]\n",
    "\n",
    "memo = []\n",
    "for size, dim in [(100, 10), (1000, 10), (10000, 10),\n",
    "                  (100, 20), (1000, 20), (10000, 20),\n",
    "                  (100, 50), (1000, 50)]:\n",
    "    print(size, dim)\n",
    "    X = rnd.randn(size, dim)\n",
    "    eps = rnd.randn(size, 1) / 3\n",
    "    y = X.sum(axis=1).reshape((X.shape[0], 1)) + eps\n",
    "    y = y.ravel()\n",
    "    context = dict(linear_regression=linear_regression, Xt=X.T,\n",
    "                   X=X, y=y, gram_schmidt=gram_schmidt, clr=clr,\n",
    "                   lstsq=lambda X, y: lstsq(X, y, rcond=None))\n",
    "    \n",
    "    for stmt in stmts:\n",
    "        res = measure_time(stmt['fct'], number=20, repeat=20, div_by_number=True, context=context)\n",
    "        res.update(stmt)\n",
    "        res['size'] = size\n",
    "        res['dim'] = dim\n",
    "        memo.append(res)\n",
    "\n",
    "import pandas\n",
    "df = pandas.DataFrame(memo)\n",
    "df.head()"
   ]
  },
  {
   "cell_type": "code",
   "execution_count": 12,
   "metadata": {},
   "outputs": [
    {
     "data": {
      "text/html": [
       "<div>\n",
       "<style scoped>\n",
       "    .dataframe tbody tr th:only-of-type {\n",
       "        vertical-align: middle;\n",
       "    }\n",
       "\n",
       "    .dataframe tbody tr th {\n",
       "        vertical-align: top;\n",
       "    }\n",
       "\n",
       "    .dataframe thead th {\n",
       "        text-align: right;\n",
       "    }\n",
       "</style>\n",
       "<table border=\"1\" class=\"dataframe\">\n",
       "  <thead>\n",
       "    <tr style=\"text-align: right;\">\n",
       "      <th></th>\n",
       "      <th>name</th>\n",
       "      <th>gram</th>\n",
       "      <th>lr_gram</th>\n",
       "      <th>lr_matrix</th>\n",
       "      <th>lr_qr</th>\n",
       "      <th>lstsq</th>\n",
       "      <th>sklearn</th>\n",
       "    </tr>\n",
       "    <tr>\n",
       "      <th>size</th>\n",
       "      <th>dim</th>\n",
       "      <th></th>\n",
       "      <th></th>\n",
       "      <th></th>\n",
       "      <th></th>\n",
       "      <th></th>\n",
       "      <th></th>\n",
       "    </tr>\n",
       "  </thead>\n",
       "  <tbody>\n",
       "    <tr>\n",
       "      <th rowspan=\"3\" valign=\"top\">100</th>\n",
       "      <th>10</th>\n",
       "      <td>0.000239</td>\n",
       "      <td>0.000393</td>\n",
       "      <td>0.000043</td>\n",
       "      <td>0.000114</td>\n",
       "      <td>0.000078</td>\n",
       "      <td>0.000397</td>\n",
       "    </tr>\n",
       "    <tr>\n",
       "      <th>20</th>\n",
       "      <td>0.000434</td>\n",
       "      <td>0.000756</td>\n",
       "      <td>0.000076</td>\n",
       "      <td>0.000139</td>\n",
       "      <td>0.000145</td>\n",
       "      <td>0.000447</td>\n",
       "    </tr>\n",
       "    <tr>\n",
       "      <th>50</th>\n",
       "      <td>0.001334</td>\n",
       "      <td>0.002270</td>\n",
       "      <td>0.000111</td>\n",
       "      <td>0.000296</td>\n",
       "      <td>0.000561</td>\n",
       "      <td>0.000842</td>\n",
       "    </tr>\n",
       "    <tr>\n",
       "      <th rowspan=\"3\" valign=\"top\">1000</th>\n",
       "      <th>10</th>\n",
       "      <td>0.000328</td>\n",
       "      <td>0.000506</td>\n",
       "      <td>0.000063</td>\n",
       "      <td>0.000168</td>\n",
       "      <td>0.000164</td>\n",
       "      <td>0.000551</td>\n",
       "    </tr>\n",
       "    <tr>\n",
       "      <th>20</th>\n",
       "      <td>0.000809</td>\n",
       "      <td>0.001194</td>\n",
       "      <td>0.000093</td>\n",
       "      <td>0.000331</td>\n",
       "      <td>0.000232</td>\n",
       "      <td>0.000676</td>\n",
       "    </tr>\n",
       "    <tr>\n",
       "      <th>50</th>\n",
       "      <td>0.003082</td>\n",
       "      <td>0.003990</td>\n",
       "      <td>0.000215</td>\n",
       "      <td>0.000939</td>\n",
       "      <td>0.000937</td>\n",
       "      <td>0.001500</td>\n",
       "    </tr>\n",
       "    <tr>\n",
       "      <th rowspan=\"2\" valign=\"top\">10000</th>\n",
       "      <th>10</th>\n",
       "      <td>0.001110</td>\n",
       "      <td>0.001327</td>\n",
       "      <td>0.000278</td>\n",
       "      <td>0.002265</td>\n",
       "      <td>0.000449</td>\n",
       "      <td>0.001550</td>\n",
       "    </tr>\n",
       "    <tr>\n",
       "      <th>20</th>\n",
       "      <td>0.009668</td>\n",
       "      <td>0.010536</td>\n",
       "      <td>0.000281</td>\n",
       "      <td>0.005739</td>\n",
       "      <td>0.002124</td>\n",
       "      <td>0.005675</td>\n",
       "    </tr>\n",
       "  </tbody>\n",
       "</table>\n",
       "</div>"
      ],
      "text/plain": [
       "name           gram   lr_gram  lr_matrix     lr_qr     lstsq   sklearn\n",
       "size  dim                                                             \n",
       "100   10   0.000239  0.000393   0.000043  0.000114  0.000078  0.000397\n",
       "      20   0.000434  0.000756   0.000076  0.000139  0.000145  0.000447\n",
       "      50   0.001334  0.002270   0.000111  0.000296  0.000561  0.000842\n",
       "1000  10   0.000328  0.000506   0.000063  0.000168  0.000164  0.000551\n",
       "      20   0.000809  0.001194   0.000093  0.000331  0.000232  0.000676\n",
       "      50   0.003082  0.003990   0.000215  0.000939  0.000937  0.001500\n",
       "10000 10   0.001110  0.001327   0.000278  0.002265  0.000449  0.001550\n",
       "      20   0.009668  0.010536   0.000281  0.005739  0.002124  0.005675"
      ]
     },
     "execution_count": 12,
     "metadata": {},
     "output_type": "execute_result"
    }
   ],
   "source": [
    "piv = pandas.pivot_table(df, index=['size', 'dim'], columns='name', values='average')\n",
    "piv"
   ]
  },
  {
   "cell_type": "code",
   "execution_count": 13,
   "metadata": {
    "scrolled": true
   },
   "outputs": [
    {
     "data": {
      "image/png": "[encoded data removed]",
      "text/plain": [
       "<Figure size 1008x288 with 2 Axes>"
      ]
     },
     "metadata": {
      "needs_background": "light"
     },
     "output_type": "display_data"
    }
   ],
   "source": [
    "import matplotlib.pyplot as plt\n",
    "fig, ax = plt.subplots(1, 2, figsize=(14,4))\n",
    "piv[:6].plot(kind=\"bar\", ax=ax[0])\n",
    "piv[6:].plot(kind=\"bar\", ax=ax[1])\n",
    "ax[0].set_title(\"Régression Linéaire, size < 10000\")\n",
    "ax[1].set_title(\"Régression Linéaire, size >= 10000\");"
   ]
  },
  {
   "cell_type": "markdown",
   "metadata": {},
   "source": [
    "## Streaming versions\n",
    "\n",
    "L'idée est différente ici puisqu'il s'agit de calculer toutes les régressions linéaires intermédiaires. Les algorithmes sont décrits par l'exposé [Régression linéaire par morceaux](find://l-reglin-piecewise-streaming)."
   ]
  },
  {
   "cell_type": "code",
   "execution_count": 48,
   "metadata": {},
   "outputs": [
    {
     "name": "stdout",
     "output_type": "stream",
     "text": [
      "100 10\n",
      "600 10\n",
      "1100 10\n",
      "1600 10\n",
      "2100 10\n",
      "2600 10\n",
      "3100 10\n"
     ]
    },
    {
     "data": {
      "text/html": [
       "<div>\n",
       "<style scoped>\n",
       "    .dataframe tbody tr th:only-of-type {\n",
       "        vertical-align: middle;\n",
       "    }\n",
       "\n",
       "    .dataframe tbody tr th {\n",
       "        vertical-align: top;\n",
       "    }\n",
       "\n",
       "    .dataframe thead th {\n",
       "        text-align: right;\n",
       "    }\n",
       "</style>\n",
       "<table border=\"1\" class=\"dataframe\">\n",
       "  <thead>\n",
       "    <tr style=\"text-align: right;\">\n",
       "      <th></th>\n",
       "      <th>average</th>\n",
       "      <th>context_size</th>\n",
       "      <th>deviation</th>\n",
       "      <th>dim</th>\n",
       "      <th>fct</th>\n",
       "      <th>max_exec</th>\n",
       "      <th>min_exec</th>\n",
       "      <th>name</th>\n",
       "      <th>number</th>\n",
       "      <th>repeat</th>\n",
       "      <th>size</th>\n",
       "    </tr>\n",
       "  </thead>\n",
       "  <tbody>\n",
       "    <tr>\n",
       "      <th>0</th>\n",
       "      <td>0.003108</td>\n",
       "      <td>368</td>\n",
       "      <td>0.000433</td>\n",
       "      <td>10</td>\n",
       "      <td>list(all_linear_regression(X, y))</td>\n",
       "      <td>0.003602</td>\n",
       "      <td>0.002449</td>\n",
       "      <td>lr_matrix</td>\n",
       "      <td>5</td>\n",
       "      <td>5</td>\n",
       "      <td>100</td>\n",
       "    </tr>\n",
       "    <tr>\n",
       "      <th>1</th>\n",
       "      <td>0.003103</td>\n",
       "      <td>368</td>\n",
       "      <td>0.000432</td>\n",
       "      <td>10</td>\n",
       "      <td>list(streaming_linear_regression(X, y))</td>\n",
       "      <td>0.003921</td>\n",
       "      <td>0.002749</td>\n",
       "      <td>lr_st_mat</td>\n",
       "      <td>5</td>\n",
       "      <td>5</td>\n",
       "      <td>100</td>\n",
       "    </tr>\n",
       "    <tr>\n",
       "      <th>2</th>\n",
       "      <td>0.048359</td>\n",
       "      <td>368</td>\n",
       "      <td>0.000000</td>\n",
       "      <td>10</td>\n",
       "      <td>list(streaming_linear_regression_gram_schmidt(...</td>\n",
       "      <td>0.048359</td>\n",
       "      <td>0.048359</td>\n",
       "      <td>lr_st_gram</td>\n",
       "      <td>1</td>\n",
       "      <td>1</td>\n",
       "      <td>100</td>\n",
       "    </tr>\n",
       "    <tr>\n",
       "      <th>3</th>\n",
       "      <td>0.019216</td>\n",
       "      <td>368</td>\n",
       "      <td>0.001044</td>\n",
       "      <td>10</td>\n",
       "      <td>list(all_linear_regression(X, y))</td>\n",
       "      <td>0.020197</td>\n",
       "      <td>0.017347</td>\n",
       "      <td>lr_matrix</td>\n",
       "      <td>5</td>\n",
       "      <td>5</td>\n",
       "      <td>600</td>\n",
       "    </tr>\n",
       "    <tr>\n",
       "      <th>4</th>\n",
       "      <td>0.019794</td>\n",
       "      <td>368</td>\n",
       "      <td>0.001421</td>\n",
       "      <td>10</td>\n",
       "      <td>list(streaming_linear_regression(X, y))</td>\n",
       "      <td>0.022027</td>\n",
       "      <td>0.017918</td>\n",
       "      <td>lr_st_mat</td>\n",
       "      <td>5</td>\n",
       "      <td>5</td>\n",
       "      <td>600</td>\n",
       "    </tr>\n",
       "  </tbody>\n",
       "</table>\n",
       "</div>"
      ],
      "text/plain": [
       "    average  context_size  deviation  dim  \\\n",
       "0  0.003108           368   0.000433   10   \n",
       "1  0.003103           368   0.000432   10   \n",
       "2  0.048359           368   0.000000   10   \n",
       "3  0.019216           368   0.001044   10   \n",
       "4  0.019794           368   0.001421   10   \n",
       "\n",
       "                                                 fct  max_exec  min_exec  \\\n",
       "0                  list(all_linear_regression(X, y))  0.003602  0.002449   \n",
       "1            list(streaming_linear_regression(X, y))  0.003921  0.002749   \n",
       "2  list(streaming_linear_regression_gram_schmidt(...  0.048359  0.048359   \n",
       "3                  list(all_linear_regression(X, y))  0.020197  0.017347   \n",
       "4            list(streaming_linear_regression(X, y))  0.022027  0.017918   \n",
       "\n",
       "         name  number  repeat  size  \n",
       "0   lr_matrix       5       5   100  \n",
       "1   lr_st_mat       5       5   100  \n",
       "2  lr_st_gram       1       1   100  \n",
       "3   lr_matrix       5       5   600  \n",
       "4   lr_st_mat       5       5   600  "
      ]
     },
     "execution_count": 48,
     "metadata": {},
     "output_type": "execute_result"
    }
   ],
   "source": [
    "from mlstatpy.ml.matrices import streaming_linear_regression, streaming_linear_regression_gram_schmidt\n",
    "\n",
    "def all_linear_regression(X, y):\n",
    "    for i in range(X.shape[1], X.shape[0]):\n",
    "        yield linear_regression(X[:i], y[:i])\n",
    "\n",
    "stmts = [dict(name='lr_matrix', fct=\"list(all_linear_regression(X, y))\"),\n",
    "         dict(name='lr_st_mat', fct=\"list(streaming_linear_regression(X, y))\"),\n",
    "         dict(name='lr_st_gram', fct=\"list(streaming_linear_regression_gram_schmidt(X, y))\"),\n",
    "        ]\n",
    "\n",
    "memo = []\n",
    "for dim in (10, ):\n",
    "    for size in range(100, 3500, 500):\n",
    "        print(size, dim)\n",
    "        X = rnd.randn(size, dim)\n",
    "        eps = rnd.randn(size, 1) / 3\n",
    "        y = X.sum(axis=1).reshape((X.shape[0], 1)) + eps\n",
    "        y = y.ravel()\n",
    "        context = dict(X=X, y=y,\n",
    "                       all_linear_regression=all_linear_regression,\n",
    "                       streaming_linear_regression=streaming_linear_regression,\n",
    "                       streaming_linear_regression_gram_schmidt=streaming_linear_regression_gram_schmidt)\n",
    "\n",
    "        for stmt in stmts:\n",
    "            if \"gram\" in stmt['name']:\n",
    "                nn = 1\n",
    "                if size >= 1000:\n",
    "                    continue\n",
    "            else:\n",
    "                nn = 5\n",
    "            res = measure_time(stmt['fct'], number=nn, repeat=nn, div_by_number=True, context=context)\n",
    "            res.update(stmt)\n",
    "            res['size'] = size\n",
    "            res['dim'] = dim\n",
    "            memo.append(res)\n",
    "\n",
    "import pandas\n",
    "df = pandas.DataFrame(memo)\n",
    "df.head()"
   ]
  },
  {
   "cell_type": "code",
   "execution_count": 49,
   "metadata": {},
   "outputs": [
    {
     "data": {
      "text/html": [
       "<div>\n",
       "<style scoped>\n",
       "    .dataframe tbody tr th:only-of-type {\n",
       "        vertical-align: middle;\n",
       "    }\n",
       "\n",
       "    .dataframe tbody tr th {\n",
       "        vertical-align: top;\n",
       "    }\n",
       "\n",
       "    .dataframe thead th {\n",
       "        text-align: right;\n",
       "    }\n",
       "</style>\n",
       "<table border=\"1\" class=\"dataframe\">\n",
       "  <thead>\n",
       "    <tr style=\"text-align: right;\">\n",
       "      <th></th>\n",
       "      <th>name</th>\n",
       "      <th>lr_matrix</th>\n",
       "      <th>lr_st_gram</th>\n",
       "      <th>lr_st_mat</th>\n",
       "    </tr>\n",
       "    <tr>\n",
       "      <th>size</th>\n",
       "      <th>dim</th>\n",
       "      <th></th>\n",
       "      <th></th>\n",
       "      <th></th>\n",
       "    </tr>\n",
       "  </thead>\n",
       "  <tbody>\n",
       "    <tr>\n",
       "      <th>100</th>\n",
       "      <th>10</th>\n",
       "      <td>0.003108</td>\n",
       "      <td>0.048359</td>\n",
       "      <td>0.003103</td>\n",
       "    </tr>\n",
       "    <tr>\n",
       "      <th>600</th>\n",
       "      <th>10</th>\n",
       "      <td>0.019216</td>\n",
       "      <td>0.322083</td>\n",
       "      <td>0.019794</td>\n",
       "    </tr>\n",
       "    <tr>\n",
       "      <th>1100</th>\n",
       "      <th>10</th>\n",
       "      <td>0.038827</td>\n",
       "      <td>NaN</td>\n",
       "      <td>0.032701</td>\n",
       "    </tr>\n",
       "    <tr>\n",
       "      <th>1600</th>\n",
       "      <th>10</th>\n",
       "      <td>0.069561</td>\n",
       "      <td>NaN</td>\n",
       "      <td>0.056168</td>\n",
       "    </tr>\n",
       "    <tr>\n",
       "      <th>2100</th>\n",
       "      <th>10</th>\n",
       "      <td>0.102831</td>\n",
       "      <td>NaN</td>\n",
       "      <td>0.071988</td>\n",
       "    </tr>\n",
       "    <tr>\n",
       "      <th>2600</th>\n",
       "      <th>10</th>\n",
       "      <td>0.145529</td>\n",
       "      <td>NaN</td>\n",
       "      <td>0.110444</td>\n",
       "    </tr>\n",
       "    <tr>\n",
       "      <th>3100</th>\n",
       "      <th>10</th>\n",
       "      <td>0.195744</td>\n",
       "      <td>NaN</td>\n",
       "      <td>0.115468</td>\n",
       "    </tr>\n",
       "  </tbody>\n",
       "</table>\n",
       "</div>"
      ],
      "text/plain": [
       "name      lr_matrix  lr_st_gram  lr_st_mat\n",
       "size dim                                  \n",
       "100  10    0.003108    0.048359   0.003103\n",
       "600  10    0.019216    0.322083   0.019794\n",
       "1100 10    0.038827         NaN   0.032701\n",
       "1600 10    0.069561         NaN   0.056168\n",
       "2100 10    0.102831         NaN   0.071988\n",
       "2600 10    0.145529         NaN   0.110444\n",
       "3100 10    0.195744         NaN   0.115468"
      ]
     },
     "execution_count": 49,
     "metadata": {},
     "output_type": "execute_result"
    }
   ],
   "source": [
    "piv = pandas.pivot_table(df, index=['size', 'dim'], columns='name', values='average')\n",
    "piv"
   ]
  },
  {
   "cell_type": "code",
   "execution_count": 50,
   "metadata": {},
   "outputs": [
    {
     "data": {
      "image/png": "[encoded data removed]",
      "text/plain": [
       "<Figure size 1008x288 with 2 Axes>"
      ]
     },
     "metadata": {
      "needs_background": "light"
     },
     "output_type": "display_data"
    }
   ],
   "source": [
    "fig, ax = plt.subplots(1, 2, figsize=(14,4))\n",
    "piv[[\"lr_matrix\", \"lr_st_mat\"]].plot(ax=ax[0])\n",
    "piv.plot(ax=ax[1])\n",
    "ax[0].set_title(\"Régression Linéaire streaming (all)\")\n",
    "ax[1].set_title(\"Régression Linéaire no Gram-Schmidt\");"
   ]
  },
  {
   "cell_type": "markdown",
   "metadata": {},
   "source": [
    "La version streaming devient plus intéressante à partir de 1000 observations, le coût en linéaire en *N* contrairement à la version classique qui est en $N^2$. La version Gram-Schmidt devrait être réécrite en C++ pour proposer des temps comparables."
   ]
  },
  {
   "cell_type": "code",
   "execution_count": null,
   "metadata": {},
   "outputs": [],
   "source": []
  }
 ],
 "metadata": {
  "kernelspec": {
   "display_name": "Python 3",
   "language": "python",
   "name": "python3"
  },
  "language_info": {
   "codemirror_mode": {
    "name": "ipython",
    "version": 3
   },
   "file_extension": ".py",
   "mimetype": "text/x-python",
   "name": "python",
   "nbconvert_exporter": "python",
   "pygments_lexer": "ipython3",
   "version": "3.7.2"
  }
 },
 "nbformat": 4,
 "nbformat_minor": 2
}
