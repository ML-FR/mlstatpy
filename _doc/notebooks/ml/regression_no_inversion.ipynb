{
  "cells": [
    {
      "cell_type": "markdown",
      "metadata": {},
      "source": [
        "# R\u00e9gression sans inversion\n",
        "\n",
        "Ce notebook mesure le temps de calcul dans deux algorithmes pour r\u00e9soudre une r\u00e9gression lin\u00e9aire, le premier inverse un matrice, le second le fait sans inverser une matrice, le troisi\u00e8me reprend l'id\u00e9e du second mais utilise une d\u00e9composition [QR](https://fr.wikipedia.org/wiki/D%C3%A9composition_QR) puis inverse la matrice *R*."
      ]
    },
    {
      "cell_type": "code",
      "execution_count": 1,
      "metadata": {},
      "outputs": [],
      "source": [
        "%matplotlib inline"
      ]
    },
    {
      "cell_type": "code",
      "execution_count": 2,
      "metadata": {},
      "outputs": [
        {
          "data": {
            "text/plain": [
              "((1000, 7), (1000, 1), (1000, 1))"
            ]
          },
          "execution_count": 3,
          "metadata": {},
          "output_type": "execute_result"
        }
      ],
      "source": [
        "import numpy.random as rnd\n",
        "X = rnd.randn(1000, 7)\n",
        "eps = rnd.randn(1000, 1) / 3\n",
        "y = X.sum(axis=1).reshape((X.shape[0], 1)) + eps\n",
        "X.shape, y.shape, eps.shape"
      ]
    },
    {
      "cell_type": "code",
      "execution_count": 3,
      "metadata": {},
      "outputs": [
        {
          "data": {
            "text/plain": [
              "(array([[1.01590078],\n",
              "        [1.01155035],\n",
              "        [1.01325728],\n",
              "        [1.00008508],\n",
              "        [0.99627926],\n",
              "        [0.98079268],\n",
              "        [0.99102198]]),\n",
              " array([1.01590078, 1.01155035, 1.01325728, 1.00008508, 0.99627926,\n",
              "        0.98079268, 0.99102198]))"
            ]
          },
          "execution_count": 4,
          "metadata": {},
          "output_type": "execute_result"
        }
      ],
      "source": [
        "from mlstatpy.ml.matrices import linear_regression, gram_schmidt\n",
        "beta1 = linear_regression(X, y, algo=None)\n",
        "beta2 = linear_regression(X, y, algo=\"gram\")\n",
        "beta1, beta2"
      ]
    },
    {
      "cell_type": "code",
      "execution_count": 4,
      "metadata": {},
      "outputs": [
        {
          "name": "stdout",
          "output_type": "stream",
          "text": [
            "35.2 \u00b5s \u00b1 972 ns per loop (mean \u00b1 std. dev. of 7 runs, 10000 loops each)\n"
          ]
        }
      ],
      "source": [
        "%timeit linear_regression(X, y, algo=None)"
      ]
    },
    {
      "cell_type": "code",
      "execution_count": 5,
      "metadata": {},
      "outputs": [
        {
          "name": "stdout",
          "output_type": "stream",
          "text": [
            "302 \u00b5s \u00b1 16.3 \u00b5s per loop (mean \u00b1 std. dev. of 7 runs, 1000 loops each)\n"
          ]
        }
      ],
      "source": [
        "%timeit linear_regression(X, y, algo=\"gram\")"
      ]
    },
    {
      "cell_type": "code",
      "execution_count": 6,
      "metadata": {},
      "outputs": [
        {
          "name": "stdout",
          "output_type": "stream",
          "text": [
            "132 \u00b5s \u00b1 753 ns per loop (mean \u00b1 std. dev. of 7 runs, 10000 loops each)\n"
          ]
        }
      ],
      "source": [
        "%timeit linear_regression(X, y, algo=\"qr\")"
      ]
    },
    {
      "cell_type": "code",
      "execution_count": 7,
      "metadata": {},
      "outputs": [
        {
          "name": "stdout",
          "output_type": "stream",
          "text": [
            "202 \u00b5s \u00b1 9.91 \u00b5s per loop (mean \u00b1 std. dev. of 7 runs, 1000 loops each)\n"
          ]
        }
      ],
      "source": [
        "Xt = X.T\n",
        "%timeit gram_schmidt(Xt)"
      ]
    },
    {
      "cell_type": "markdown",
      "metadata": {},
      "source": [
        "Un exemple avec [scikit-learn](https://scikit-learn.org/stable/modules/generated/sklearn.linear_model.LinearRegression.html)."
      ]
    },
    {
      "cell_type": "code",
      "execution_count": 8,
      "metadata": {},
      "outputs": [
        {
          "name": "stdout",
          "output_type": "stream",
          "text": [
            "415 \u00b5s \u00b1 9.41 \u00b5s per loop (mean \u00b1 std. dev. of 7 runs, 1000 loops each)\n"
          ]
        }
      ],
      "source": [
        "from sklearn.linear_model import LinearRegression\n",
        "clr = LinearRegression()\n",
        "%timeit clr.fit(X, y)"
      ]
    },
    {
      "cell_type": "markdown",
      "metadata": {},
      "source": [
        "Qui utilise la fonction [lstsq](https://docs.scipy.org/doc/numpy/reference/generated/numpy.linalg.lstsq.html?highlight=lstsq):"
      ]
    },
    {
      "cell_type": "code",
      "execution_count": 9,
      "metadata": {},
      "outputs": [
        {
          "name": "stdout",
          "output_type": "stream",
          "text": [
            "969 \u00b5s \u00b1 50.4 \u00b5s per loop (mean \u00b1 std. dev. of 7 runs, 1000 loops each)\n"
          ]
        }
      ],
      "source": [
        "from numpy.linalg import lstsq\n",
        "%timeit lstsq(X, y, rcond=None)"
      ]
    },
    {
      "cell_type": "markdown",
      "metadata": {},
      "source": [
        "Il serait sans doute possible d'optimiser les calculs en r\u00e9duisant le nombre de copie et de transpos\u00e9es. La version utilisant une d\u00e9composition [QR](https://fr.wikipedia.org/wiki/D%C3%A9composition_QR) est assez rapide. Le code est l\u00e0 [matrices.py](https://github.com/sdpython/mlstatpy/blob/master/src/mlstatpy/ml/matrices.py). Pour d\u00e9passer [numpy](https://www.numpy.org/), il faut passer au C++. *scikit-learn* ajoute des \u00e9tapes interm\u00e9diaires pour v\u00e9rifier les donn\u00e9es ce qui explique la longueur. On r\u00e9sume le tout par un graphique."
      ]
    },
    {
      "cell_type": "code",
      "execution_count": 10,
      "metadata": {},
      "outputs": [],
      "source": [
        "from cpyquickhelper.numbers import measure_time"
      ]
    },
    {
      "cell_type": "code",
      "execution_count": 11,
      "metadata": {},
      "outputs": [
        {
          "name": "stdout",
          "output_type": "stream",
          "text": [
            "100 10\n",
            "1000 10\n",
            "10000 10\n",
            "100 20\n",
            "1000 20\n",
            "10000 20\n",
            "100 50\n",
            "1000 50\n"
          ]
        },
        {
          "data": {
            "text/html": [
              "<div>\n",
              "<style scoped>\n",
              "    .dataframe tbody tr th:only-of-type {\n",
              "        vertical-align: middle;\n",
              "    }\n",
              "\n",
              "    .dataframe tbody tr th {\n",
              "        vertical-align: top;\n",
              "    }\n",
              "\n",
              "    .dataframe thead th {\n",
              "        text-align: right;\n",
              "    }\n",
              "</style>\n",
              "<table border=\"1\" class=\"dataframe\">\n",
              "  <thead>\n",
              "    <tr style=\"text-align: right;\">\n",
              "      <th></th>\n",
              "      <th>average</th>\n",
              "      <th>context_size</th>\n",
              "      <th>deviation</th>\n",
              "      <th>dim</th>\n",
              "      <th>fct</th>\n",
              "      <th>max_exec</th>\n",
              "      <th>min_exec</th>\n",
              "      <th>name</th>\n",
              "      <th>number</th>\n",
              "      <th>repeat</th>\n",
              "      <th>size</th>\n",
              "    </tr>\n",
              "  </thead>\n",
              "  <tbody>\n",
              "    <tr>\n",
              "      <th>0</th>\n",
              "      <td>0.000046</td>\n",
              "      <td>368</td>\n",
              "      <td>0.000007</td>\n",
              "      <td>10</td>\n",
              "      <td>linear_regression(X, y, algo=None)</td>\n",
              "      <td>0.000056</td>\n",
              "      <td>0.000032</td>\n",
              "      <td>lr_matrix</td>\n",
              "      <td>20</td>\n",
              "      <td>20</td>\n",
              "      <td>100</td>\n",
              "    </tr>\n",
              "    <tr>\n",
              "      <th>1</th>\n",
              "      <td>0.000483</td>\n",
              "      <td>368</td>\n",
              "      <td>0.000268</td>\n",
              "      <td>10</td>\n",
              "      <td>linear_regression(X, y, algo='gram')</td>\n",
              "      <td>0.001335</td>\n",
              "      <td>0.000325</td>\n",
              "      <td>lr_gram</td>\n",
              "      <td>20</td>\n",
              "      <td>20</td>\n",
              "      <td>100</td>\n",
              "    </tr>\n",
              "    <tr>\n",
              "      <th>2</th>\n",
              "      <td>0.000101</td>\n",
              "      <td>368</td>\n",
              "      <td>0.000007</td>\n",
              "      <td>10</td>\n",
              "      <td>linear_regression(X, y, algo='qr')</td>\n",
              "      <td>0.000118</td>\n",
              "      <td>0.000095</td>\n",
              "      <td>lr_qr</td>\n",
              "      <td>20</td>\n",
              "      <td>20</td>\n",
              "      <td>100</td>\n",
              "    </tr>\n",
              "    <tr>\n",
              "      <th>3</th>\n",
              "      <td>0.000221</td>\n",
              "      <td>368</td>\n",
              "      <td>0.000031</td>\n",
              "      <td>10</td>\n",
              "      <td>gram_schmidt(Xt)</td>\n",
              "      <td>0.000330</td>\n",
              "      <td>0.000205</td>\n",
              "      <td>gram</td>\n",
              "      <td>20</td>\n",
              "      <td>20</td>\n",
              "      <td>100</td>\n",
              "    </tr>\n",
              "    <tr>\n",
              "      <th>4</th>\n",
              "      <td>0.000507</td>\n",
              "      <td>368</td>\n",
              "      <td>0.000106</td>\n",
              "      <td>10</td>\n",
              "      <td>clr.fit(X, y)</td>\n",
              "      <td>0.000722</td>\n",
              "      <td>0.000359</td>\n",
              "      <td>sklearn</td>\n",
              "      <td>20</td>\n",
              "      <td>20</td>\n",
              "      <td>100</td>\n",
              "    </tr>\n",
              "  </tbody>\n",
              "</table>\n",
              "</div>"
            ],
            "text/plain": [
              "    average  context_size  deviation  dim  \\\n",
              "0  0.000046           368   0.000007   10   \n",
              "1  0.000483           368   0.000268   10   \n",
              "2  0.000101           368   0.000007   10   \n",
              "3  0.000221           368   0.000031   10   \n",
              "4  0.000507           368   0.000106   10   \n",
              "\n",
              "                                    fct  max_exec  min_exec       name  \\\n",
              "0    linear_regression(X, y, algo=None)  0.000056  0.000032  lr_matrix   \n",
              "1  linear_regression(X, y, algo='gram')  0.001335  0.000325    lr_gram   \n",
              "2    linear_regression(X, y, algo='qr')  0.000118  0.000095      lr_qr   \n",
              "3                      gram_schmidt(Xt)  0.000330  0.000205       gram   \n",
              "4                         clr.fit(X, y)  0.000722  0.000359    sklearn   \n",
              "\n",
              "   number  repeat  size  \n",
              "0      20      20   100  \n",
              "1      20      20   100  \n",
              "2      20      20   100  \n",
              "3      20      20   100  \n",
              "4      20      20   100  "
            ]
          },
          "execution_count": 12,
          "metadata": {},
          "output_type": "execute_result"
        }
      ],
      "source": [
        "stmts = [dict(name='lr_matrix', fct=\"linear_regression(X, y, algo=None)\"),\n",
        "         dict(name='lr_gram', fct=\"linear_regression(X, y, algo='gram')\"),\n",
        "         dict(name='lr_qr', fct=\"linear_regression(X, y, algo='qr')\"),\n",
        "         dict(name='gram', fct=\"gram_schmidt(Xt)\"),\n",
        "         dict(name='sklearn', fct=\"clr.fit(X, y)\"),\n",
        "         dict(name='lstsq', fct=\"lstsq(X, y)\")]\n",
        "\n",
        "memo = []\n",
        "for size, dim in [(100, 10), (1000, 10), (10000, 10),\n",
        "                  (100, 20), (1000, 20), (10000, 20),\n",
        "                  (100, 50), (1000, 50)]:\n",
        "    print(size, dim)\n",
        "    X = rnd.randn(size, dim)\n",
        "    eps = rnd.randn(size, 1) / 3\n",
        "    y = X.sum(axis=1).reshape((X.shape[0], 1)) + eps\n",
        "    context = dict(linear_regression=linear_regression, Xt=X.T,\n",
        "                   X=X, y=y, gram_schmidt=gram_schmidt, clr=clr,\n",
        "                   lstsq=lambda X, y: lstsq(X, y, rcond=None))\n",
        "    \n",
        "    for stmt in stmts:\n",
        "        res = measure_time(stmt['fct'], number=20, repeat=20, div_by_number=True, context=context)\n",
        "        res.update(stmt)\n",
        "        res['size'] = size\n",
        "        res['dim'] = dim\n",
        "        memo.append(res)\n",
        "\n",
        "import pandas\n",
        "df = pandas.DataFrame(memo)\n",
        "df.head()"
      ]
    },
    {
      "cell_type": "code",
      "execution_count": 12,
      "metadata": {},
      "outputs": [
        {
          "data": {
            "text/html": [
              "<div>\n",
              "<style scoped>\n",
              "    .dataframe tbody tr th:only-of-type {\n",
              "        vertical-align: middle;\n",
              "    }\n",
              "\n",
              "    .dataframe tbody tr th {\n",
              "        vertical-align: top;\n",
              "    }\n",
              "\n",
              "    .dataframe thead th {\n",
              "        text-align: right;\n",
              "    }\n",
              "</style>\n",
              "<table border=\"1\" class=\"dataframe\">\n",
              "  <thead>\n",
              "    <tr style=\"text-align: right;\">\n",
              "      <th></th>\n",
              "      <th>name</th>\n",
              "      <th>gram</th>\n",
              "      <th>lr_gram</th>\n",
              "      <th>lr_matrix</th>\n",
              "      <th>lr_qr</th>\n",
              "      <th>lstsq</th>\n",
              "      <th>sklearn</th>\n",
              "    </tr>\n",
              "    <tr>\n",
              "      <th>size</th>\n",
              "      <th>dim</th>\n",
              "      <th></th>\n",
              "      <th></th>\n",
              "      <th></th>\n",
              "      <th></th>\n",
              "      <th></th>\n",
              "      <th></th>\n",
              "    </tr>\n",
              "  </thead>\n",
              "  <tbody>\n",
              "    <tr>\n",
              "      <th rowspan=\"3\" valign=\"top\">100</th>\n",
              "      <th>10</th>\n",
              "      <td>0.000221</td>\n",
              "      <td>0.000483</td>\n",
              "      <td>0.000046</td>\n",
              "      <td>0.000101</td>\n",
              "      <td>0.000080</td>\n",
              "      <td>0.000507</td>\n",
              "    </tr>\n",
              "    <tr>\n",
              "      <th>20</th>\n",
              "      <td>0.000614</td>\n",
              "      <td>0.000930</td>\n",
              "      <td>0.000055</td>\n",
              "      <td>0.000163</td>\n",
              "      <td>0.000142</td>\n",
              "      <td>0.000498</td>\n",
              "    </tr>\n",
              "    <tr>\n",
              "      <th>50</th>\n",
              "      <td>0.001671</td>\n",
              "      <td>0.002652</td>\n",
              "      <td>0.000102</td>\n",
              "      <td>0.000349</td>\n",
              "      <td>0.000850</td>\n",
              "      <td>0.001020</td>\n",
              "    </tr>\n",
              "    <tr>\n",
              "      <th rowspan=\"3\" valign=\"top\">1000</th>\n",
              "      <th>10</th>\n",
              "      <td>0.000390</td>\n",
              "      <td>0.000633</td>\n",
              "      <td>0.000057</td>\n",
              "      <td>0.000203</td>\n",
              "      <td>0.000146</td>\n",
              "      <td>0.000717</td>\n",
              "    </tr>\n",
              "    <tr>\n",
              "      <th>20</th>\n",
              "      <td>0.001040</td>\n",
              "      <td>0.001397</td>\n",
              "      <td>0.000093</td>\n",
              "      <td>0.000381</td>\n",
              "      <td>0.000311</td>\n",
              "      <td>0.000784</td>\n",
              "    </tr>\n",
              "    <tr>\n",
              "      <th>50</th>\n",
              "      <td>0.003278</td>\n",
              "      <td>0.004660</td>\n",
              "      <td>0.000384</td>\n",
              "      <td>0.000948</td>\n",
              "      <td>0.000971</td>\n",
              "      <td>0.001533</td>\n",
              "    </tr>\n",
              "    <tr>\n",
              "      <th rowspan=\"2\" valign=\"top\">10000</th>\n",
              "      <th>10</th>\n",
              "      <td>0.001468</td>\n",
              "      <td>0.001582</td>\n",
              "      <td>0.000248</td>\n",
              "      <td>0.002149</td>\n",
              "      <td>0.000596</td>\n",
              "      <td>0.001918</td>\n",
              "    </tr>\n",
              "    <tr>\n",
              "      <th>20</th>\n",
              "      <td>0.011930</td>\n",
              "      <td>0.012635</td>\n",
              "      <td>0.000312</td>\n",
              "      <td>0.006508</td>\n",
              "      <td>0.002522</td>\n",
              "      <td>0.006156</td>\n",
              "    </tr>\n",
              "  </tbody>\n",
              "</table>\n",
              "</div>"
            ],
            "text/plain": [
              "name           gram   lr_gram  lr_matrix     lr_qr     lstsq   sklearn\n",
              "size  dim                                                             \n",
              "100   10   0.000221  0.000483   0.000046  0.000101  0.000080  0.000507\n",
              "      20   0.000614  0.000930   0.000055  0.000163  0.000142  0.000498\n",
              "      50   0.001671  0.002652   0.000102  0.000349  0.000850  0.001020\n",
              "1000  10   0.000390  0.000633   0.000057  0.000203  0.000146  0.000717\n",
              "      20   0.001040  0.001397   0.000093  0.000381  0.000311  0.000784\n",
              "      50   0.003278  0.004660   0.000384  0.000948  0.000971  0.001533\n",
              "10000 10   0.001468  0.001582   0.000248  0.002149  0.000596  0.001918\n",
              "      20   0.011930  0.012635   0.000312  0.006508  0.002522  0.006156"
            ]
          },
          "execution_count": 13,
          "metadata": {},
          "output_type": "execute_result"
        }
      ],
      "source": [
        "piv = pandas.pivot_table(df, index=['size', 'dim'], columns='name', values='average')\n",
        "piv"
      ]
    },
    {
      "cell_type": "code",
      "execution_count": 13,
      "metadata": {
        "scrolled": true
      },
      "outputs": [
        {
          "data": {
            "image/png": "[encoded data removed]",
            "text/plain": [
              "<Figure size 1008x288 with 2 Axes>"
            ]
          },
          "metadata": {
            "needs_background": "light"
          },
          "output_type": "display_data"
        }
      ],
      "source": [
        "import matplotlib.pyplot as plt\n",
        "fig, ax = plt.subplots(1, 2, figsize=(14,4))\n",
        "piv[:6].plot(kind=\"bar\", ax=ax[0])\n",
        "piv[6:].plot(kind=\"bar\", ax=ax[1])\n",
        "ax[0].set_title(\"R\u00e9gression Lin\u00e9aire, size < 10000\")\n",
        "ax[1].set_title(\"R\u00e9gression Lin\u00e9aire, size >= 10000\");"
      ]
    },
    {
      "cell_type": "code",
      "execution_count": 14,
      "metadata": {},
      "outputs": [],
      "source": []
    },
    {
      "cell_type": "code",
      "execution_count": 15,
      "metadata": {},
      "outputs": [],
      "source": []
    }
  ],
  "metadata": {
    "kernelspec": {
      "display_name": "Python 3",
      "language": "python",
      "name": "python3"
    },
    "language_info": {
      "codemirror_mode": {
        "name": "ipython",
        "version": 3
      },
      "file_extension": ".py",
      "mimetype": "text/x-python",
      "name": "python",
      "nbconvert_exporter": "python",
      "pygments_lexer": "ipython3",
      "version": "3.7.2"
    }
  },
  "nbformat": 4,
  "nbformat_minor": 2
}