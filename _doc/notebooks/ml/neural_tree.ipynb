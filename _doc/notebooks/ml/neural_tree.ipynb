{
  "cells": [
    {
      "cell_type": "markdown",
      "metadata": {},
      "source": [
        "# Un arbre de d\u00e9cision en r\u00e9seaux de neurones\n",
        "\n",
        "L'id\u00e9e est de convertir sous la forme d'un r\u00e9seaux de neurones un arbre de d\u00e9cision puis de continuer l'apprentissage de fa\u00e7on \u00e0 obtenir un assemblage de r\u00e9gression logistique plut\u00f4t que de d\u00e9cision binaire."
      ]
    },
    {
      "cell_type": "code",
      "execution_count": 1,
      "metadata": {},
      "outputs": [
        {
          "data": {
            "text/html": [
              "<div id=\"my_id_menu_nb\">run previous cell, wait for 2 seconds</div>\n",
              "<script>\n",
              "function repeat_indent_string(n){\n",
              "    var a = \"\" ;\n",
              "    for ( ; n > 0 ; --n)\n",
              "        a += \"    \";\n",
              "    return a;\n",
              "}\n",
              "// look up into all sections and builds an automated menu //\n",
              "var update_menu_string = function(begin, lfirst, llast, sformat, send, keep_item, begin_format, end_format) {\n",
              "    var anchors = document.getElementsByClassName(\"section\");\n",
              "    if (anchors.length == 0) {\n",
              "        anchors = document.getElementsByClassName(\"text_cell_render rendered_html\");\n",
              "    }\n",
              "    var i,t;\n",
              "    var text_menu = begin;\n",
              "    var text_memo = \"<pre>\\nlength:\" + anchors.length + \"\\n\";\n",
              "    var ind = \"\";\n",
              "    var memo_level = 1;\n",
              "    var href;\n",
              "    var tags = [];\n",
              "    var main_item = 0;\n",
              "    var format_open = 0;\n",
              "    for (i = 0; i <= llast; i++)\n",
              "        tags.push(\"h\" + i);\n",
              "\n",
              "    for (i = 0; i < anchors.length; i++) {\n",
              "        text_memo += \"**\" + anchors[i].id + \"--\\n\";\n",
              "\n",
              "        var child = null;\n",
              "        for(t = 0; t < tags.length; t++) {\n",
              "            var r = anchors[i].getElementsByTagName(tags[t]);\n",
              "            if (r.length > 0) {\n",
              "child = r[0];\n",
              "break;\n",
              "            }\n",
              "        }\n",
              "        if (child == null) {\n",
              "            text_memo += \"null\\n\";\n",
              "            continue;\n",
              "        }\n",
              "        if (anchors[i].hasAttribute(\"id\")) {\n",
              "            // when converted in RST\n",
              "            href = anchors[i].id;\n",
              "            text_memo += \"#1-\" + href;\n",
              "            // passer \u00e0 child suivant (le chercher)\n",
              "        }\n",
              "        else if (child.hasAttribute(\"id\")) {\n",
              "            // in a notebook\n",
              "            href = child.id;\n",
              "            text_memo += \"#2-\" + href;\n",
              "        }\n",
              "        else {\n",
              "            text_memo += \"#3-\" + \"*\" + \"\\n\";\n",
              "            continue;\n",
              "        }\n",
              "        var title = child.textContent;\n",
              "        var level = parseInt(child.tagName.substring(1,2));\n",
              "\n",
              "        text_memo += \"--\" + level + \"?\" + lfirst + \"--\" + title + \"\\n\";\n",
              "\n",
              "        if ((level < lfirst) || (level > llast)) {\n",
              "            continue ;\n",
              "        }\n",
              "        if (title.endsWith('\u00b6')) {\n",
              "            title = title.substring(0,title.length-1).replace(\"<\", \"&lt;\")\n",
              "         .replace(\">\", \"&gt;\").replace(\"&\", \"&amp;\");\n",
              "        }\n",
              "        if (title.length == 0) {\n",
              "            continue;\n",
              "        }\n",
              "\n",
              "        while (level < memo_level) {\n",
              "            text_menu += end_format + \"</ul>\\n\";\n",
              "            format_open -= 1;\n",
              "            memo_level -= 1;\n",
              "        }\n",
              "        if (level == lfirst) {\n",
              "            main_item += 1;\n",
              "        }\n",
              "        if (keep_item != -1 && main_item != keep_item + 1) {\n",
              "            // alert(main_item + \" - \" + level + \" - \" + keep_item);\n",
              "            continue;\n",
              "        }\n",
              "        while (level > memo_level) {\n",
              "            text_menu += \"<ul>\\n\";\n",
              "            memo_level += 1;\n",
              "        }\n",
              "        text_menu += repeat_indent_string(level-2);\n",
              "        text_menu += begin_format + sformat.replace(\"__HREF__\", href).replace(\"__TITLE__\", title);\n",
              "        format_open += 1;\n",
              "    }\n",
              "    while (1 < memo_level) {\n",
              "        text_menu += end_format + \"</ul>\\n\";\n",
              "        memo_level -= 1;\n",
              "        format_open -= 1;\n",
              "    }\n",
              "    text_menu += send;\n",
              "    //text_menu += \"\\n\" + text_memo;\n",
              "\n",
              "    while (format_open > 0) {\n",
              "        text_menu += end_format;\n",
              "        format_open -= 1;\n",
              "    }\n",
              "    return text_menu;\n",
              "};\n",
              "var update_menu = function() {\n",
              "    var sbegin = \"\";\n",
              "    var sformat = '<a href=\"#__HREF__\">__TITLE__</a>';\n",
              "    var send = \"\";\n",
              "    var begin_format = '<li>';\n",
              "    var end_format = '</li>';\n",
              "    var keep_item = -1;\n",
              "    var text_menu = update_menu_string(sbegin, 2, 4, sformat, send, keep_item,\n",
              "       begin_format, end_format);\n",
              "    var menu = document.getElementById(\"my_id_menu_nb\");\n",
              "    menu.innerHTML=text_menu;\n",
              "};\n",
              "window.setTimeout(update_menu,2000);\n",
              "            </script>"
            ],
            "text/plain": [
              "<IPython.core.display.HTML object>"
            ]
          },
          "execution_count": 2,
          "metadata": {},
          "output_type": "execute_result"
        }
      ],
      "source": [
        "from jyquickhelper import add_notebook_menu\n",
        "add_notebook_menu()"
      ]
    },
    {
      "cell_type": "code",
      "execution_count": 2,
      "metadata": {},
      "outputs": [],
      "source": [
        "%matplotlib inline\n",
        "from jyquickhelper import RenderJsDot"
      ]
    },
    {
      "cell_type": "markdown",
      "metadata": {},
      "source": [
        "## Un exemple sur Iris\n",
        "\n",
        "La m\u00e9thode ne marche sur un probl\u00e8me de classification binaire."
      ]
    },
    {
      "cell_type": "code",
      "execution_count": 3,
      "metadata": {},
      "outputs": [],
      "source": [
        "from sklearn.datasets import load_iris\n",
        "data = load_iris()\n",
        "X, y = data.data[:, :2], data.target\n",
        "y = y % 2"
      ]
    },
    {
      "cell_type": "code",
      "execution_count": 4,
      "metadata": {},
      "outputs": [],
      "source": [
        "from sklearn.model_selection import train_test_split\n",
        "X_train, X_test, y_train, y_test = train_test_split(X, y, random_state=11)"
      ]
    },
    {
      "cell_type": "code",
      "execution_count": 5,
      "metadata": {},
      "outputs": [
        {
          "data": {
            "text/plain": [
              "0.6052631578947368"
            ]
          },
          "execution_count": 6,
          "metadata": {},
          "output_type": "execute_result"
        }
      ],
      "source": [
        "from sklearn.tree import DecisionTreeClassifier\n",
        "dec = DecisionTreeClassifier(max_depth=2, random_state=11)\n",
        "dec.fit(X_train, y_train)\n",
        "dec.score(X_test, y_test)"
      ]
    },
    {
      "cell_type": "code",
      "execution_count": 6,
      "metadata": {},
      "outputs": [
        {
          "data": {
            "text/html": [
              "<div id=\"M6650f55904fb461a894b0d7ae7708461-cont\"><div id=\"M6650f55904fb461a894b0d7ae7708461\" style=\"width:100%;height:100%;\"></div></div>\n",
              "<script>\n",
              "\n",
              "require(['http://www.xavierdupre.fr/js/vizjs/viz.js'], function() { var svgGraph = Viz(\"digraph Tree {\\nnode [shape=box, fontsize=10, style=\\\"filled\\\", color=\\\"black\\\"] ;\\n0 [label=\\\"X[1] <= 2.95\\ngini = 0.454\\nsamples = 112\\nvalue = [73, 39]\\\", fillcolor=\\\"#f3c4a3\\\"] ;\\n1 [label=\\\"X[0] <= 7.05\\ngini = 0.429\\nsamples = 45\\nvalue = [14, 31]\\\", fillcolor=\\\"#92c9f1\\\"] ;\\n0 -> 1 [labeldistance=2.5, labelangle=45, headlabel=\\\"True\\\"] ;\\n2 [label=\\\"gini = 0.402\\nsamples = 43\\nvalue = [12, 31]\\\", fillcolor=\\\"#86c3ef\\\"] ;\\n1 -> 2 ;\\n3 [label=\\\"gini = 0.0\\nsamples = 2\\nvalue = [2, 0]\\\", fillcolor=\\\"#e58139\\\"] ;\\n1 -> 3 ;\\n4 [label=\\\"X[1] <= 3.25\\ngini = 0.21\\nsamples = 67\\nvalue = [59, 8]\\\", fillcolor=\\\"#e99254\\\"] ;\\n0 -> 4 [labeldistance=2.5, labelangle=-45, headlabel=\\\"False\\\"] ;\\n5 [label=\\\"gini = 0.375\\nsamples = 32\\nvalue = [24, 8]\\\", fillcolor=\\\"#eeab7b\\\"] ;\\n4 -> 5 ;\\n6 [label=\\\"gini = 0.0\\nsamples = 35\\nvalue = [35, 0]\\\", fillcolor=\\\"#e58139\\\"] ;\\n4 -> 6 ;\\n}\");\n",
              "document.getElementById('M6650f55904fb461a894b0d7ae7708461').innerHTML = svgGraph; });\n",
              "\n",
              "</script>"
            ],
            "text/plain": [
              "<jyquickhelper.jspy.render_nb_js_dot.RenderJsDot at 0x266347eb470>"
            ]
          },
          "execution_count": 7,
          "metadata": {},
          "output_type": "execute_result"
        }
      ],
      "source": [
        "from sklearn.tree import export_graphviz\n",
        "dot = export_graphviz(dec, filled=True)\n",
        "dot = dot.replace(\"shape=box, \", \"shape=box, fontsize=10, \")\n",
        "RenderJsDot(dot)"
      ]
    },
    {
      "cell_type": "markdown",
      "metadata": {},
      "source": [
        "## M\u00eame exemple en r\u00e9seau de neurones"
      ]
    },
    {
      "cell_type": "code",
      "execution_count": 7,
      "metadata": {},
      "outputs": [
        {
          "data": {
            "text/html": [
              "<div id=\"M773dadff0a824c9d9b1fc1985c615678-cont\"><div id=\"M773dadff0a824c9d9b1fc1985c615678\" style=\"width:100%;height:100%;\"></div></div>\n",
              "<script>\n",
              "\n",
              "require(['http://www.xavierdupre.fr/js/vizjs/viz.js'], function() { var svgGraph = Viz(\"digraph Tree {\\nnode [shape=box, fontsize=10];\\nedge [fontsize=8];\\n0 [label=\\\"X[0]\\\"];\\n1 [label=\\\"X[1]\\\"];\\n2 [label=\\\"a=sigmoid4&#92;nid=0 b=2.950000047683716 s=1\\\"];\\n0 -> 2 [label=\\\"0.0\\\", color=grey, fontcolor=grey];\\n1 -> 2 [label=\\\"-1.0\\\", color=red, fontcolor=red];\\n3 [label=\\\"a=identity&#92;nid=1 b=1.0 s=1\\\"];\\n2 -> 3 [label=\\\"-1.0\\\", color=red, fontcolor=red];\\n4 [label=\\\"a=sigmoid4&#92;nid=2 b=7.050000190734863 s=1\\\"];\\n0 -> 4 [label=\\\"-1.0\\\", color=red, fontcolor=red];\\n1 -> 4 [label=\\\"0.0\\\", color=grey, fontcolor=grey];\\n5 [label=\\\"a=sigmoid4&#92;nid=3 b=-1.5 s=1\\\"];\\n2 -> 5 [label=\\\"1.0\\\", color=blue, fontcolor=blue];\\n4 -> 5 [label=\\\"1.0\\\", color=blue, fontcolor=blue];\\n6 [label=\\\"a=sigmoid4&#92;nid=4 b=-0.25 s=1\\\"];\\n2 -> 6 [label=\\\"1.0\\\", color=blue, fontcolor=blue];\\n4 -> 6 [label=\\\"-1.0\\\", color=red, fontcolor=red];\\n7 [label=\\\"a=sigmoid4&#92;nid=5 b=3.25 s=1\\\"];\\n0 -> 7 [label=\\\"0.0\\\", color=grey, fontcolor=grey];\\n1 -> 7 [label=\\\"-1.0\\\", color=red, fontcolor=red];\\n8 [label=\\\"a=sigmoid4&#92;nid=6 b=-1.5 s=1\\\"];\\n3 -> 8 [label=\\\"1.0\\\", color=blue, fontcolor=blue];\\n7 -> 8 [label=\\\"1.0\\\", color=blue, fontcolor=blue];\\n9 [label=\\\"a=sigmoid4&#92;nid=7 b=-0.25 s=1\\\"];\\n3 -> 9 [label=\\\"1.0\\\", color=blue, fontcolor=blue];\\n7 -> 9 [label=\\\"-1.0\\\", color=red, fontcolor=red];\\ns10a11 [label=\\\"a=softmax4&#92;nid=8 b=[-0.5&#92; -0.5] s=2&#92;n<f10> 10|<f11> 11\\\"];\\n6 -> s10a11:f10 [label=\\\"0|1.0\\\", color=blue, fontcolor=blue];\\n6 -> s10a11:f11 [label=\\\"1|0.0\\\", color=grey, fontcolor=grey];\\n8 -> s10a11:f10 [label=\\\"0|1.0\\\", color=blue, fontcolor=blue];\\n8 -> s10a11:f11 [label=\\\"1|0.0\\\", color=grey, fontcolor=grey];\\n9 -> s10a11:f10 [label=\\\"0|1.0\\\", color=blue, fontcolor=blue];\\n9 -> s10a11:f11 [label=\\\"1|0.0\\\", color=grey, fontcolor=grey];\\n5 -> s10a11:f10 [label=\\\"0|0.0\\\", color=grey, fontcolor=grey];\\n5 -> s10a11:f11 [label=\\\"1|1.0\\\", color=blue, fontcolor=blue];\\n}\");\n",
              "document.getElementById('M773dadff0a824c9d9b1fc1985c615678').innerHTML = svgGraph; });\n",
              "\n",
              "</script>"
            ],
            "text/plain": [
              "<jyquickhelper.jspy.render_nb_js_dot.RenderJsDot at 0x26634be8e10>"
            ]
          },
          "execution_count": 8,
          "metadata": {},
          "output_type": "execute_result"
        }
      ],
      "source": [
        "from mlstatpy.ml.neural_tree import NeuralTreeNet\n",
        "net = NeuralTreeNet.create_from_tree(dec)\n",
        "RenderJsDot(net.to_dot())"
      ]
    },
    {
      "cell_type": "markdown",
      "metadata": {},
      "source": [
        "On consid\u00e8re une entr\u00e9e en particulier."
      ]
    },
    {
      "cell_type": "code",
      "execution_count": 8,
      "metadata": {},
      "outputs": [
        {
          "data": {
            "text/plain": [
              "array([[0.27906977, 0.72093023]])"
            ]
          },
          "execution_count": 9,
          "metadata": {},
          "output_type": "execute_result"
        }
      ],
      "source": [
        "n = 60\n",
        "dec.predict_proba(X[n: n+1])"
      ]
    },
    {
      "cell_type": "code",
      "execution_count": 9,
      "metadata": {},
      "outputs": [
        {
          "data": {
            "text/html": [
              "<div id=\"Md184c5294c254f31bce158dc2869f389-cont\"><div id=\"Md184c5294c254f31bce158dc2869f389\" style=\"width:100%;height:100%;\"></div></div>\n",
              "<script>\n",
              "\n",
              "require(['http://www.xavierdupre.fr/js/vizjs/viz.js'], function() { var svgGraph = Viz(\"digraph Tree {\\nnode [shape=box, fontsize=10];\\nedge [fontsize=8];\\n0 [label=\\\"X[0]=\\n5.00\\\"];\\n1 [label=\\\"X[1]=\\n2.00\\\"];\\n2 [label=\\\"a=sigmoid4&#92;nid=0 b=2.950000047683716 s=1&#92;ny=0.9781187331460685\\\"];\\n0 -> 2 [label=\\\"0.0\\\", color=grey, fontcolor=grey];\\n1 -> 2 [label=\\\"-1.0\\\", color=red, fontcolor=red];\\n3 [label=\\\"a=identity&#92;nid=1 b=1.0 s=1&#92;ny=0.021881266853931547\\\"];\\n2 -> 3 [label=\\\"-1.0\\\", color=red, fontcolor=red];\\n4 [label=\\\"a=sigmoid4&#92;nid=2 b=7.050000190734863 s=1&#92;ny=0.9997254220533277\\\"];\\n0 -> 4 [label=\\\"-1.0\\\", color=red, fontcolor=red];\\n1 -> 4 [label=\\\"0.0\\\", color=grey, fontcolor=grey];\\n5 [label=\\\"a=sigmoid4&#92;nid=3 b=-1.5 s=1&#92;ny=0.8711737250556989\\\"];\\n2 -> 5 [label=\\\"1.0\\\", color=blue, fontcolor=blue];\\n4 -> 5 [label=\\\"1.0\\\", color=blue, fontcolor=blue];\\n6 [label=\\\"a=sigmoid4&#92;nid=4 b=-0.25 s=1&#92;ny=0.25229174060726955\\\"];\\n2 -> 6 [label=\\\"1.0\\\", color=blue, fontcolor=blue];\\n4 -> 6 [label=\\\"-1.0\\\", color=red, fontcolor=red];\\n7 [label=\\\"a=sigmoid4&#92;nid=5 b=3.25 s=1&#92;ny=0.9933071490757153\\\"];\\n0 -> 7 [label=\\\"0.0\\\", color=grey, fontcolor=grey];\\n1 -> 7 [label=\\\"-1.0\\\", color=red, fontcolor=red];\\n8 [label=\\\"a=sigmoid4&#92;nid=6 b=-1.5 s=1&#92;ny=0.12573067773059812\\\"];\\n3 -> 8 [label=\\\"1.0\\\", color=blue, fontcolor=blue];\\n7 -> 8 [label=\\\"1.0\\\", color=blue, fontcolor=blue];\\n9 [label=\\\"a=sigmoid4&#92;nid=7 b=-0.25 s=1&#92;ny=0.007497175350461212\\\"];\\n3 -> 9 [label=\\\"1.0\\\", color=blue, fontcolor=blue];\\n7 -> 9 [label=\\\"-1.0\\\", color=red, fontcolor=red];\\ns10a11 [label=\\\"a=softmax4&#92;nid=8 b=[-0.5&#92; -0.5] s=2&#92;ny=[0.12536069 0.87463931]&#92;n<f10> 10|<f11> 11\\\"];\\n6 -> s10a11:f10 [label=\\\"0|1.0\\\", color=blue, fontcolor=blue];\\n6 -> s10a11:f11 [label=\\\"1|0.0\\\", color=grey, fontcolor=grey];\\n8 -> s10a11:f10 [label=\\\"0|1.0\\\", color=blue, fontcolor=blue];\\n8 -> s10a11:f11 [label=\\\"1|0.0\\\", color=grey, fontcolor=grey];\\n9 -> s10a11:f10 [label=\\\"0|1.0\\\", color=blue, fontcolor=blue];\\n9 -> s10a11:f11 [label=\\\"1|0.0\\\", color=grey, fontcolor=grey];\\n5 -> s10a11:f10 [label=\\\"0|0.0\\\", color=grey, fontcolor=grey];\\n5 -> s10a11:f11 [label=\\\"1|1.0\\\", color=blue, fontcolor=blue];\\n}\");\n",
              "document.getElementById('Md184c5294c254f31bce158dc2869f389').innerHTML = svgGraph; });\n",
              "\n",
              "</script>"
            ],
            "text/plain": [
              "<jyquickhelper.jspy.render_nb_js_dot.RenderJsDot at 0x26635b51f28>"
            ]
          },
          "execution_count": 10,
          "metadata": {},
          "output_type": "execute_result"
        }
      ],
      "source": [
        "RenderJsDot(net.to_dot(X=X[n]))"
      ]
    },
    {
      "cell_type": "code",
      "execution_count": 10,
      "metadata": {},
      "outputs": [
        {
          "data": {
            "text/plain": [
              "array([[0.75      , 0.25      ],\n",
              "       [0.75      , 0.25      ],\n",
              "       [0.27906977, 0.72093023],\n",
              "       [1.        , 0.        ],\n",
              "       [0.27906977, 0.72093023]])"
            ]
          },
          "execution_count": 11,
          "metadata": {},
          "output_type": "execute_result"
        }
      ],
      "source": [
        "dec.predict_proba(X_test)[:5]"
      ]
    },
    {
      "cell_type": "code",
      "execution_count": 11,
      "metadata": {},
      "outputs": [
        {
          "data": {
            "text/plain": [
              "array([[0.79156817, 0.20843183],\n",
              "       [0.73646978, 0.26353022],\n",
              "       [0.29946111, 0.70053889],\n",
              "       [0.94070094, 0.05929906],\n",
              "       [0.24924737, 0.75075263]])"
            ]
          },
          "execution_count": 12,
          "metadata": {},
          "output_type": "execute_result"
        }
      ],
      "source": [
        "net.predict(X_test)[:5, -2:]"
      ]
    },
    {
      "cell_type": "code",
      "execution_count": 12,
      "metadata": {},
      "outputs": [
        {
          "data": {
            "text/plain": [
              "array([[1.  , 0.  ],\n",
              "       [0.75, 0.25],\n",
              "       [1.  , 0.  ],\n",
              "       [0.75, 0.25],\n",
              "       [0.75, 0.25]])"
            ]
          },
          "execution_count": 13,
          "metadata": {},
          "output_type": "execute_result"
        }
      ],
      "source": [
        "dec.predict_proba(X_test)[-5:]"
      ]
    },
    {
      "cell_type": "code",
      "execution_count": 13,
      "metadata": {},
      "outputs": [
        {
          "data": {
            "text/plain": [
              "array([[0.93247891, 0.06752109],\n",
              "       [0.86338585, 0.13661415],\n",
              "       [0.98219036, 0.01780964],\n",
              "       [0.98352807, 0.01647193],\n",
              "       [0.73646978, 0.26353022]])"
            ]
          },
          "execution_count": 14,
          "metadata": {},
          "output_type": "execute_result"
        }
      ],
      "source": [
        "net.predict(X_test)[-5:, -2:]"
      ]
    },
    {
      "cell_type": "markdown",
      "metadata": {},
      "source": [
        "## Apprentissage\n",
        "\n",
        "La prochaine \u00e9tape est de pouvoir am\u00e9liorer les performances du mod\u00e8les avec un algorithme du gradient."
      ]
    },
    {
      "cell_type": "code",
      "execution_count": 14,
      "metadata": {},
      "outputs": [],
      "source": []
    }
  ],
  "metadata": {
    "kernelspec": {
      "display_name": "Python 3",
      "language": "python",
      "name": "python3"
    },
    "language_info": {
      "codemirror_mode": {
        "name": "ipython",
        "version": 3
      },
      "file_extension": ".py",
      "mimetype": "text/x-python",
      "name": "python",
      "nbconvert_exporter": "python",
      "pygments_lexer": "ipython3",
      "version": "3.7.2"
    }
  },
  "nbformat": 4,
  "nbformat_minor": 4
}